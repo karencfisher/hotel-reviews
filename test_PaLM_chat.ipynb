{
 "cells": [
  {
   "cell_type": "code",
   "execution_count": 1,
   "metadata": {},
   "outputs": [],
   "source": [
    "import os\n",
    "import sys\n",
    "import re\n",
    "import json\n",
    "from pprint import pprint\n",
    "from dotenv import load_dotenv\n",
    "import google.generativeai as palm\n",
    "\n",
    "sys.path.append('..')\n",
    "from backend.DB.db import Database"
   ]
  },
  {
   "cell_type": "code",
   "execution_count": 2,
   "metadata": {},
   "outputs": [],
   "source": [
    "load_dotenv()\n",
    "api_key = os.getenv('PALM_API_KEY')\n",
    "palm.configure(api_key=api_key)"
   ]
  },
  {
   "cell_type": "code",
   "execution_count": 3,
   "metadata": {},
   "outputs": [
    {
     "name": "stdout",
     "output_type": "stream",
     "text": [
      "models/text-bison-001\n"
     ]
    }
   ],
   "source": [
    "models = [m for m in palm.list_models() if 'generateText' in m.supported_generation_methods]\n",
    "model = models[0].name\n",
    "print(model)"
   ]
  },
  {
   "cell_type": "code",
   "execution_count": 4,
   "metadata": {},
   "outputs": [
    {
     "name": "stdout",
     "output_type": "stream",
     "text": [
      "Your task is to analyze and summarize salient points under each topic from\n",
      "a review. These are your tasks:\n",
      "\n",
      "* Indicate if a topic is mentioned in the review: true or false\n",
      "\n",
      "* Evaluate if the guest was angry about that aspect of their stay:  true or false.\n",
      "\n",
      "* Evaluate the sentiment on a scale of 1 to 5. Scale is:\n",
      "\n",
      "0 - Not applicable\n",
      "1 - very negative\n",
      "2 - negative\n",
      "3 - neutral\n",
      "4 - positive\n",
      "5 - very positive\n",
      "\n",
      "* Summarize the guest's comments on the topic, in 2 - 3 sentences.\n",
      "\n",
      "Analyze the review below as instructed above, delimited by triple \n",
      "ticks. Format as JSON, exactly as follows. Include all topics and key/value pairs.\n",
      "\n",
      "{topic : {\"Relevant\": value, \"Angry\": value, \"Sentiment\": value, \"Summary\": summary}}\n",
      "\n",
      "Topics = ['amenities', 'frontdesk service', 'hotel condition', 'housekeeping', 'value']\n",
      "\n"
     ]
    }
   ],
   "source": [
    "db = Database()\n",
    "\n",
    "sql = '''\n",
    "SELECT topic_name FROM topics\n",
    "WHERE category = \"hotel\";\n",
    "'''\n",
    "\n",
    "topics = db.query_sql(sql)\n",
    "topics = [item[0] for item in topics]\n",
    "\n",
    "with open(os.path.join('backend', 'gpt-instructions.txt'), 'r') as FILE:\n",
    "    instructions = FILE.read()\n",
    "\n",
    "instructions = instructions.replace('%%topic_list%%', str(topics))\n",
    "print(instructions)"
   ]
  },
  {
   "cell_type": "code",
   "execution_count": 17,
   "metadata": {},
   "outputs": [
    {
     "name": "stdout",
     "output_type": "stream",
     "text": [
      "('Convenient location to Arches National Park and the Moab Utah Airport. We '\n",
      " \"read the great reviews about the Hyatt Place Moab and we're extremely \"\n",
      " \"pleased that the hotel exceeded our expectations. I didn't know about the \"\n",
      " 'complimentary breakfast until we arrived. And you can enjoy dinner at the '\n",
      " 'on-site restaurant as well, I believe. The staff is friendly and helpful.')\n",
      "==========================\n",
      "\n",
      "{'amenities': {'Angry': False,\n",
      "               'Relevant': True,\n",
      "               'Sentiment': 4,\n",
      "               'Summary': 'The hotel has a variety of amenities, including a '\n",
      "                          'complimentary breakfast, an on-site restaurant, and '\n",
      "                          'a fitness center.'},\n",
      " 'frontdesk service': {'Angry': False,\n",
      "                       'Relevant': True,\n",
      "                       'Sentiment': 5,\n",
      "                       'Summary': 'The front desk staff is friendly and '\n",
      "                                  'helpful.'},\n",
      " 'hotel condition': {'Angry': False,\n",
      "                     'Relevant': True,\n",
      "                     'Sentiment': 5,\n",
      "                     'Summary': 'The hotel is clean and well-maintained.'},\n",
      " 'housekeeping': {'Angry': False,\n",
      "                  'Relevant': True,\n",
      "                  'Sentiment': 5,\n",
      "                  'Summary': 'The housekeeping staff is attentive and does a '\n",
      "                             'great job keeping the rooms clean.'},\n",
      " 'value': {'Angry': False,\n",
      "           'Relevant': True,\n",
      "           'Sentiment': 5,\n",
      "           'Summary': 'The hotel is a great value for the price.'}}\n"
     ]
    }
   ],
   "source": [
    "results = db.query('raw_reviews')\n",
    "review = f\"{results[2]['title']}. {results[2]['review_text']}\"\n",
    "pprint(review)\n",
    "print('==========================\\n')\n",
    "\n",
    "completion = palm.chat(\n",
    "    context=instructions,\n",
    "    messages=[{'author': '0', 'content': review}],\n",
    "    temperature=0\n",
    ")\n",
    "\n",
    "pattern = re.compile(r'{(?:[^{}]|((?:{[^{}]*})+))*}')\n",
    "match = pattern.search(completion.last)\n",
    "read_review = match.group()\n",
    "\n",
    "read_review = read_review.replace('\\n', '')\n",
    "read_review = read_review.replace('\\\\', '')\n",
    "\n",
    "pprint(json.loads(read_review))"
   ]
  }
 ],
 "metadata": {
  "kernelspec": {
   "display_name": "hotel-reviews",
   "language": "python",
   "name": "python3"
  },
  "language_info": {
   "codemirror_mode": {
    "name": "ipython",
    "version": 3
   },
   "file_extension": ".py",
   "mimetype": "text/x-python",
   "name": "python",
   "nbconvert_exporter": "python",
   "pygments_lexer": "ipython3",
   "version": "3.9.16"
  },
  "orig_nbformat": 4
 },
 "nbformat": 4,
 "nbformat_minor": 2
}
