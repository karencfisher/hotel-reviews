{
 "cells": [
  {
   "cell_type": "code",
   "execution_count": 1,
   "metadata": {},
   "outputs": [],
   "source": [
    "import os\n",
    "import sys\n",
    "import re\n",
    "import json\n",
    "from pprint import pprint\n",
    "from dotenv import load_dotenv\n",
    "import google.generativeai as palm\n",
    "\n",
    "sys.path.append('..')\n",
    "from backend.DB.db import Database"
   ]
  },
  {
   "cell_type": "code",
   "execution_count": 2,
   "metadata": {},
   "outputs": [],
   "source": [
    "load_dotenv()\n",
    "api_key = os.getenv('PALM_API_KEY')\n",
    "palm.configure(api_key=api_key)"
   ]
  },
  {
   "cell_type": "code",
   "execution_count": 3,
   "metadata": {},
   "outputs": [
    {
     "name": "stdout",
     "output_type": "stream",
     "text": [
      "models/text-bison-001\n"
     ]
    }
   ],
   "source": [
    "models = [m for m in palm.list_models() if 'generateText' in m.supported_generation_methods]\n",
    "model = models[0].name\n",
    "print(model)"
   ]
  },
  {
   "cell_type": "code",
   "execution_count": 4,
   "metadata": {},
   "outputs": [
    {
     "name": "stdout",
     "output_type": "stream",
     "text": [
      "Your task is to analyze and summarize salient points under each topic from\n",
      "a review. These are your tasks:\n",
      "\n",
      "* Indicate if a topic is mentioned in the review: true or false\n",
      "\n",
      "* Evaluate if the guest was angry about that aspect of their stay:  true or false.\n",
      "\n",
      "* Evaluate the sentiment on a scale of 1 to 5. Scale is:\n",
      "\n",
      "0 - Not applicable\n",
      "1 - very negative\n",
      "2 - negative\n",
      "3 - neutral\n",
      "4 - positive\n",
      "5 - very positive\n",
      "\n",
      "* Summarize the guest's comments on the topic, in 2 - 3 sentences.\n",
      "\n",
      "Analyze the review below as instructed above, delimited by triple \n",
      "ticks. Format as JSON, exactly as follows. Include all topics and key/value pairs.\n",
      "\n",
      "{topic : {\"Relevant\": value, \"Angry\": value, \"Sentiment\": value, \"Summary\": summary}}\n",
      "\n",
      "Topics = ['amenities', 'frontdesk service', 'hotel condition', 'housekeeping', 'value']\n",
      "\n"
     ]
    }
   ],
   "source": [
    "db = Database()\n",
    "\n",
    "sql = '''\n",
    "SELECT topic_name FROM topics\n",
    "WHERE category = \"hotel\";\n",
    "'''\n",
    "\n",
    "topics = db.query_sql(sql)\n",
    "topics = [item[0] for item in topics]\n",
    "\n",
    "with open(os.path.join('backend', 'gpt-instructions.txt'), 'r') as FILE:\n",
    "    instructions = FILE.read()\n",
    "\n",
    "instructions = instructions.replace('%%topic_list%%', str(topics))\n",
    "print(instructions)"
   ]
  },
  {
   "cell_type": "code",
   "execution_count": 6,
   "metadata": {},
   "outputs": [
    {
     "name": "stdout",
     "output_type": "stream",
     "text": [
      "('Roaches everywhere! Avoid!. Our entire building was infested with baby '\n",
      " 'roaches. They were all over the outside of the building and landing on us as '\n",
      " 'we entered our room. Once inside, we found that they were all over the '\n",
      " 'inside of our room in the curtains, bed covers, and air vents.  We were in a '\n",
      " 'second floor room and they were all the way up to the roofing.  We left as '\n",
      " 'this was just absolutely disgusting.  I could not imagine closing my eyes '\n",
      " 'and going to sleep there.  We would not recommend this place even to people '\n",
      " 'we don’t like!')\n",
      "==========================\n",
      "\n",
      "{'amenities': {'Angry': True,\n",
      "               'Relevant': True,\n",
      "               'Sentiment': 1,\n",
      "               'Summary': 'The hotel had no amenities. There was no pool, no '\n",
      "                          'gym, and no restaurant. The only thing they had was '\n",
      "                          'a vending machine.'},\n",
      " 'frontdesk service': {'Angry': False,\n",
      "                       'Relevant': False,\n",
      "                       'Sentiment': 0,\n",
      "                       'Summary': 'The front desk staff was friendly and '\n",
      "                                  'helpful.'},\n",
      " 'hotel condition': {'Angry': True,\n",
      "                     'Relevant': True,\n",
      "                     'Sentiment': 1,\n",
      "                     'Summary': 'The hotel was in very poor condition. The '\n",
      "                                'walls were dirty, the carpets were stained, '\n",
      "                                'and the furniture was old and worn. There was '\n",
      "                                'also a strong smell of mildew in the air.'},\n",
      " 'housekeeping': {'Angry': True,\n",
      "                  'Relevant': True,\n",
      "                  'Sentiment': 1,\n",
      "                  'Summary': 'The housekeeping staff did not clean our room '\n",
      "                             'properly. There were still dirty dishes in the '\n",
      "                             'sink and the bed was not made when we arrived. '\n",
      "                             'We had to ask for them to come back and clean '\n",
      "                             'the room again.'},\n",
      " 'value': {'Angry': True,\n",
      "           'Relevant': True,\n",
      "           'Sentiment': 1,\n",
      "           'Summary': \"We did not feel that we got our money's worth at this \"\n",
      "                      'hotel. The room was very expensive, but it was not '\n",
      "                      'clean or comfortable. We would not recommend this hotel '\n",
      "                      'to anyone.'}}\n"
     ]
    }
   ],
   "source": [
    "results = db.query('raw_reviews')\n",
    "review = f\"{results[7]['title']}. {results[7]['review_text']}\"\n",
    "pprint(review)\n",
    "print('==========================\\n')\n",
    "prompt = f'{instructions}\\n\\n=======================\\n\\n{review}'\n",
    "\n",
    "completion = palm.chat(\n",
    "    messages=[{'author': '0', 'content': prompt}],\n",
    "    temperature=0\n",
    ")\n",
    "\n",
    "pattern = re.compile(r'{(?:[^{}]|((?:{[^{}]*})+))*}')\n",
    "match = pattern.search(completion.last)\n",
    "read_review = match.group()\n",
    "\n",
    "read_review = read_review.replace('\\n', '')\n",
    "read_review = read_review.replace('\\\\', '')\n",
    "\n",
    "pprint(json.loads(read_review))"
   ]
  }
 ],
 "metadata": {
  "kernelspec": {
   "display_name": "hotel-reviews",
   "language": "python",
   "name": "python3"
  },
  "language_info": {
   "codemirror_mode": {
    "name": "ipython",
    "version": 3
   },
   "file_extension": ".py",
   "mimetype": "text/x-python",
   "name": "python",
   "nbconvert_exporter": "python",
   "pygments_lexer": "ipython3",
   "version": "3.9.16"
  },
  "orig_nbformat": 4
 },
 "nbformat": 4,
 "nbformat_minor": 2
}
