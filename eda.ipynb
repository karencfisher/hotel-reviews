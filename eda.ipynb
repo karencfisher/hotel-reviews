{
 "cells": [
  {
   "cell_type": "code",
   "execution_count": 15,
   "metadata": {},
   "outputs": [],
   "source": [
    "import os\n",
    "import sys\n",
    "import matplotlib.pyplot as plt\n",
    "import pandas as pd\n",
    "from pprint import pprint\n",
    "\n",
    "sys.path.append('..')\n",
    "from backend.DB.db import Database"
   ]
  },
  {
   "cell_type": "code",
   "execution_count": 3,
   "metadata": {},
   "outputs": [],
   "source": [
    "db = Database()"
   ]
  },
  {
   "attachments": {},
   "cell_type": "markdown",
   "metadata": {},
   "source": [
    "### Aggregation of review sentiments by topic"
   ]
  },
  {
   "cell_type": "code",
   "execution_count": 4,
   "metadata": {},
   "outputs": [
    {
     "data": {
      "text/html": [
       "<div>\n",
       "<style scoped>\n",
       "    .dataframe tbody tr th:only-of-type {\n",
       "        vertical-align: middle;\n",
       "    }\n",
       "\n",
       "    .dataframe tbody tr th {\n",
       "        vertical-align: top;\n",
       "    }\n",
       "\n",
       "    .dataframe thead th {\n",
       "        text-align: right;\n",
       "    }\n",
       "</style>\n",
       "<table border=\"1\" class=\"dataframe\">\n",
       "  <thead>\n",
       "    <tr style=\"text-align: right;\">\n",
       "      <th></th>\n",
       "      <th>topic</th>\n",
       "      <th>num_reviews</th>\n",
       "      <th>avg_sentiment</th>\n",
       "      <th>max_sentiment</th>\n",
       "      <th>min_sentiment</th>\n",
       "      <th>angry_guests</th>\n",
       "    </tr>\n",
       "  </thead>\n",
       "  <tbody>\n",
       "    <tr>\n",
       "      <th>0</th>\n",
       "      <td>housekeeping</td>\n",
       "      <td>20</td>\n",
       "      <td>3.400000</td>\n",
       "      <td>5</td>\n",
       "      <td>0</td>\n",
       "      <td>3</td>\n",
       "    </tr>\n",
       "    <tr>\n",
       "      <th>1</th>\n",
       "      <td>hotel condition</td>\n",
       "      <td>25</td>\n",
       "      <td>3.840000</td>\n",
       "      <td>5</td>\n",
       "      <td>1</td>\n",
       "      <td>1</td>\n",
       "    </tr>\n",
       "    <tr>\n",
       "      <th>2</th>\n",
       "      <td>value</td>\n",
       "      <td>28</td>\n",
       "      <td>3.857143</td>\n",
       "      <td>5</td>\n",
       "      <td>1</td>\n",
       "      <td>1</td>\n",
       "    </tr>\n",
       "    <tr>\n",
       "      <th>3</th>\n",
       "      <td>amenities</td>\n",
       "      <td>28</td>\n",
       "      <td>3.892857</td>\n",
       "      <td>5</td>\n",
       "      <td>1</td>\n",
       "      <td>0</td>\n",
       "    </tr>\n",
       "    <tr>\n",
       "      <th>4</th>\n",
       "      <td>frontdesk service</td>\n",
       "      <td>24</td>\n",
       "      <td>4.083333</td>\n",
       "      <td>5</td>\n",
       "      <td>1</td>\n",
       "      <td>2</td>\n",
       "    </tr>\n",
       "  </tbody>\n",
       "</table>\n",
       "</div>"
      ],
      "text/plain": [
       "               topic  num_reviews  avg_sentiment  max_sentiment  \\\n",
       "0       housekeeping           20       3.400000              5   \n",
       "1    hotel condition           25       3.840000              5   \n",
       "2              value           28       3.857143              5   \n",
       "3          amenities           28       3.892857              5   \n",
       "4  frontdesk service           24       4.083333              5   \n",
       "\n",
       "   min_sentiment  angry_guests  \n",
       "0              0             3  \n",
       "1              1             1  \n",
       "2              1             1  \n",
       "3              1             0  \n",
       "4              1             2  "
      ]
     },
     "execution_count": 4,
     "metadata": {},
     "output_type": "execute_result"
    }
   ],
   "source": [
    "sql = '''\n",
    "SELECT topic_name, \n",
    "       COUNT(review_id) as num_reviews,\n",
    "       AVG(sentiment) as mean_sentiment,\n",
    "       MAX(sentiment) as max_sentiment,\n",
    "       MIN(sentiment) as min_sentiment,\n",
    "       SUM(angry) as count_angry \n",
    "FROM cooked_reviews\n",
    "WHERE relevant = true\n",
    "GROUP BY topic_name\n",
    "ORDER BY mean_sentiment ASC\n",
    "'''\n",
    "\n",
    "results = db.query_sql(sql)\n",
    "result_set = [{'topic': row[0], \n",
    "               'num_reviews': row[1],\n",
    "               'avg_sentiment': row[2],\n",
    "               'max_sentiment': row[3],\n",
    "               'min_sentiment': row[4],\n",
    "               'angry_guests': row[5]} for row in results]\n",
    "results_df = pd.DataFrame(result_set)\n",
    "results_df"
   ]
  },
  {
   "attachments": {},
   "cell_type": "markdown",
   "metadata": {},
   "source": [
    "How many are angry under each topic?"
   ]
  },
  {
   "cell_type": "code",
   "execution_count": 5,
   "metadata": {},
   "outputs": [
    {
     "data": {
      "image/png": "[encoded data removed]",
      "text/plain": [
       "<Figure size 640x480 with 1 Axes>"
      ]
     },
     "metadata": {},
     "output_type": "display_data"
    }
   ],
   "source": [
    "plt.barh(results_df['topic'], results_df['angry_guests'])\n",
    "plt.title('Angry guests by topic')\n",
    "plt.show()"
   ]
  },
  {
   "attachments": {},
   "cell_type": "markdown",
   "metadata": {},
   "source": [
    "### Distribution of sentiments for each topic"
   ]
  },
  {
   "cell_type": "code",
   "execution_count": 33,
   "metadata": {},
   "outputs": [
    {
     "data": {
      "image/png": "[encoded data removed]",
      "text/plain": [
       "<Figure size 640x480 with 6 Axes>"
      ]
     },
     "metadata": {},
     "output_type": "display_data"
    }
   ],
   "source": [
    "sql = '''\n",
    "SELECT topic_name, sentiment\n",
    "FROM cooked_reviews\n",
    "WHERE relevant = true\n",
    "ORDER BY topic_name;\n",
    "'''\n",
    "\n",
    "results = db.query_sql(sql)\n",
    "data = [{'topic': t, 'sentiment': s} for t, s in results]\n",
    "sentiments_df = pd.DataFrame(data)\n",
    "\n",
    "sentiments_grouped = sentiments_df.groupby(by='topic')\n",
    "sentiments_grouped.boxplot()\n",
    "plt.tight_layout()\n",
    "plt.title(\"Sentiment by topic\")\n",
    "plt.show()"
   ]
  },
  {
   "attachments": {},
   "cell_type": "markdown",
   "metadata": {},
   "source": [
    "### Angry Guests\n",
    "\n",
    "Look at categorized reviews flagged as guest being angry from sentiment analysis by GPT"
   ]
  },
  {
   "cell_type": "code",
   "execution_count": 28,
   "metadata": {},
   "outputs": [
    {
     "data": {
      "text/html": [
       "<div>\n",
       "<style scoped>\n",
       "    .dataframe tbody tr th:only-of-type {\n",
       "        vertical-align: middle;\n",
       "    }\n",
       "\n",
       "    .dataframe tbody tr th {\n",
       "        vertical-align: top;\n",
       "    }\n",
       "\n",
       "    .dataframe thead th {\n",
       "        text-align: right;\n",
       "    }\n",
       "</style>\n",
       "<table border=\"1\" class=\"dataframe\">\n",
       "  <thead>\n",
       "    <tr style=\"text-align: right;\">\n",
       "      <th></th>\n",
       "      <th>place</th>\n",
       "      <th>review_source</th>\n",
       "      <th>review_id</th>\n",
       "      <th>topic</th>\n",
       "      <th>sentiment</th>\n",
       "      <th>summary</th>\n",
       "    </tr>\n",
       "  </thead>\n",
       "  <tbody>\n",
       "    <tr>\n",
       "      <th>0</th>\n",
       "      <td>Hotel Moab Downtown</td>\n",
       "      <td>tripadvisor</td>\n",
       "      <td>862481775</td>\n",
       "      <td>housekeeping</td>\n",
       "      <td>very bad</td>\n",
       "      <td>The guest had to clean the room when they got ...</td>\n",
       "    </tr>\n",
       "    <tr>\n",
       "      <th>1</th>\n",
       "      <td>Hampton Inn</td>\n",
       "      <td>tripadvisor</td>\n",
       "      <td>888445411</td>\n",
       "      <td>frontdesk service</td>\n",
       "      <td>bad</td>\n",
       "      <td>The hotel does not allow guests to select thei...</td>\n",
       "    </tr>\n",
       "    <tr>\n",
       "      <th>2</th>\n",
       "      <td>Hampton Inn</td>\n",
       "      <td>tripadvisor</td>\n",
       "      <td>888445411</td>\n",
       "      <td>housekeeping</td>\n",
       "      <td>bad</td>\n",
       "      <td>The breakfast trays were not refilled properly...</td>\n",
       "    </tr>\n",
       "    <tr>\n",
       "      <th>3</th>\n",
       "      <td>Hampton Inn</td>\n",
       "      <td>tripadvisor</td>\n",
       "      <td>886905031</td>\n",
       "      <td>frontdesk service</td>\n",
       "      <td>bad</td>\n",
       "      <td>The guest had a negative experience during che...</td>\n",
       "    </tr>\n",
       "    <tr>\n",
       "      <th>4</th>\n",
       "      <td>Hotel Moab Downtown</td>\n",
       "      <td>tripadvisor</td>\n",
       "      <td>841352567</td>\n",
       "      <td>hotel condition</td>\n",
       "      <td>very bad</td>\n",
       "      <td>The guest reported that the hotel was infested...</td>\n",
       "    </tr>\n",
       "    <tr>\n",
       "      <th>5</th>\n",
       "      <td>Hotel Moab Downtown</td>\n",
       "      <td>tripadvisor</td>\n",
       "      <td>841352567</td>\n",
       "      <td>housekeeping</td>\n",
       "      <td>very bad</td>\n",
       "      <td>The guest did not mention anything about house...</td>\n",
       "    </tr>\n",
       "    <tr>\n",
       "      <th>6</th>\n",
       "      <td>Hotel Moab Downtown</td>\n",
       "      <td>tripadvisor</td>\n",
       "      <td>841352567</td>\n",
       "      <td>value</td>\n",
       "      <td>very bad</td>\n",
       "      <td>The guest would not recommend this place even ...</td>\n",
       "    </tr>\n",
       "  </tbody>\n",
       "</table>\n",
       "</div>"
      ],
      "text/plain": [
       "                 place review_source  review_id              topic sentiment  \\\n",
       "0  Hotel Moab Downtown   tripadvisor  862481775       housekeeping  very bad   \n",
       "1          Hampton Inn   tripadvisor  888445411  frontdesk service       bad   \n",
       "2          Hampton Inn   tripadvisor  888445411       housekeeping       bad   \n",
       "3          Hampton Inn   tripadvisor  886905031  frontdesk service       bad   \n",
       "4  Hotel Moab Downtown   tripadvisor  841352567    hotel condition  very bad   \n",
       "5  Hotel Moab Downtown   tripadvisor  841352567       housekeeping  very bad   \n",
       "6  Hotel Moab Downtown   tripadvisor  841352567              value  very bad   \n",
       "\n",
       "                                             summary  \n",
       "0  The guest had to clean the room when they got ...  \n",
       "1  The hotel does not allow guests to select thei...  \n",
       "2  The breakfast trays were not refilled properly...  \n",
       "3  The guest had a negative experience during che...  \n",
       "4  The guest reported that the hotel was infested...  \n",
       "5  The guest did not mention anything about house...  \n",
       "6  The guest would not recommend this place even ...  "
      ]
     },
     "execution_count": 28,
     "metadata": {},
     "output_type": "execute_result"
    }
   ],
   "source": [
    "sql = '''\n",
    "SELECT l.location_description, cr.source_name, cr.review_id, cr.topic_name, cr.sentiment, cr.summary\n",
    "FROM cooked_reviews AS cr\n",
    "JOIN locations as l\n",
    "ON cr.source_name = l.source_name AND  cr.locations_location = l.locations_location\n",
    "WHERE cr.angry > 0;\n",
    "'''\n",
    "\n",
    "results = db.query_sql(sql)\n",
    "result_set = [{'place': row[0], \n",
    "               'review_source': row[1],\n",
    "               'review_id': row[2],\n",
    "            'topic': row[3],\n",
    "            'sentiment': row[4],\n",
    "            'summary': row[5]} for row in results]\n",
    "results_df = pd.DataFrame(result_set)\n",
    "\n",
    "sents = ['N/A', 'very bad', 'bad', 'neutral', 'good', 'very good']\n",
    "results_df['sentiment'] = results_df['sentiment'].apply(lambda x: sents[x])\n",
    "results_df"
   ]
  },
  {
   "attachments": {},
   "cell_type": "markdown",
   "metadata": {},
   "source": [
    "Make it into a sort of report"
   ]
  },
  {
   "cell_type": "code",
   "execution_count": 32,
   "metadata": {},
   "outputs": [
    {
     "name": "stdout",
     "output_type": "stream",
     "text": [
      "Place: Hotel Moab Downtown\n",
      "Topic: housekeeping\n",
      "Sentiment: very bad\n",
      "Source: tripadvisor\n",
      "Review_ID: 862481775\n",
      "Summary:\n",
      "('The guest had to clean the room when they got there. The remote was dirty '\n",
      " 'and sticky. Nightstand and desk have not been cleaned with cleaners in a '\n",
      " 'while. Janitorial took this rating down. The guest should not have to go to '\n",
      " 'city market on vacation and buy cleaning sprays to stay in a room.')\n",
      "================================\n",
      "\n",
      "Place: Hampton Inn\n",
      "Topic: frontdesk service\n",
      "Sentiment: bad\n",
      "Source: tripadvisor\n",
      "Review_ID: 888445411\n",
      "Summary:\n",
      "('The hotel does not allow guests to select their own room and collects the '\n",
      " 'resort fee at the front desk, causing inconvenience.')\n",
      "================================\n",
      "\n",
      "Place: Hampton Inn\n",
      "Topic: housekeeping\n",
      "Sentiment: bad\n",
      "Source: tripadvisor\n",
      "Review_ID: 888445411\n",
      "Summary:\n",
      "('The breakfast trays were not refilled properly and guests were not informed '\n",
      " 'that food would stop being served before the end of breakfast.')\n",
      "================================\n",
      "\n",
      "Place: Hampton Inn\n",
      "Topic: frontdesk service\n",
      "Sentiment: bad\n",
      "Source: tripadvisor\n",
      "Review_ID: 886905031\n",
      "Summary:\n",
      "('The guest had a negative experience during check-in as the manager informed '\n",
      " 'them that the systems were not updated and they had to check-in '\n",
      " 'traditionally. The keys were also giving trouble.')\n",
      "================================\n",
      "\n",
      "Place: Hotel Moab Downtown\n",
      "Topic: hotel condition\n",
      "Sentiment: very bad\n",
      "Source: tripadvisor\n",
      "Review_ID: 841352567\n",
      "Summary:\n",
      "('The guest reported that the hotel was infested with baby roaches and they '\n",
      " 'were all over the outside and inside of the building, including the '\n",
      " 'curtains, bed covers, and air vents. They found it absolutely disgusting and '\n",
      " 'left the hotel.')\n",
      "================================\n",
      "\n",
      "Place: Hotel Moab Downtown\n",
      "Topic: housekeeping\n",
      "Sentiment: very bad\n",
      "Source: tripadvisor\n",
      "Review_ID: 841352567\n",
      "Summary:\n",
      "'The guest did not mention anything about housekeeping in their review.'\n",
      "================================\n",
      "\n",
      "Place: Hotel Moab Downtown\n",
      "Topic: value\n",
      "Sentiment: very bad\n",
      "Source: tripadvisor\n",
      "Review_ID: 841352567\n",
      "Summary:\n",
      "('The guest would not recommend this place even to people they don’t like due '\n",
      " 'to the infestation of baby roaches, indicating that they did not find the '\n",
      " 'value of their stay to be worth it.')\n",
      "================================\n",
      "\n"
     ]
    }
   ],
   "source": [
    "for index, data in results_df.iterrows():\n",
    "    print(f'Place: {data[\"place\"]}\\nTopic: {data[\"topic\"]}\\nSentiment: {data[\"sentiment\"]}')\n",
    "    print(f'Source: {data[\"review_source\"]}\\nReview_ID: {data[\"review_id\"]}')\n",
    "    print('Summary:')\n",
    "    pprint(data[\"summary\"])\n",
    "    print('================================\\n')\n",
    "    \n"
   ]
  },
  {
   "cell_type": "code",
   "execution_count": 37,
   "metadata": {},
   "outputs": [
    {
     "name": "stdout",
     "output_type": "stream",
     "text": [
      "Okay place to stay -- Guest Rating 3 stars\n",
      "('Our stay was okay, check in was good but I am not sure all rooms have been '\n",
      " 'upgraded, ours may have been half done. Shower was good, seemed like it had '\n",
      " 'a new insert and shower heads. Carpet was worn, beds fine. Fridge did not '\n",
      " 'get very cold although it was turned up all the way. Why a three star, we '\n",
      " 'had to clean the room when we got there.  The remote was dirty and sticky. '\n",
      " 'Night stand and desk have not been cleaned with cleaners in a while. I '\n",
      " 'should not have to go to city market on vacation and by cleaning sprays to '\n",
      " 'stay in a room. Janitorial took this rating down. Also the blinds had to be '\n",
      " 'lined up to block out the residents in the back of our room. Get better '\n",
      " 'window coverings.')\n"
     ]
    }
   ],
   "source": [
    "sql = '''\n",
    "SELECT title, review_text, rating FROM raw_reviews\n",
    "WHERE review_id = 862481775 AND source_name = \"tripadvisor\";\n",
    "'''\n",
    "\n",
    "results = list(db.query_sql(sql))\n",
    "print(f'{results[0][0]} -- Guest Rating {results[0][2]} stars')\n",
    "pprint(results[0][1])"
   ]
  }
 ],
 "metadata": {
  "kernelspec": {
   "display_name": "hr-env",
   "language": "python",
   "name": "python3"
  },
  "language_info": {
   "codemirror_mode": {
    "name": "ipython",
    "version": 3
   },
   "file_extension": ".py",
   "mimetype": "text/x-python",
   "name": "python",
   "nbconvert_exporter": "python",
   "pygments_lexer": "ipython3",
   "version": "3.8.8"
  },
  "orig_nbformat": 4
 },
 "nbformat": 4,
 "nbformat_minor": 2
}
