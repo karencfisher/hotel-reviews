{
  "nbformat": 4,
  "nbformat_minor": 0,
  "metadata": {
    "colab": {
      "name": "exploration.ipynb",
      "provenance": [],
      "authorship_tag": "ABX9TyPx8je5iuOX4TJAj2Q+0sFG",
      "include_colab_link": true
    },
    "kernelspec": {
      "name": "python3",
      "display_name": "Python 3"
    },
    "language_info": {
      "name": "python"
    }
  },
  "cells": [
    {
      "cell_type": "markdown",
      "metadata": {
        "id": "view-in-github",
        "colab_type": "text"
      },
      "source": [
        "<a href=\"https://colab.research.google.com/github/karencfisher/hotel-reviews/blob/main/notebooks/exploration.ipynb\" target=\"_parent\"><img src=\"https://colab.research.google.com/assets/colab-badge.svg\" alt=\"Open In Colab\"/></a>"
      ]
    },
    {
      "cell_type": "code",
      "execution_count": 1,
      "metadata": {
        "id": "oRtsaSuzqFQY"
      },
      "outputs": [],
      "source": [
        "from tensorflow.python.keras.utils.version_utils import TensorBoardVersionSelector\n",
        "import pandas as pd\n",
        "import numpy as np\n",
        "import re\n",
        "import datetime\n",
        "import nltk\n",
        "import matplotlib.pyplot as plt\n",
        "\n",
        "from nltk.corpus import stopwords"
      ]
    },
    {
      "cell_type": "code",
      "source": [
        "from google.colab import drive\n",
        "drive.mount('/content/drive')\n",
        "\n",
        "df_reviews = pd.read_csv('/content/drive/MyDrive/hotel_reviews/reviews.csv')\n",
        "\n"
      ],
      "metadata": {
        "colab": {
          "base_uri": "https://localhost:8080/"
        },
        "id": "u5rDJm_bqPLb",
        "outputId": "e0641256-9952-42ab-c4f3-5b3792280a4c"
      },
      "execution_count": 61,
      "outputs": [
        {
          "output_type": "stream",
          "name": "stdout",
          "text": [
            "Drive already mounted at /content/drive; to attempt to forcibly remount, call drive.mount(\"/content/drive\", force_remount=True).\n"
          ]
        }
      ]
    },
    {
      "cell_type": "code",
      "source": [
        "# Drop date and reviewID columns\n",
        "df_reviews.drop(columns=['Date', 'ReviewID'], inplace=True)\n",
        "\n",
        "# Add column for average score (averaging ratings for each review)\n",
        "cols = df_reviews.columns[:7]\n",
        "df_reviews['average_score'] = df_reviews[cols].mean(axis=1).astype(int)\n",
        "\n",
        "# Drop individual category ratings\n",
        "df_reviews.drop(columns=cols, inplace=True)"
      ],
      "metadata": {
        "id": "XOiI9_AP9n3C"
      },
      "execution_count": 62,
      "outputs": []
    },
    {
      "cell_type": "code",
      "source": [
        "df_reviews.head()"
      ],
      "metadata": {
        "colab": {
          "base_uri": "https://localhost:8080/",
          "height": 206
        },
        "id": "MQPr-I9Jrjj2",
        "outputId": "88b1ecb6-f74a-4631-ee6e-9cf051700d83"
      },
      "execution_count": 63,
      "outputs": [
        {
          "output_type": "execute_result",
          "data": {
            "text/html": [
              "\n",
              "  <div id=\"df-4165169f-e9a0-4c28-acac-111055e1b40c\">\n",
              "    <div class=\"colab-df-container\">\n",
              "      <div>\n",
              "<style scoped>\n",
              "    .dataframe tbody tr th:only-of-type {\n",
              "        vertical-align: middle;\n",
              "    }\n",
              "\n",
              "    .dataframe tbody tr th {\n",
              "        vertical-align: top;\n",
              "    }\n",
              "\n",
              "    .dataframe thead th {\n",
              "        text-align: right;\n",
              "    }\n",
              "</style>\n",
              "<table border=\"1\" class=\"dataframe\">\n",
              "  <thead>\n",
              "    <tr style=\"text-align: right;\">\n",
              "      <th></th>\n",
              "      <th>Title</th>\n",
              "      <th>Content</th>\n",
              "      <th>average_score</th>\n",
              "    </tr>\n",
              "  </thead>\n",
              "  <tbody>\n",
              "    <tr>\n",
              "      <th>0</th>\n",
              "      <td>“Super stay.”</td>\n",
              "      <td>This the second time we have stayed and this t...</td>\n",
              "      <td>5</td>\n",
              "    </tr>\n",
              "    <tr>\n",
              "      <th>1</th>\n",
              "      <td>“Permanent improvements in various aereas to b...</td>\n",
              "      <td>My experience as a rare but regular guest with...</td>\n",
              "      <td>4</td>\n",
              "    </tr>\n",
              "    <tr>\n",
              "      <th>2</th>\n",
              "      <td>“span pacific orchard”</td>\n",
              "      <td>Great hotel in good location for night life &amp; ...</td>\n",
              "      <td>4</td>\n",
              "    </tr>\n",
              "    <tr>\n",
              "      <th>3</th>\n",
              "      <td>“Great value for money in heart of the shoppin...</td>\n",
              "      <td>The Pan Pac Orchard is in a great location rig...</td>\n",
              "      <td>4</td>\n",
              "    </tr>\n",
              "    <tr>\n",
              "      <th>4</th>\n",
              "      <td>“Pan Pacific Orchard”</td>\n",
              "      <td>Stayed for 3 nights. Hotel is clean, tasty foo...</td>\n",
              "      <td>4</td>\n",
              "    </tr>\n",
              "  </tbody>\n",
              "</table>\n",
              "</div>\n",
              "      <button class=\"colab-df-convert\" onclick=\"convertToInteractive('df-4165169f-e9a0-4c28-acac-111055e1b40c')\"\n",
              "              title=\"Convert this dataframe to an interactive table.\"\n",
              "              style=\"display:none;\">\n",
              "        \n",
              "  <svg xmlns=\"http://www.w3.org/2000/svg\" height=\"24px\"viewBox=\"0 0 24 24\"\n",
              "       width=\"24px\">\n",
              "    <path d=\"M0 0h24v24H0V0z\" fill=\"none\"/>\n",
              "    <path d=\"M18.56 5.44l.94 2.06.94-2.06 2.06-.94-2.06-.94-.94-2.06-.94 2.06-2.06.94zm-11 1L8.5 8.5l.94-2.06 2.06-.94-2.06-.94L8.5 2.5l-.94 2.06-2.06.94zm10 10l.94 2.06.94-2.06 2.06-.94-2.06-.94-.94-2.06-.94 2.06-2.06.94z\"/><path d=\"M17.41 7.96l-1.37-1.37c-.4-.4-.92-.59-1.43-.59-.52 0-1.04.2-1.43.59L10.3 9.45l-7.72 7.72c-.78.78-.78 2.05 0 2.83L4 21.41c.39.39.9.59 1.41.59.51 0 1.02-.2 1.41-.59l7.78-7.78 2.81-2.81c.8-.78.8-2.07 0-2.86zM5.41 20L4 18.59l7.72-7.72 1.47 1.35L5.41 20z\"/>\n",
              "  </svg>\n",
              "      </button>\n",
              "      \n",
              "  <style>\n",
              "    .colab-df-container {\n",
              "      display:flex;\n",
              "      flex-wrap:wrap;\n",
              "      gap: 12px;\n",
              "    }\n",
              "\n",
              "    .colab-df-convert {\n",
              "      background-color: #E8F0FE;\n",
              "      border: none;\n",
              "      border-radius: 50%;\n",
              "      cursor: pointer;\n",
              "      display: none;\n",
              "      fill: #1967D2;\n",
              "      height: 32px;\n",
              "      padding: 0 0 0 0;\n",
              "      width: 32px;\n",
              "    }\n",
              "\n",
              "    .colab-df-convert:hover {\n",
              "      background-color: #E2EBFA;\n",
              "      box-shadow: 0px 1px 2px rgba(60, 64, 67, 0.3), 0px 1px 3px 1px rgba(60, 64, 67, 0.15);\n",
              "      fill: #174EA6;\n",
              "    }\n",
              "\n",
              "    [theme=dark] .colab-df-convert {\n",
              "      background-color: #3B4455;\n",
              "      fill: #D2E3FC;\n",
              "    }\n",
              "\n",
              "    [theme=dark] .colab-df-convert:hover {\n",
              "      background-color: #434B5C;\n",
              "      box-shadow: 0px 1px 3px 1px rgba(0, 0, 0, 0.15);\n",
              "      filter: drop-shadow(0px 1px 2px rgba(0, 0, 0, 0.3));\n",
              "      fill: #FFFFFF;\n",
              "    }\n",
              "  </style>\n",
              "\n",
              "      <script>\n",
              "        const buttonEl =\n",
              "          document.querySelector('#df-4165169f-e9a0-4c28-acac-111055e1b40c button.colab-df-convert');\n",
              "        buttonEl.style.display =\n",
              "          google.colab.kernel.accessAllowed ? 'block' : 'none';\n",
              "\n",
              "        async function convertToInteractive(key) {\n",
              "          const element = document.querySelector('#df-4165169f-e9a0-4c28-acac-111055e1b40c');\n",
              "          const dataTable =\n",
              "            await google.colab.kernel.invokeFunction('convertToInteractive',\n",
              "                                                     [key], {});\n",
              "          if (!dataTable) return;\n",
              "\n",
              "          const docLinkHtml = 'Like what you see? Visit the ' +\n",
              "            '<a target=\"_blank\" href=https://colab.research.google.com/notebooks/data_table.ipynb>data table notebook</a>'\n",
              "            + ' to learn more about interactive tables.';\n",
              "          element.innerHTML = '';\n",
              "          dataTable['output_type'] = 'display_data';\n",
              "          await google.colab.output.renderOutput(dataTable, element);\n",
              "          const docLink = document.createElement('div');\n",
              "          docLink.innerHTML = docLinkHtml;\n",
              "          element.appendChild(docLink);\n",
              "        }\n",
              "      </script>\n",
              "    </div>\n",
              "  </div>\n",
              "  "
            ],
            "text/plain": [
              "                                               Title  \\\n",
              "0                                      “Super stay.”   \n",
              "1  “Permanent improvements in various aereas to b...   \n",
              "2                             “span pacific orchard”   \n",
              "3  “Great value for money in heart of the shoppin...   \n",
              "4                              “Pan Pacific Orchard”   \n",
              "\n",
              "                                             Content  average_score  \n",
              "0  This the second time we have stayed and this t...              5  \n",
              "1  My experience as a rare but regular guest with...              4  \n",
              "2  Great hotel in good location for night life & ...              4  \n",
              "3  The Pan Pac Orchard is in a great location rig...              4  \n",
              "4  Stayed for 3 nights. Hotel is clean, tasty foo...              4  "
            ]
          },
          "metadata": {},
          "execution_count": 63
        }
      ]
    },
    {
      "cell_type": "markdown",
      "source": [
        "### Distrubution of average scores"
      ],
      "metadata": {
        "id": "bZ2833F26zhV"
      }
    },
    {
      "cell_type": "code",
      "source": [
        "plt.bar([1, 2, 3, 4, 5], df_reviews['average_score'].value_counts().sort_index());"
      ],
      "metadata": {
        "colab": {
          "base_uri": "https://localhost:8080/",
          "height": 265
        },
        "id": "IpjXCxPlrQN5",
        "outputId": "3306a64e-e8bf-4bb1-9818-5bf5331621f4"
      },
      "execution_count": 64,
      "outputs": [
        {
          "output_type": "display_data",
          "data": {
            "image/png": "[encoded data removed]",
            "text/plain": [
              "<Figure size 432x288 with 1 Axes>"
            ]
          },
          "metadata": {
            "needs_background": "light"
          }
        }
      ]
    },
    {
      "cell_type": "markdown",
      "source": [
        "### Sample titles and descriptions by average score"
      ],
      "metadata": {
        "id": "1feiAP_C68q1"
      }
    },
    {
      "cell_type": "code",
      "source": [
        "import textwrap\n",
        "\n",
        "wrapper = textwrap.TextWrapper(width=140)\n",
        "for i in range(1, 6):\n",
        "  print(f'Average Score: {i}')\n",
        "  cond = df_reviews['average_score'] == i\n",
        "  df_sample = df_reviews[cond].sample(5)\n",
        "  for row in range(len(df_sample)):\n",
        "    print(df_sample.iloc[row]['Title'], '\\n')\n",
        "    text = wrapper.wrap(df_sample.iloc[row]['Content'])\n",
        "    for w in text:\n",
        "      print(w)\n",
        "    print('\\n')\n",
        "  print('*************\\n')"
      ],
      "metadata": {
        "colab": {
          "base_uri": "https://localhost:8080/"
        },
        "id": "t7AtGWYUt5u0",
        "outputId": "d5096852-a0ff-4e95-e8c7-81b17375deef"
      },
      "execution_count": 65,
      "outputs": [
        {
          "output_type": "stream",
          "name": "stdout",
          "text": [
            "Average Score: 1\n",
            "“Sorry About That” \n",
            "\n",
            "I am now sick of the Hotels I will never stay in another one. We stayed in this so called helpful Travel Lodge for four nights this month\n",
            "(Sep) and I was sick of hearing the staff say â€œsorry about thatâ€� Travel Lodge, just like any other Hotel, is interested in one thing,\n",
            "and one thing only, profit no matter what. I thought you could not get blood out of a stone, but I am sure Travel Lodge knows how. The stay\n",
            "We arrived about one hour before the booking in time. We were told if we book in early we would have to pay an extra Â£10. At first I said\n",
            "â€œno wayâ€� I said â€œwe will sit here till the booking time of 3pm. Then I realised there was no seating or waiting area, and we could not\n",
            "walk round as we have luggage, so we had to pay the extra Â£10, this was charged even though the room was ready. That was the start. Day Two\n",
            "We went down for the continental breakfast that was Â£5.25 each. We paid then looked at what we could choose. There was empty baskets one\n",
            "basket with left over fruit and brown bread and serials. I asked what should be in the empty baskets and was told that chioce had all gone,\n",
            "I asked then for white bread, again I was told it had all gone. I then asked why I was left with left overâ€™s and not the same choice as\n",
            "everyone else, I was told because others have had too much. I then asked why they took my money knowing there was nothing left they said\n",
            "\"sorry about that\" and I asked for my money back. I was then told they can not give refunds in cash only on a card. When I said I have just\n",
            "paid in cash I was told it does not make any difference. \"Sorry about that\" Day three; We got back from a day out to find our clean towels,\n",
            "or should have been, we opened one out to find a great big brown stain, I will leave that to your own imagination. We herd that saying again\n",
            "â€œsorry about thatâ€� The last night. We were in bed when we herd someone trying to get in to the room, I shouted â€œwhat do you wantâ€�\n",
            "ten minutes after the same thing, so I got out of bed opened the door to find no one around. I got back in bed and ten minutes someone tried\n",
            "to get in again. This time I jumped out of bed and opened the door and found two of the staff trying to get in with a key card. When I asked\n",
            "what was the reason I was told according to their system we should have checked out and the room should be vacant, then again came â€œsorry\n",
            "about thatâ€� On our departure we handed in the key card and was asked if all was well so we explained and guess what we were told? â€œSorry\n",
            "about thatâ€� Even the room we stayed in was hell. The noise was out of this world, the worst you could imagine. The blind would not cover\n",
            "the window to stop people looking in. When the blind was down people could see through the gap straight in to your bed. The toilet seat was\n",
            "loose. I was going to complain, but I just could not risk being told again â€œSorry about thatâ€� So in my opinion when you stay at this\n",
            "lodge you do so at your own risk. I have compared this lodge with a homeless person and the aggravation they get. A homeless person could\n",
            "have dirty towels, just like the lodge. A homeless person tries to sleep in the street with lots of noise, just like the lodge. A homeless\n",
            "person will eat scraps for breakfast, just like the lodge. A homeless person will be expected to move on, just like the lodge. The only\n",
            "difference is that the homeless person got for free what we paid a lot of money for. People who say they had a satisfactory stay here are\n",
            "either satisfied with anything or were very, very lucky. If the owners of the Travel Lodge are reading this and do not like it, there is\n",
            "just one thing I can say â€œSorry about thatâ€�\n",
            "\n",
            "\n",
            "“Terrible Service!!!” \n",
            "\n",
            "My friends and I stayed there for memorial weekend. The service was terrible! We asked for a non smoking room and we didn't get it till the\n",
            "next night. Best part is that they charged my credit card for the whole weekend weeks in advance. If they are going to charge my credit then\n",
            "they should give me the room that I wanted! They gave us a king room with a roll away in the mean time. The room didn't have a king bed. It\n",
            "was murphy bed. What 3 star hotel has a murphy bed?!! ! The carpet was torn, the sheets were dirty, bed was lumpy and the bath tub had some\n",
            "sort of apoxy patch work done to it (The new remodel rooms are better but not by much). The front desk person, Ceily, was absolutely rude\n",
            "about switching rooms. Actually rude is an understatement of her service. I have stayed at lower rated hotels and gotten better service and\n",
            "accomodations. Also what hotel does not offer free wifi??!!! Especially since they are near the convention center.\n",
            "\n",
            "\n",
            "“This hotel was far from a celebration, it was a scary mess!” \n",
            "\n",
            "Celebration Hotel was the absolute worse hotel i have ever stayed in, i knew i should have left when they didn't have my reservation that\n",
            "was made on-line, then to only proceed to the 2 rooms we had for me, 2 children an husband, an one room for my in-laws to read the long list\n",
            "of warnings of crime and loitering that goes on in an around the building. needless to say i didn't do much sleeping because of the partying\n",
            "that went on outside my room, the dirty an disgusting rooms that were so old actually made me sick to even sit down, i would have slept in\n",
            "my car outside the airport which we were headed to early the next morning that was why we stayed here! the hotel should be condemed an\n",
            "closed down forever!\n",
            "\n",
            "\n",
            "“Be careful! Fraud. And yes it is bad!” \n",
            "\n",
            "Let me start with the worst level of incompetence. My Credit Card was charged twice!!!! Hotel pretended that my first Credit Card (Corporate\n",
            "one!!) was rejected and asked for a second card. When checking my statements they charged BOTH Credit Cards. Never happened to me in the\n",
            "past and I can certainly not be convinced that this was a coincidence. So watch your wallet!!! I'm still trying to sort this mess out with\n",
            "my credit card company but it's time consuming and cumbersome. I had to stay in this hotel twice and the rooms are of bad taste. Yes it is a\n",
            "big box targeting corprate events and poor people stranded from the airport because of cancelled flights. The hotel has an extremely\n",
            "unpersonal feeling to it and it has also a horrible smell everywhere. I could go on on Service and just the weird way the hotel is\n",
            "furnished. One of the strangest places is the lunch restraurant without any daylight etc. etc. there are so many examples that make a stay\n",
            "in this hotel very unpleasant. Many hotels around the Airport (ie. Silken Puerta America) offer a lot better value, nice modern rooms,\n",
            "stylish feeling!!!! So if you can avoid this hotel: do it!\n",
            "\n",
            "\n",
            "“Dont go to this place !!!” \n",
            "\n",
            "Just got back from copa marina beach resort in puerto rico. and I must say I was very dissapointed! From the checking in to the rules that\n",
            "change every day . The beach sucks there. You cant even get in the water cause there is grass growing and people complained about getting\n",
            "stung by something . housekeeping was not good the corners of the rooms on the floor were filthy ,$19.00 dollars for breakfast buffet.think\n",
            "that is a little high I dont think that I will ever go back to puerto rico ever again because of this experience!! The air conditioning\n",
            "sucked . There was stickey funiture . 80z bloody mary no pickle no olives $8.50 . I cant see how any one can brag about this place it was\n",
            "the worst week vacation that i have ever had. I always go to mexico where the people care about you 1\n",
            "\n",
            "\n",
            "*************\n",
            "\n",
            "Average Score: 2\n",
            "“amenities are great, felt it was way overpriced.” \n",
            "\n",
            "There were some positive thinga about our stay here. The location is pretty good. The amenities in the PH shopping area were good. And I\n",
            "will say this, the Earl of Sandwich is one of the BEST places to grab some delicious breakfest sandwiches. There were a few things we didn't\n",
            "like about our stay. Our room, while clean and comfortable was just average. We were facing the airport side of the strip and there was some\n",
            "sort of continous construction going on outside of our window. The hotel itself, everywhere was pretty loud and smokier than some of the\n",
            "others i've encountered on the strip. We also were about to do a time share tour from Planet Hollywood help desk of the PH Westgate towers\n",
            "(albeit, for some free show tickets for Beattles Love). When we went the next morning to arrange the final registration and tickets; we were\n",
            "told that they did not have those tickets for LOVE that we requested. I know, we could have taken another show, but my wife and I only\n",
            "wanted to see this particular show. This proccess was a bit of a hassle and took a lot of our time. C'est la vie. If you are into a good\n",
            "party hotel, this is the place for you. Otherwise there are better places for your money on the strip.\n",
            "\n",
            "\n",
            "“Don't Stay Here...” \n",
            "\n",
            "Words just don't express.. So they made a video.. I'll be spending my dollars some where else.. http://www.youtube.com/watch?v=z_A5A17yeTY\n",
            "\n",
            "\n",
            "“Molding/Smelly room” \n",
            "\n",
            "Since I am a travel agent, and my clients wanted a hotel in mid town of Phoenix, AZ, I booked them with this hotel for the price and\n",
            "location. My client later called to tell me that room was molding smelling room I have myself stayed at Days Inn, and so did my client, this\n",
            "hotel needs upgrading if they want to stay in business.\n",
            "\n",
            "\n",
            "“Nothing Special...Too Expensive” \n",
            "\n",
            "I was there on business. I stayed in the main area of the resort. I found the food to be of food service quality. The room was run of the\n",
            "mill. Certainly not luxurious. Getting to the beach was a major pain in the rear. Why? Because getting to the beach requires a ride down the\n",
            "funicular plus a boat ride. If you forget something in your room you'll have a long trip back. I don't recommend this resort to families\n",
            "with small children because of the size of the property and the difficulties associated with even the most mundane tasks. I don't happen to\n",
            "think this property offers a very good value for the cost. For a property with the Waldorf Astoria name associated with it, it leaves a lot\n",
            "to be desired.\n",
            "\n",
            "\n",
            "“Noisy unromantic weekend” \n",
            "\n",
            "The back rooms are very tired and shabby with grotty carpets. The ocean facing rooms are better but very noisy to the street and night club\n",
            "below. Not for a quiet relaxing weekend and no luxury about the rooms at all.\n",
            "\n",
            "\n",
            "*************\n",
            "\n",
            "Average Score: 3\n",
            "“I was frightened” \n",
            "\n",
            "Ok now your all thinking drama queen - I did not know anything about the history - I truely believed the hotel used to be a palace\n",
            "...........we got off the boat and thought wow ! this is magnificent then entered the reception and sadly greeted by an extremely rude young\n",
            "lady however I did not feel the bad vibe until I went to the bathroom and felt strangley uncomfotable then we were taken to the 3rd floor\n",
            "and on talking to the manager (I think) he was very nice he told us the building used to be a monastry and thereafter a hospital - in the\n",
            "pit of my stomach I felt horror and said to my husband I cannot walk this corridor alone it reminded me of the film the shining - the\n",
            "building gave me a feeling of tatal sadness and despair - I don't understand why but that is how I felt - I was very pleased to leave -\n",
            "sorry\n",
            "\n",
            "\n",
            "“If your going to San Francisco, be sure to” \n",
            "\n",
            "Conveniently located near Union Square the hotel is well situated to take in all San Francisco has to offer with either nearby public\n",
            "transport (trams directly outside and main bus routes within a few blocks) or within reasonable walking distance. The hotel is a little\n",
            "dated and not sure whether this made it ‘quaint’ or in need of a bit of modernisation. The bathrooms although functional had the feel of the\n",
            "facilities in my Granny’s house. However, not withstanding this, the room was large enough and clean and served our needs more than\n",
            "adequately for our short stay in San Francisco. As mentioned by others the free tea and coffee facilities in the lobby were a nice touch and\n",
            "free internet access also in the main lobby was also useful. Staff also excellent and very helpful We stayed for three nights on a stop over\n",
            "to New Zealand and managed to take in a lot of the local attractions. Easy access to the main sights either by walking or public transport –\n",
            "a short walk to Chinatown (albeit up some of the hills), tram down to Fishermans Wharf, local bus (No 5) out to Golden Gate Park and a 15\n",
            "minute walk to the Ferry building for the start point of some of the tours. City Tour (from Ferry Building) takes in most of the local\n",
            "sights and includes trip over the bridge to Sausalito for lunch – ferry back past the ‘Rock’ and then last trip out to Alcatraz (in the dark\n",
            "- very eerie and atmospheric) Segway Tours – takes in some of the backstreets and a chance to have a bit of a tear up on the pier Top Tips :\n",
            "Shuttle bus from the airport $30 as to $60 in a cab Get the trams back from the Wharf terminal as opposed to the 'Cannery' terminal which\n",
            "can get very busy with long queues Plenty of Restaurants within easy walking distance of the hotel off Union Square – so no need to venture\n",
            "too far in the evenings\n",
            "\n",
            "\n",
            "“Clean hotel - would stay there again” \n",
            "\n",
            "Great location. Quick check in. Elevators always arrived quickly. The rooms are dated but clean. Two suitcase stands in our room (great!).\n",
            "Internet was pretty slow and weak signal, but it was free and I still got a lot of work done online. Didn't eat in hotel as there are lots\n",
            "of restaurants on Dundas Street West. Workout facility was pretty simple (four treadmills, crosstrainer and small free weights) but clean,\n",
            "lots of towels and cold water. Change room/washrooms clean, too. The adjacent pool had lots of seating and a whirlpool. Underground parking\n",
            "lot pretty tight, but well lit.\n",
            "\n",
            "\n",
            "“Very basic, old and run down but great location” \n",
            "\n",
            "The hotel is run down, the breakfast room is tiny. I cannot comment on the complimentary breakfast as I left to early to have it. My room on\n",
            "the basement level was basic but i think it was clean. The TV is ancient. The staff was very friendly and accomodating, even when I turned\n",
            "up at 5am for them to look after my suitcase until I could check in.\n",
            "\n",
            "\n",
            "“Good location, hard beds” \n",
            "\n",
            "The location close to La Ramblas at a quiet neighborhood was great. I agree with the next reviewer about the safety issues. Red sign\n",
            "indicating that you are in your room is great for cleaning purposes but when shut down it also indicates that your room is ready for\n",
            "burglars. The light safe deposit box did not seem so safe at all (about 3 euros a night, if I remember right)! However, the place was\n",
            "alright. Beds in romantic rooms were hard as rock but otherwise rooms were nice and quiet. We even got a bottle of cava for the first night!\n",
            "Free wi-fi functioned perfectly and it was pretty fast. Breakfast was worth of money. If you are not good with mazes, go and stay somewhere\n",
            "else. You almost need a map to find your way to your room!\n",
            "\n",
            "\n",
            "*************\n",
            "\n",
            "Average Score: 4\n",
            "“Great location and Great Staff” \n",
            "\n",
            "Front desk staff was friendly and efficient. The hotel offers free airport pick-up and drop-off. We pre-paid and got a basic room for\n",
            "$95/night. Upon check-in my priority club membership got me a free upgrade to a deluxe room with a king size bed and a bay view. Hotel rooms\n",
            "were recently updated and housekeeping keeps them clean. The hotel is on the north side of downtown and just off Interstate 5. We lucked out\n",
            "and had a room that faced the bay and San Diego airport. The onsite cafe has a limited menu, but you have many great restaurants within\n",
            "walking distance.\n",
            "\n",
            "\n",
            "“Just Fine, thank you very much!” \n",
            "\n",
            "My friend's first foray into Priceline--and he got the Sheraton Centre in Montreal. We went for his son's graduation and wanted a cot put\n",
            "into one of the two rooms which were purchased. A phone call to the hotel prior to our arrival was not satisfactory, to say the least, but\n",
            "upon arriving at the hotel, the front desk staff were very nice and helpful regarding the cot. Thank goodness the hotel redeemed itself or\n",
            "my suggestion for priceline would have been problematic!! However, when we went to our room, we couldn't enter with the room key and it\n",
            "turned out that the room was occupied by another person and somehow the front desk mixed this up. Hmmmm. The poor guy in the room was\n",
            "running into the bathroom wrapped in a towel and wasn't thrilled when the hotel staff used their master key to enter! For our aggravation,\n",
            "we negotiated free internet for the duration of our stay!! The lobby is very nice and the hotel is in a good location near St.Catherine\n",
            "street and McGill University. The room was pleasant and more than adequate. Not as nice as the Westin of Ottawa--where we went the following\n",
            "weekend--but certainly quite nice. Our main complaint was the noise in the room. We were next to the elevator shaft and I'm not sure if that\n",
            "was the source of the noise, but it was bothersome when it was time to sleep. However we got a pretty good deal on Priceline, so it's hard\n",
            "to complain too much!\n",
            "\n",
            "\n",
            "“Madrid central hotel - clean with great service, value, food and price.” \n",
            "\n",
            "My Mum and I spent hours trying to find a hotel that was centrally located under £100 per night for a twin room. We nearly gave up when we\n",
            "came across Hotel Persal in Plaza Angel. 1960's Spanish retro decor & neither grand nor splendid but if you are looking for very friendly\n",
            "service with basic bed and breakfast, then this is perfect. There is a restaurant attached which is part of a small chain - very reasonably\n",
            "priced and good wine list and fabulous 1920's-esque decor. After reading lots of very grumpy reviews on here about all sorts of different\n",
            "types of accommodation in Madrid, we were enlightened to find this place. Should we ever go back to Madrid, this will be where we stay.\n",
            "\n",
            "\n",
            "“Excellent Staff” \n",
            "\n",
            "Recently attended a company sales conference at the Hyatt. The service is excellent, from the bellman and the front desk to waitstaff and\n",
            "housekeeping, all were professional, helpful and friendly. In this day of little to no service this was a pleasant surprise. They should be\n",
            "very proud of their people. Small unexpected things were even taken care of, I finished my travel mouthwash and tossed the container before\n",
            "the end of my trip-no big deal. The next morning there was a travel replacement set next to the sink for me. That little attention to detail\n",
            "was there throughout-I am impressed. My room was a smaller double but being by myself that was OK. Our rooms were assigned by event staff so\n",
            "I can't complain. The room was very clean, wifi worked great, refridgerator in room made it easy to go to Ralph's (local grocery) and stock\n",
            "up with things for a week stay. The bathroom is quite large by hotel standards with extra storage space. Overall very comfortable. The view\n",
            "from the 30th floor,Seaport Tower was excellent. Even though my room faced the other tower to the southwest you could see the Pacific and\n",
            "Coronado and to the southeast downtown and the mountains. Hotel is an easy walk to shopping, dining, museums, the USS Midway. Overall great\n",
            "location.\n",
            "\n",
            "\n",
            "“Excellent Place!” \n",
            "\n",
            "Newly renovated rooms with queen size beds, beautiful grounds and a nice compact but spacious resort with great attention to details. Our\n",
            "family loved this resort, both kids ages 7 and 10 had a great time at the pool. The food court is excellent, I loved the shrimp po boy! 3\n",
            "days before our visit, I faxed in a simple 4 or 5 line request directly to the hotel with a few room and building locations requests, they\n",
            "honored both! We were placed in building 4 on a top floor. Building 4 is a great choice, right next to the food court, bus stop and pool.\n",
            "\n",
            "\n",
            "*************\n",
            "\n",
            "Average Score: 5\n",
            "“Brilliant” \n",
            "\n",
            "I stayed here with my family to see the rugby and it was brilliant - staff, food, room and service. Well worth the price.\n",
            "\n",
            "\n",
            "“A Lovely Stay in a Very fine Hotel in a Wonderful City” \n",
            "\n",
            "My wife and I stayed eight nights in early January at the Hotel Cecilia. This was our second visit as we had stayed at the Cecilia in the\n",
            "late summer of 1973. The room we had for this trip was very comforatble and we had a lovely view of Avenue Mac Mahon from our 5th floor\n",
            "location. The staff is excellent and very helpful as we planned our visits to museums and resaurants. We enjoyed the buffet breakfast each\n",
            "morning. The location is ideal for visiting the museums and all of the sights that one can experience in Paris. At the Arc De Triomphe that\n",
            "is very close by, one can look down The Avenue des Champs-Élysées today and yet still imagine the feelings of the citizens of Paris and the\n",
            "French and Allied soldiers who marched down this Avenue in a victory parade in August 1944 to celebrate the liberation of Paris.\n",
            "\n",
            "\n",
            "“Excellent Hotel!” \n",
            "\n",
            "I found this hotel the very best among all the ones I stayed in Turkey. Excellent service, such clean well decorated rooms, great location,\n",
            "amazing breakfast buffet and great value for your money. You can't go wrong with this choice. I had the best time ever. And don't forget to\n",
            "go to their rooftop restaurant \"Olive\". It is very good.\n",
            "\n",
            "\n",
            "“Lovely Place” \n",
            "\n",
            "We stayed here when we made our first trip to Disney World, we absolutely loved the place. Our room was newly renovated economy room and was\n",
            "very very clean. I did not have to worry about my children picking up some sort of fungus or warts because the carpet was nice, the showers\n",
            "were clean and the hotel staff had made a bouquet of flowers using the wash clothes, which I thought was very cool. We had received fresh\n",
            "linen daily. We did not swim in the pool or get into the hot tub because it was January and the weather was very cold, however the\n",
            "landscaping around the hotel is gorgeous and very unique. We recommend this place to all of our friends. If you want a worry free,\n",
            "affordable vacation spot you should check this place out.\n",
            "\n",
            "\n",
            "“January Market Stay” \n",
            "\n",
            "This hotel has been recently renovated and looked great. They did a really nice job making it feel fresh but also very warm and inviting.\n",
            "The rooms were very comfortable and clean. But what really made this hotel a stand-out were the owners who were very hands-on and went that\n",
            "extra mile to make sure our stay was the best. Fresh baked cookies, chair massages and a great breakfast were just a few of their special\n",
            "touches. I will definitely be booking my week long stay for the next market with them!\n",
            "\n",
            "\n",
            "*************\n",
            "\n"
          ]
        }
      ]
    },
    {
      "cell_type": "markdown",
      "source": [
        "### Bucketize reviews into two sentiments, Good vs. Bad\n",
        "\n",
        "It seems that 3 - 5 are generally favorable, and 1 - 2 are not."
      ],
      "metadata": {
        "id": "G5MN9ncB7q1t"
      }
    },
    {
      "cell_type": "code",
      "source": [
        "df_reviews['sentiment'] = df_reviews['average_score'].apply(lambda x: 1 if x >= 3 else 0)\n",
        "plt.bar(['Bad', 'Good'], df_reviews['sentiment'].value_counts().sort_index());"
      ],
      "metadata": {
        "colab": {
          "base_uri": "https://localhost:8080/",
          "height": 265
        },
        "id": "U7bExclSwdKy",
        "outputId": "98ba5167-ea20-4b20-ca1c-12bfb82b815a"
      },
      "execution_count": 67,
      "outputs": [
        {
          "output_type": "display_data",
          "data": {
            "image/png": "[encoded data removed]",
            "text/plain": [
              "<Figure size 432x288 with 1 Axes>"
            ]
          },
          "metadata": {
            "needs_background": "light"
          }
        }
      ]
    },
    {
      "cell_type": "code",
      "source": [
        ""
      ],
      "metadata": {
        "id": "1qcj-vAX-4KZ"
      },
      "execution_count": null,
      "outputs": []
    }
  ]
}