{
  "cells": [
    {
      "cell_type": "markdown",
      "metadata": {
        "colab_type": "text",
        "id": "view-in-github"
      },
      "source": [
        "<a href=\"https://colab.research.google.com/github/karencfisher/hotel-reviews/blob/main/notebooks/hotel_classification_quick_model.ipynb\" target=\"_parent\"><img src=\"https://colab.research.google.com/assets/colab-badge.svg\" alt=\"Open In Colab\"/></a>"
      ]
    },
    {
      "cell_type": "code",
      "execution_count": 1,
      "metadata": {
        "colab": {
          "base_uri": "https://localhost:8080/"
        },
        "id": "G9X0FMFvaiRk",
        "outputId": "b97d29c2-df0c-4d88-d252-796b06ec21f5"
      },
      "outputs": [
        {
          "name": "stdout",
          "output_type": "stream",
          "text": [
            "Looking in indexes: https://pypi.org/simple, https://us-python.pkg.dev/colab-wheels/public/simple/\n",
            "Requirement already satisfied: scikit-multilearn in /usr/local/lib/python3.8/dist-packages (0.2.0)\n"
          ]
        }
      ],
      "source": [
        "!pip install scikit-multilearn"
      ]
    },
    {
      "cell_type": "code",
      "execution_count": 64,
      "metadata": {
        "colab": {
          "base_uri": "https://localhost:8080/"
        },
        "id": "ksV4tgOpMX4h",
        "outputId": "7609e010-bf24-45f2-ad1a-c3f5a0218152"
      },
      "outputs": [
        {
          "name": "stdout",
          "output_type": "stream",
          "text": [
            "--2023-02-13 19:28:44--  https://raw.githubusercontent.com/karencfisher/hotel-reviews/main/data/reviews_sample.csv\n",
            "Resolving raw.githubusercontent.com (raw.githubusercontent.com)... 185.199.110.133, 185.199.109.133, 185.199.111.133, ...\n",
            "Connecting to raw.githubusercontent.com (raw.githubusercontent.com)|185.199.110.133|:443... connected.\n",
            "HTTP request sent, awaiting response... 200 OK\n",
            "Length: 23866047 (23M) [text/plain]\n",
            "Saving to: ‘reviews_sample.csv’\n",
            "\n",
            "reviews_sample.csv  100%[===================>]  22.76M  --.-KB/s    in 0.1s    \n",
            "\n",
            "2023-02-13 19:28:44 (155 MB/s) - ‘reviews_sample.csv’ saved [23866047/23866047]\n",
            "\n"
          ]
        }
      ],
      "source": [
        "!wget https://raw.githubusercontent.com/karencfisher/hotel-reviews/main/data/reviews_sample.csv"
      ]
    },
    {
      "cell_type": "code",
      "execution_count": 1,
      "metadata": {
        "id": "Nm7nLgj8a4II"
      },
      "outputs": [],
      "source": [
        "import pandas as pd \n",
        "import numpy as np \n",
        "import matplotlib.pyplot as plt\n",
        "from sklearn.model_selection import train_test_split \n",
        "from sklearn.feature_extraction.text import TfidfVectorizer \n",
        "from sklearn.decomposition import PCA\n",
        "from skmultilearn.adapt import MLkNN\n",
        "from sklearn.metrics import hamming_loss, accuracy_score \n",
        "from sklearn.pipeline import Pipeline"
      ]
    },
    {
      "cell_type": "code",
      "execution_count": 2,
      "metadata": {
        "colab": {
          "base_uri": "https://localhost:8080/",
          "height": 424
        },
        "id": "Sgs-CaVXbHPY",
        "outputId": "d4520194-16a5-4069-d57a-26c71a071529"
      },
      "outputs": [
        {
          "data": {
            "text/html": [
              "<div>\n",
              "<style scoped>\n",
              "    .dataframe tbody tr th:only-of-type {\n",
              "        vertical-align: middle;\n",
              "    }\n",
              "\n",
              "    .dataframe tbody tr th {\n",
              "        vertical-align: top;\n",
              "    }\n",
              "\n",
              "    .dataframe thead th {\n",
              "        text-align: right;\n",
              "    }\n",
              "</style>\n",
              "<table border=\"1\" class=\"dataframe\">\n",
              "  <thead>\n",
              "    <tr style=\"text-align: right;\">\n",
              "      <th></th>\n",
              "      <th>Cleanliness</th>\n",
              "      <th>Rooms</th>\n",
              "      <th>Service</th>\n",
              "      <th>Sleep Quality</th>\n",
              "      <th>Value</th>\n",
              "      <th>Content</th>\n",
              "      <th>average_score</th>\n",
              "      <th>sentiment</th>\n",
              "    </tr>\n",
              "  </thead>\n",
              "  <tbody>\n",
              "    <tr>\n",
              "      <th>0</th>\n",
              "      <td>3</td>\n",
              "      <td>2</td>\n",
              "      <td>3</td>\n",
              "      <td>3</td>\n",
              "      <td>4</td>\n",
              "      <td>Great location and shuttle service The proximi...</td>\n",
              "      <td>3.142857</td>\n",
              "      <td>0</td>\n",
              "    </tr>\n",
              "    <tr>\n",
              "      <th>1</th>\n",
              "      <td>3</td>\n",
              "      <td>1</td>\n",
              "      <td>2</td>\n",
              "      <td>1</td>\n",
              "      <td>2</td>\n",
              "      <td>Not a resort  a run down dump We had to change...</td>\n",
              "      <td>2.000000</td>\n",
              "      <td>0</td>\n",
              "    </tr>\n",
              "    <tr>\n",
              "      <th>2</th>\n",
              "      <td>3</td>\n",
              "      <td>3</td>\n",
              "      <td>4</td>\n",
              "      <td>4</td>\n",
              "      <td>3</td>\n",
              "      <td>Pros  Cons of this Hotel. Bed was very firm. I...</td>\n",
              "      <td>3.428571</td>\n",
              "      <td>0</td>\n",
              "    </tr>\n",
              "    <tr>\n",
              "      <th>3</th>\n",
              "      <td>3</td>\n",
              "      <td>2</td>\n",
              "      <td>1</td>\n",
              "      <td>1</td>\n",
              "      <td>3</td>\n",
              "      <td>Very bad indifferent unprofessional stuff. The...</td>\n",
              "      <td>2.000000</td>\n",
              "      <td>0</td>\n",
              "    </tr>\n",
              "    <tr>\n",
              "      <th>4</th>\n",
              "      <td>5</td>\n",
              "      <td>4</td>\n",
              "      <td>2</td>\n",
              "      <td>4</td>\n",
              "      <td>1</td>\n",
              "      <td>not worth the money this hotel is too big for ...</td>\n",
              "      <td>3.428571</td>\n",
              "      <td>0</td>\n",
              "    </tr>\n",
              "    <tr>\n",
              "      <th>...</th>\n",
              "      <td>...</td>\n",
              "      <td>...</td>\n",
              "      <td>...</td>\n",
              "      <td>...</td>\n",
              "      <td>...</td>\n",
              "      <td>...</td>\n",
              "      <td>...</td>\n",
              "      <td>...</td>\n",
              "    </tr>\n",
              "    <tr>\n",
              "      <th>35117</th>\n",
              "      <td>5</td>\n",
              "      <td>5</td>\n",
              "      <td>5</td>\n",
              "      <td>5</td>\n",
              "      <td>5</td>\n",
              "      <td>Vintage Park was a dream From the warm greetin...</td>\n",
              "      <td>5.000000</td>\n",
              "      <td>1</td>\n",
              "    </tr>\n",
              "    <tr>\n",
              "      <th>35118</th>\n",
              "      <td>4</td>\n",
              "      <td>4</td>\n",
              "      <td>5</td>\n",
              "      <td>4</td>\n",
              "      <td>5</td>\n",
              "      <td>Park Central Perfection I travel to NY for bus...</td>\n",
              "      <td>4.571429</td>\n",
              "      <td>1</td>\n",
              "    </tr>\n",
              "    <tr>\n",
              "      <th>35119</th>\n",
              "      <td>5</td>\n",
              "      <td>4</td>\n",
              "      <td>4</td>\n",
              "      <td>4</td>\n",
              "      <td>4</td>\n",
              "      <td>Fabulous Hotel The service was wonderful. Ever...</td>\n",
              "      <td>4.285714</td>\n",
              "      <td>1</td>\n",
              "    </tr>\n",
              "    <tr>\n",
              "      <th>35120</th>\n",
              "      <td>4</td>\n",
              "      <td>4</td>\n",
              "      <td>4</td>\n",
              "      <td>5</td>\n",
              "      <td>4</td>\n",
              "      <td>Great place to stay! We just got back on Sunda...</td>\n",
              "      <td>4.000000</td>\n",
              "      <td>1</td>\n",
              "    </tr>\n",
              "    <tr>\n",
              "      <th>35121</th>\n",
              "      <td>5</td>\n",
              "      <td>5</td>\n",
              "      <td>5</td>\n",
              "      <td>5</td>\n",
              "      <td>5</td>\n",
              "      <td>Dont hesitate... We stayed at La Tortuga last ...</td>\n",
              "      <td>5.000000</td>\n",
              "      <td>1</td>\n",
              "    </tr>\n",
              "  </tbody>\n",
              "</table>\n",
              "<p>35122 rows × 8 columns</p>\n",
              "</div>"
            ],
            "text/plain": [
              "       Cleanliness  Rooms  Service  Sleep Quality  Value  \\\n",
              "0                3      2        3              3      4   \n",
              "1                3      1        2              1      2   \n",
              "2                3      3        4              4      3   \n",
              "3                3      2        1              1      3   \n",
              "4                5      4        2              4      1   \n",
              "...            ...    ...      ...            ...    ...   \n",
              "35117            5      5        5              5      5   \n",
              "35118            4      4        5              4      5   \n",
              "35119            5      4        4              4      4   \n",
              "35120            4      4        4              5      4   \n",
              "35121            5      5        5              5      5   \n",
              "\n",
              "                                                 Content  average_score  \\\n",
              "0      Great location and shuttle service The proximi...       3.142857   \n",
              "1      Not a resort  a run down dump We had to change...       2.000000   \n",
              "2      Pros  Cons of this Hotel. Bed was very firm. I...       3.428571   \n",
              "3      Very bad indifferent unprofessional stuff. The...       2.000000   \n",
              "4      not worth the money this hotel is too big for ...       3.428571   \n",
              "...                                                  ...            ...   \n",
              "35117  Vintage Park was a dream From the warm greetin...       5.000000   \n",
              "35118  Park Central Perfection I travel to NY for bus...       4.571429   \n",
              "35119  Fabulous Hotel The service was wonderful. Ever...       4.285714   \n",
              "35120  Great place to stay! We just got back on Sunda...       4.000000   \n",
              "35121  Dont hesitate... We stayed at La Tortuga last ...       5.000000   \n",
              "\n",
              "       sentiment  \n",
              "0              0  \n",
              "1              0  \n",
              "2              0  \n",
              "3              0  \n",
              "4              0  \n",
              "...          ...  \n",
              "35117          1  \n",
              "35118          1  \n",
              "35119          1  \n",
              "35120          1  \n",
              "35121          1  \n",
              "\n",
              "[35122 rows x 8 columns]"
            ]
          },
          "execution_count": 2,
          "metadata": {},
          "output_type": "execute_result"
        }
      ],
      "source": [
        "df_reviews = pd.read_csv('..\\\\data\\\\reviews_sample.csv')\n",
        "df_reviews.drop(columns=['Overall', 'Location'], inplace=True)\n",
        "df_reviews"
      ]
    },
    {
      "cell_type": "markdown",
      "metadata": {
        "id": "TT-JpxrbeDG9"
      },
      "source": [
        "Convert ratings to tags for Cleanliness, Rooms, Service, and Value. 1 if less than rating of 4 to indicate in need of attention."
      ]
    },
    {
      "cell_type": "code",
      "execution_count": 3,
      "metadata": {
        "colab": {
          "base_uri": "https://localhost:8080/",
          "height": 424
        },
        "id": "3kYHlSLObd1L",
        "outputId": "744befde-7df2-4736-e52e-5294b2a123b0"
      },
      "outputs": [
        {
          "data": {
            "text/html": [
              "<div>\n",
              "<style scoped>\n",
              "    .dataframe tbody tr th:only-of-type {\n",
              "        vertical-align: middle;\n",
              "    }\n",
              "\n",
              "    .dataframe tbody tr th {\n",
              "        vertical-align: top;\n",
              "    }\n",
              "\n",
              "    .dataframe thead th {\n",
              "        text-align: right;\n",
              "    }\n",
              "</style>\n",
              "<table border=\"1\" class=\"dataframe\">\n",
              "  <thead>\n",
              "    <tr style=\"text-align: right;\">\n",
              "      <th></th>\n",
              "      <th>Cleanliness</th>\n",
              "      <th>Rooms</th>\n",
              "      <th>Service</th>\n",
              "      <th>Sleep Quality</th>\n",
              "      <th>Value</th>\n",
              "      <th>Content</th>\n",
              "      <th>average_score</th>\n",
              "      <th>sentiment</th>\n",
              "    </tr>\n",
              "  </thead>\n",
              "  <tbody>\n",
              "    <tr>\n",
              "      <th>0</th>\n",
              "      <td>1</td>\n",
              "      <td>1</td>\n",
              "      <td>1</td>\n",
              "      <td>1</td>\n",
              "      <td>0</td>\n",
              "      <td>Great location and shuttle service The proximi...</td>\n",
              "      <td>3.142857</td>\n",
              "      <td>0</td>\n",
              "    </tr>\n",
              "    <tr>\n",
              "      <th>1</th>\n",
              "      <td>1</td>\n",
              "      <td>1</td>\n",
              "      <td>1</td>\n",
              "      <td>1</td>\n",
              "      <td>1</td>\n",
              "      <td>Not a resort  a run down dump We had to change...</td>\n",
              "      <td>2.000000</td>\n",
              "      <td>0</td>\n",
              "    </tr>\n",
              "    <tr>\n",
              "      <th>2</th>\n",
              "      <td>1</td>\n",
              "      <td>1</td>\n",
              "      <td>0</td>\n",
              "      <td>0</td>\n",
              "      <td>1</td>\n",
              "      <td>Pros  Cons of this Hotel. Bed was very firm. I...</td>\n",
              "      <td>3.428571</td>\n",
              "      <td>0</td>\n",
              "    </tr>\n",
              "    <tr>\n",
              "      <th>3</th>\n",
              "      <td>1</td>\n",
              "      <td>1</td>\n",
              "      <td>1</td>\n",
              "      <td>1</td>\n",
              "      <td>1</td>\n",
              "      <td>Very bad indifferent unprofessional stuff. The...</td>\n",
              "      <td>2.000000</td>\n",
              "      <td>0</td>\n",
              "    </tr>\n",
              "    <tr>\n",
              "      <th>4</th>\n",
              "      <td>0</td>\n",
              "      <td>0</td>\n",
              "      <td>1</td>\n",
              "      <td>0</td>\n",
              "      <td>1</td>\n",
              "      <td>not worth the money this hotel is too big for ...</td>\n",
              "      <td>3.428571</td>\n",
              "      <td>0</td>\n",
              "    </tr>\n",
              "    <tr>\n",
              "      <th>...</th>\n",
              "      <td>...</td>\n",
              "      <td>...</td>\n",
              "      <td>...</td>\n",
              "      <td>...</td>\n",
              "      <td>...</td>\n",
              "      <td>...</td>\n",
              "      <td>...</td>\n",
              "      <td>...</td>\n",
              "    </tr>\n",
              "    <tr>\n",
              "      <th>35117</th>\n",
              "      <td>0</td>\n",
              "      <td>0</td>\n",
              "      <td>0</td>\n",
              "      <td>0</td>\n",
              "      <td>0</td>\n",
              "      <td>Vintage Park was a dream From the warm greetin...</td>\n",
              "      <td>5.000000</td>\n",
              "      <td>1</td>\n",
              "    </tr>\n",
              "    <tr>\n",
              "      <th>35118</th>\n",
              "      <td>0</td>\n",
              "      <td>0</td>\n",
              "      <td>0</td>\n",
              "      <td>0</td>\n",
              "      <td>0</td>\n",
              "      <td>Park Central Perfection I travel to NY for bus...</td>\n",
              "      <td>4.571429</td>\n",
              "      <td>1</td>\n",
              "    </tr>\n",
              "    <tr>\n",
              "      <th>35119</th>\n",
              "      <td>0</td>\n",
              "      <td>0</td>\n",
              "      <td>0</td>\n",
              "      <td>0</td>\n",
              "      <td>0</td>\n",
              "      <td>Fabulous Hotel The service was wonderful. Ever...</td>\n",
              "      <td>4.285714</td>\n",
              "      <td>1</td>\n",
              "    </tr>\n",
              "    <tr>\n",
              "      <th>35120</th>\n",
              "      <td>0</td>\n",
              "      <td>0</td>\n",
              "      <td>0</td>\n",
              "      <td>0</td>\n",
              "      <td>0</td>\n",
              "      <td>Great place to stay! We just got back on Sunda...</td>\n",
              "      <td>4.000000</td>\n",
              "      <td>1</td>\n",
              "    </tr>\n",
              "    <tr>\n",
              "      <th>35121</th>\n",
              "      <td>0</td>\n",
              "      <td>0</td>\n",
              "      <td>0</td>\n",
              "      <td>0</td>\n",
              "      <td>0</td>\n",
              "      <td>Dont hesitate... We stayed at La Tortuga last ...</td>\n",
              "      <td>5.000000</td>\n",
              "      <td>1</td>\n",
              "    </tr>\n",
              "  </tbody>\n",
              "</table>\n",
              "<p>35122 rows × 8 columns</p>\n",
              "</div>"
            ],
            "text/plain": [
              "       Cleanliness  Rooms  Service  Sleep Quality  Value  \\\n",
              "0                1      1        1              1      0   \n",
              "1                1      1        1              1      1   \n",
              "2                1      1        0              0      1   \n",
              "3                1      1        1              1      1   \n",
              "4                0      0        1              0      1   \n",
              "...            ...    ...      ...            ...    ...   \n",
              "35117            0      0        0              0      0   \n",
              "35118            0      0        0              0      0   \n",
              "35119            0      0        0              0      0   \n",
              "35120            0      0        0              0      0   \n",
              "35121            0      0        0              0      0   \n",
              "\n",
              "                                                 Content  average_score  \\\n",
              "0      Great location and shuttle service The proximi...       3.142857   \n",
              "1      Not a resort  a run down dump We had to change...       2.000000   \n",
              "2      Pros  Cons of this Hotel. Bed was very firm. I...       3.428571   \n",
              "3      Very bad indifferent unprofessional stuff. The...       2.000000   \n",
              "4      not worth the money this hotel is too big for ...       3.428571   \n",
              "...                                                  ...            ...   \n",
              "35117  Vintage Park was a dream From the warm greetin...       5.000000   \n",
              "35118  Park Central Perfection I travel to NY for bus...       4.571429   \n",
              "35119  Fabulous Hotel The service was wonderful. Ever...       4.285714   \n",
              "35120  Great place to stay! We just got back on Sunda...       4.000000   \n",
              "35121  Dont hesitate... We stayed at La Tortuga last ...       5.000000   \n",
              "\n",
              "       sentiment  \n",
              "0              0  \n",
              "1              0  \n",
              "2              0  \n",
              "3              0  \n",
              "4              0  \n",
              "...          ...  \n",
              "35117          1  \n",
              "35118          1  \n",
              "35119          1  \n",
              "35120          1  \n",
              "35121          1  \n",
              "\n",
              "[35122 rows x 8 columns]"
            ]
          },
          "execution_count": 3,
          "metadata": {},
          "output_type": "execute_result"
        }
      ],
      "source": [
        "tags = ['Cleanliness', 'Rooms', 'Service', 'Sleep Quality', 'Value']\n",
        "df_reviews[tags].astype(int)\n",
        "\n",
        "for tag in tags:\n",
        "  df_reviews[tag] = df_reviews[tag].apply(lambda x: 1 if x < 4 else 0)\n",
        "\n",
        "df_reviews"
      ]
    },
    {
      "cell_type": "markdown",
      "metadata": {
        "id": "ZdsNmnKiikD5"
      },
      "source": [
        "Test with a small sample of the data set"
      ]
    },
    {
      "cell_type": "code",
      "execution_count": 4,
      "metadata": {
        "colab": {
          "base_uri": "https://localhost:8080/"
        },
        "id": "M4TU7qh8fF4C",
        "outputId": "ba600a0d-f3e9-4280-d8ab-452cfd2b8170"
      },
      "outputs": [
        {
          "data": {
            "text/plain": [
              "((24585,), (24585, 5))"
            ]
          },
          "execution_count": 4,
          "metadata": {},
          "output_type": "execute_result"
        }
      ],
      "source": [
        "y = np.asarray(df_reviews[tags])\n",
        "x_train, x_test, y_train, y_test = train_test_split(df_reviews['Content'], \n",
        "                                                    y, \n",
        "                                                    test_size=0.3, \n",
        "                                                    random_state=42)\n",
        "x_train.shape, y_train.shape"
      ]
    },
    {
      "cell_type": "markdown",
      "metadata": {
        "id": "qtWcUym48pxf"
      },
      "source": [
        "Construct a consistent pipeline. "
      ]
    },
    {
      "cell_type": "code",
      "execution_count": 11,
      "metadata": {
        "id": "rZYcEAJD-p5-"
      },
      "outputs": [],
      "source": [
        "class CLF:\n",
        "  def __init__(self, max_features, k_neighbors):\n",
        "    self.vectorize = TfidfVectorizer(max_features=max_features)\n",
        "    self.clf = MLkNN(k=k_neighbors)\n",
        "\n",
        "  def fit(self, x, y):\n",
        "    self.vectorize.fit(x)\n",
        "    x = self.vectorize.transform(x)\n",
        "    self.clf.fit(x, y)\n",
        "    return self, x\n",
        "\n",
        "  def predict(self, x):\n",
        "    x = self.vectorize.transform(x)\n",
        "    return self.clf.predict(x)\n"
      ]
    },
    {
      "cell_type": "code",
      "execution_count": 12,
      "metadata": {
        "colab": {
          "base_uri": "https://localhost:8080/"
        },
        "id": "wKKhXr5FgDnr",
        "outputId": "190732b9-4341-46b5-e210-9982aa2cca2d"
      },
      "outputs": [
        {
          "ename": "TypeError",
          "evalue": "fit() missing 1 required positional argument: 'y'",
          "output_type": "error",
          "traceback": [
            "\u001b[1;31m---------------------------------------------------------------------------\u001b[0m",
            "\u001b[1;31mTypeError\u001b[0m                                 Traceback (most recent call last)",
            "\u001b[1;32mc:\\Users\\karen\\myprojects\\hotel-reviews\\notebooks\\hotel_classification_quick_model.ipynb Cell 12\u001b[0m in \u001b[0;36m<cell line: 2>\u001b[1;34m()\u001b[0m\n\u001b[0;32m      <a href='vscode-notebook-cell:/c%3A/Users/karen/myprojects/hotel-reviews/notebooks/hotel_classification_quick_model.ipynb#X14sZmlsZQ%3D%3D?line=0'>1</a>\u001b[0m pipe \u001b[39m=\u001b[39m CLF(\u001b[39m500\u001b[39m, \u001b[39m5\u001b[39m)\n\u001b[1;32m----> <a href='vscode-notebook-cell:/c%3A/Users/karen/myprojects/hotel-reviews/notebooks/hotel_classification_quick_model.ipynb#X14sZmlsZQ%3D%3D?line=1'>2</a>\u001b[0m _, x \u001b[39m=\u001b[39m pipe\u001b[39m.\u001b[39;49mfit(x_train, y_train)\n",
            "\u001b[1;32mc:\\Users\\karen\\myprojects\\hotel-reviews\\notebooks\\hotel_classification_quick_model.ipynb Cell 12\u001b[0m in \u001b[0;36mCLF.fit\u001b[1;34m(self, x, y)\u001b[0m\n\u001b[0;32m      <a href='vscode-notebook-cell:/c%3A/Users/karen/myprojects/hotel-reviews/notebooks/hotel_classification_quick_model.ipynb#X14sZmlsZQ%3D%3D?line=6'>7</a>\u001b[0m \u001b[39mself\u001b[39m\u001b[39m.\u001b[39mvectorize\u001b[39m.\u001b[39mfit(x)\n\u001b[0;32m      <a href='vscode-notebook-cell:/c%3A/Users/karen/myprojects/hotel-reviews/notebooks/hotel_classification_quick_model.ipynb#X14sZmlsZQ%3D%3D?line=7'>8</a>\u001b[0m x \u001b[39m=\u001b[39m \u001b[39mself\u001b[39m\u001b[39m.\u001b[39mvectorize\u001b[39m.\u001b[39mtransform(x)\n\u001b[1;32m----> <a href='vscode-notebook-cell:/c%3A/Users/karen/myprojects/hotel-reviews/notebooks/hotel_classification_quick_model.ipynb#X14sZmlsZQ%3D%3D?line=8'>9</a>\u001b[0m \u001b[39mself\u001b[39;49m\u001b[39m.\u001b[39;49mclf\u001b[39m.\u001b[39;49mfit(x)\n\u001b[0;32m     <a href='vscode-notebook-cell:/c%3A/Users/karen/myprojects/hotel-reviews/notebooks/hotel_classification_quick_model.ipynb#X14sZmlsZQ%3D%3D?line=9'>10</a>\u001b[0m \u001b[39mreturn\u001b[39;00m \u001b[39mself\u001b[39m, x\n",
            "\u001b[1;31mTypeError\u001b[0m: fit() missing 1 required positional argument: 'y'"
          ]
        }
      ],
      "source": [
        "pipe = CLF(500, 5)\n",
        "_, x = pipe.fit(x_train, y_train)"
      ]
    },
    {
      "cell_type": "markdown",
      "metadata": {
        "id": "vba10zO9Etz3"
      },
      "source": [
        "Problem is we are trying to use K nearest neighbors on a very sparse input"
      ]
    },
    {
      "cell_type": "code",
      "execution_count": 82,
      "metadata": {
        "colab": {
          "base_uri": "https://localhost:8080/"
        },
        "id": "bFmhAcwDD6Lo",
        "outputId": "6bd535c5-d99c-491e-f5e8-29f2d5f11540"
      },
      "outputs": [
        {
          "data": {
            "text/plain": [
              "array([[0.        , 0.        , 0.        , ..., 0.        , 0.        ,\n",
              "        0.        ],\n",
              "       [0.        , 0.        , 0.        , ..., 0.        , 0.        ,\n",
              "        0.        ],\n",
              "       [0.        , 0.        , 0.        , ..., 0.        , 0.        ,\n",
              "        0.        ],\n",
              "       ...,\n",
              "       [0.11661247, 0.        , 0.        , ..., 0.13311904, 0.        ,\n",
              "        0.        ],\n",
              "       [0.        , 0.        , 0.        , ..., 0.        , 0.        ,\n",
              "        0.        ],\n",
              "       [0.        , 0.        , 0.        , ..., 0.        , 0.        ,\n",
              "        0.        ]])"
            ]
          },
          "execution_count": 82,
          "metadata": {},
          "output_type": "execute_result"
        }
      ],
      "source": [
        "x.toarray()"
      ]
    },
    {
      "cell_type": "code",
      "execution_count": 83,
      "metadata": {
        "id": "9fN5VfmZgile"
      },
      "outputs": [],
      "source": [
        "y_hat = pipe.predict(x_test)\n"
      ]
    },
    {
      "cell_type": "code",
      "execution_count": 84,
      "metadata": {
        "colab": {
          "base_uri": "https://localhost:8080/"
        },
        "id": "98TC6NLtg2LG",
        "outputId": "46bf7738-420c-4a2e-afb5-6c208af367e6"
      },
      "outputs": [
        {
          "data": {
            "text/plain": [
              "array([[0, 1, 0, 1, 1],\n",
              "       [1, 1, 1, 1, 1],\n",
              "       [0, 1, 1, 1, 1],\n",
              "       [0, 0, 0, 0, 1],\n",
              "       [0, 0, 0, 0, 0]])"
            ]
          },
          "execution_count": 84,
          "metadata": {},
          "output_type": "execute_result"
        }
      ],
      "source": [
        "y_hat.toarray()[:5]"
      ]
    },
    {
      "cell_type": "code",
      "execution_count": 85,
      "metadata": {
        "colab": {
          "base_uri": "https://localhost:8080/"
        },
        "id": "0X3uglqW7x63",
        "outputId": "43eadaa0-902f-4dfc-dad8-144608052290"
      },
      "outputs": [
        {
          "data": {
            "text/plain": [
              "array([[1, 1, 1, 1, 1],\n",
              "       [0, 0, 1, 1, 1],\n",
              "       [1, 1, 0, 0, 1],\n",
              "       [0, 0, 0, 0, 0],\n",
              "       [0, 0, 0, 0, 0]])"
            ]
          },
          "execution_count": 85,
          "metadata": {},
          "output_type": "execute_result"
        }
      ],
      "source": [
        "y_test[:5]"
      ]
    },
    {
      "cell_type": "code",
      "execution_count": 75,
      "metadata": {
        "colab": {
          "base_uri": "https://localhost:8080/"
        },
        "id": "BqokvKnb8Hkb",
        "outputId": "66afe02b-ade4-440a-8ccf-1877ddfdfd0c"
      },
      "outputs": [
        {
          "data": {
            "text/plain": [
              "4520     noisiest hotel ever stayed j johnson north eas...\n",
              "13214    annoying deposit second time ive stayed hotel ...\n",
              "5706     great view need renovation husband went chicag...\n",
              "29850    fantastic central location would use room grea...\n",
              "34791    would go back great location quiet guest house...\n",
              "Name: Content, dtype: object"
            ]
          },
          "execution_count": 75,
          "metadata": {},
          "output_type": "execute_result"
        }
      ],
      "source": [
        "x_test[:5]"
      ]
    },
    {
      "cell_type": "code",
      "execution_count": 86,
      "metadata": {
        "colab": {
          "base_uri": "https://localhost:8080/"
        },
        "id": "BeVZJeZBg6RS",
        "outputId": "d5e98877-cc3d-48b2-b76b-68a00aa6a6c9"
      },
      "outputs": [
        {
          "name": "stdout",
          "output_type": "stream",
          "text": [
            "0.40922463699345163\n",
            "0.2645155167504982\n"
          ]
        }
      ],
      "source": [
        "print(accuracy_score(y_test, y_hat)) \n",
        "print(hamming_loss(y_test, y_hat))"
      ]
    },
    {
      "cell_type": "code",
      "execution_count": 87,
      "metadata": {
        "id": "cB5nmp1ck64k"
      },
      "outputs": [],
      "source": [
        "myreview = \"This is the niceset hotel I have stayed in. The staff was really helpful and kind. The room was spotless. I will recommend this to all my friends!\"\n",
        "result = pipe.predict([myreview])\n"
      ]
    },
    {
      "cell_type": "code",
      "execution_count": 88,
      "metadata": {
        "colab": {
          "base_uri": "https://localhost:8080/"
        },
        "id": "7aSThaJN_7lb",
        "outputId": "e8ed67c8-6d9c-482b-e9be-4fe4ebb01274"
      },
      "outputs": [
        {
          "data": {
            "text/plain": [
              "array([[0, 0, 0, 0, 0]])"
            ]
          },
          "execution_count": 88,
          "metadata": {},
          "output_type": "execute_result"
        }
      ],
      "source": [
        "result.toarray()"
      ]
    },
    {
      "cell_type": "code",
      "execution_count": 89,
      "metadata": {
        "colab": {
          "base_uri": "https://localhost:8080/"
        },
        "id": "QflWlDNDAJQ_",
        "outputId": "321836ef-8bb4-4729-a252-206bf17a9695"
      },
      "outputs": [
        {
          "data": {
            "text/plain": [
              "array([[1, 1, 0, 0, 1]])"
            ]
          },
          "execution_count": 89,
          "metadata": {},
          "output_type": "execute_result"
        }
      ],
      "source": [
        "badreview = \"I had no sleep at all. The room was filthy. The service really did not care at all.\"\n",
        "result = pipe.predict([badreview])\n",
        "result.toarray()"
      ]
    },
    {
      "cell_type": "code",
      "execution_count": 80,
      "metadata": {
        "colab": {
          "base_uri": "https://localhost:8080/"
        },
        "id": "ldYPIejXCr45",
        "outputId": "cbcce8ef-2e93-41ca-8a20-a25c9d9ff1ea"
      },
      "outputs": [
        {
          "data": {
            "text/plain": [
              "['Cleanliness', 'Rooms', 'Service', 'Sleep Quality', 'Value']"
            ]
          },
          "execution_count": 80,
          "metadata": {},
          "output_type": "execute_result"
        }
      ],
      "source": [
        "tags"
      ]
    },
    {
      "cell_type": "code",
      "execution_count": 90,
      "metadata": {
        "colab": {
          "base_uri": "https://localhost:8080/"
        },
        "id": "w4PuJB0aA1WX",
        "outputId": "5ffa25b9-59bb-4acd-f259-357448b4a58e"
      },
      "outputs": [
        {
          "data": {
            "text/plain": [
              "array([[1, 1, 0, 0, 1]])"
            ]
          },
          "execution_count": 90,
          "metadata": {},
          "output_type": "execute_result"
        }
      ],
      "source": [
        "review = \"Hardly worth the price\"\n",
        "result = pipe.predict([badreview])\n",
        "result.toarray()"
      ]
    }
  ],
  "metadata": {
    "colab": {
      "authorship_tag": "ABX9TyM1jsuP+psO+EAJYt26cIk1",
      "include_colab_link": true,
      "mount_file_id": "1LNCOyJ1kHoFZS7xga7TgYehy7aTkcp3V",
      "provenance": []
    },
    "kernelspec": {
      "display_name": "base",
      "language": "python",
      "name": "python3"
    },
    "language_info": {
      "codemirror_mode": {
        "name": "ipython",
        "version": 3
      },
      "file_extension": ".py",
      "mimetype": "text/x-python",
      "name": "python",
      "nbconvert_exporter": "python",
      "pygments_lexer": "ipython3",
      "version": "3.8.8"
    },
    "vscode": {
      "interpreter": {
        "hash": "e94a37844a0b2c58d590d23a1d3c94eb0291991d9599c29c548c65f82166f260"
      }
    }
  },
  "nbformat": 4,
  "nbformat_minor": 0
}
