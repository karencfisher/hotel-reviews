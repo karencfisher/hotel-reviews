{
  "cells": [
    {
      "cell_type": "markdown",
      "metadata": {
        "colab_type": "text",
        "id": "view-in-github"
      },
      "source": [
        "<a href=\"https://colab.research.google.com/github/karencfisher/hotel-reviews/blob/main/notebooks/hotel_classification_quick_model.ipynb\" target=\"_parent\"><img src=\"https://colab.research.google.com/assets/colab-badge.svg\" alt=\"Open In Colab\"/></a>"
      ]
    },
    {
      "cell_type": "code",
      "execution_count": 64,
      "metadata": {
        "colab": {
          "base_uri": "https://localhost:8080/"
        },
        "id": "ksV4tgOpMX4h",
        "outputId": "7609e010-bf24-45f2-ad1a-c3f5a0218152"
      },
      "outputs": [
        {
          "name": "stdout",
          "output_type": "stream",
          "text": [
            "--2023-02-13 19:28:44--  https://raw.githubusercontent.com/karencfisher/hotel-reviews/main/data/reviews_sample.csv\n",
            "Resolving raw.githubusercontent.com (raw.githubusercontent.com)... 185.199.110.133, 185.199.109.133, 185.199.111.133, ...\n",
            "Connecting to raw.githubusercontent.com (raw.githubusercontent.com)|185.199.110.133|:443... connected.\n",
            "HTTP request sent, awaiting response... 200 OK\n",
            "Length: 23866047 (23M) [text/plain]\n",
            "Saving to: ‘reviews_sample.csv’\n",
            "\n",
            "reviews_sample.csv  100%[===================>]  22.76M  --.-KB/s    in 0.1s    \n",
            "\n",
            "2023-02-13 19:28:44 (155 MB/s) - ‘reviews_sample.csv’ saved [23866047/23866047]\n",
            "\n"
          ]
        }
      ],
      "source": [
        "!wget https://raw.githubusercontent.com/karencfisher/hotel-reviews/main/data/reviews_sample.csv"
      ]
    },
    {
      "cell_type": "code",
      "execution_count": 2,
      "metadata": {
        "id": "Nm7nLgj8a4II"
      },
      "outputs": [],
      "source": [
        "import pandas as pd \n",
        "import numpy as np \n",
        "import matplotlib.pyplot as plt\n",
        "\n",
        "from sklearn.model_selection import train_test_split \n",
        "from sklearn.feature_extraction.text import TfidfVectorizer \n",
        "from sklearn.metrics import hamming_loss, accuracy_score \n",
        "\n",
        "from tensorflow.keras.models import Sequential\n",
        "from tensorflow.keras.layers import Dense"
      ]
    },
    {
      "cell_type": "code",
      "execution_count": 3,
      "metadata": {
        "colab": {
          "base_uri": "https://localhost:8080/",
          "height": 424
        },
        "id": "Sgs-CaVXbHPY",
        "outputId": "d4520194-16a5-4069-d57a-26c71a071529"
      },
      "outputs": [
        {
          "data": {
            "text/html": [
              "<div>\n",
              "<style scoped>\n",
              "    .dataframe tbody tr th:only-of-type {\n",
              "        vertical-align: middle;\n",
              "    }\n",
              "\n",
              "    .dataframe tbody tr th {\n",
              "        vertical-align: top;\n",
              "    }\n",
              "\n",
              "    .dataframe thead th {\n",
              "        text-align: right;\n",
              "    }\n",
              "</style>\n",
              "<table border=\"1\" class=\"dataframe\">\n",
              "  <thead>\n",
              "    <tr style=\"text-align: right;\">\n",
              "      <th></th>\n",
              "      <th>Cleanliness</th>\n",
              "      <th>Rooms</th>\n",
              "      <th>Service</th>\n",
              "      <th>Sleep Quality</th>\n",
              "      <th>Value</th>\n",
              "      <th>Content</th>\n",
              "      <th>average_score</th>\n",
              "      <th>sentiment</th>\n",
              "    </tr>\n",
              "  </thead>\n",
              "  <tbody>\n",
              "    <tr>\n",
              "      <th>0</th>\n",
              "      <td>4</td>\n",
              "      <td>3</td>\n",
              "      <td>4</td>\n",
              "      <td>2</td>\n",
              "      <td>5</td>\n",
              "      <td>excellent value drawbacks second trip rius pla...</td>\n",
              "      <td>3.428571</td>\n",
              "      <td>0</td>\n",
              "    </tr>\n",
              "    <tr>\n",
              "      <th>1</th>\n",
              "      <td>2</td>\n",
              "      <td>3</td>\n",
              "      <td>2</td>\n",
              "      <td>3</td>\n",
              "      <td>3</td>\n",
              "      <td>great location hotel could better okay planned...</td>\n",
              "      <td>3.000000</td>\n",
              "      <td>0</td>\n",
              "    </tr>\n",
              "    <tr>\n",
              "      <th>2</th>\n",
              "      <td>3</td>\n",
              "      <td>2</td>\n",
              "      <td>2</td>\n",
              "      <td>2</td>\n",
              "      <td>3</td>\n",
              "      <td>slightly better dingy booked via hotelscom rea...</td>\n",
              "      <td>2.857143</td>\n",
              "      <td>0</td>\n",
              "    </tr>\n",
              "    <tr>\n",
              "      <th>3</th>\n",
              "      <td>5</td>\n",
              "      <td>2</td>\n",
              "      <td>2</td>\n",
              "      <td>5</td>\n",
              "      <td>2</td>\n",
              "      <td>could worse also much better bad hotel ever st...</td>\n",
              "      <td>3.142857</td>\n",
              "      <td>0</td>\n",
              "    </tr>\n",
              "    <tr>\n",
              "      <th>4</th>\n",
              "      <td>3</td>\n",
              "      <td>1</td>\n",
              "      <td>3</td>\n",
              "      <td>3</td>\n",
              "      <td>2</td>\n",
              "      <td>faded glory nice try place embarrassment marri...</td>\n",
              "      <td>2.571429</td>\n",
              "      <td>0</td>\n",
              "    </tr>\n",
              "    <tr>\n",
              "      <th>...</th>\n",
              "      <td>...</td>\n",
              "      <td>...</td>\n",
              "      <td>...</td>\n",
              "      <td>...</td>\n",
              "      <td>...</td>\n",
              "      <td>...</td>\n",
              "      <td>...</td>\n",
              "      <td>...</td>\n",
              "    </tr>\n",
              "    <tr>\n",
              "      <th>35117</th>\n",
              "      <td>5</td>\n",
              "      <td>3</td>\n",
              "      <td>1</td>\n",
              "      <td>4</td>\n",
              "      <td>5</td>\n",
              "      <td>say liked price cleaning service didnt pay muc...</td>\n",
              "      <td>3.571429</td>\n",
              "      <td>1</td>\n",
              "    </tr>\n",
              "    <tr>\n",
              "      <th>35118</th>\n",
              "      <td>4</td>\n",
              "      <td>4</td>\n",
              "      <td>4</td>\n",
              "      <td>4</td>\n",
              "      <td>5</td>\n",
              "      <td>affordable cleanm convenient touch atmosphere ...</td>\n",
              "      <td>4.142857</td>\n",
              "      <td>1</td>\n",
              "    </tr>\n",
              "    <tr>\n",
              "      <th>35119</th>\n",
              "      <td>5</td>\n",
              "      <td>5</td>\n",
              "      <td>5</td>\n",
              "      <td>5</td>\n",
              "      <td>5</td>\n",
              "      <td>great stay would gladly go back free copies ny...</td>\n",
              "      <td>5.000000</td>\n",
              "      <td>1</td>\n",
              "    </tr>\n",
              "    <tr>\n",
              "      <th>35120</th>\n",
              "      <td>5</td>\n",
              "      <td>5</td>\n",
              "      <td>5</td>\n",
              "      <td>5</td>\n",
              "      <td>5</td>\n",
              "      <td>resort hotel great value terrific place conven...</td>\n",
              "      <td>5.000000</td>\n",
              "      <td>1</td>\n",
              "    </tr>\n",
              "    <tr>\n",
              "      <th>35121</th>\n",
              "      <td>3</td>\n",
              "      <td>4</td>\n",
              "      <td>5</td>\n",
              "      <td>4</td>\n",
              "      <td>3</td>\n",
              "      <td>id stay id reserved room online arrived around...</td>\n",
              "      <td>4.000000</td>\n",
              "      <td>1</td>\n",
              "    </tr>\n",
              "  </tbody>\n",
              "</table>\n",
              "<p>35122 rows × 8 columns</p>\n",
              "</div>"
            ],
            "text/plain": [
              "       Cleanliness  Rooms  Service  Sleep Quality  Value  \\\n",
              "0                4      3        4              2      5   \n",
              "1                2      3        2              3      3   \n",
              "2                3      2        2              2      3   \n",
              "3                5      2        2              5      2   \n",
              "4                3      1        3              3      2   \n",
              "...            ...    ...      ...            ...    ...   \n",
              "35117            5      3        1              4      5   \n",
              "35118            4      4        4              4      5   \n",
              "35119            5      5        5              5      5   \n",
              "35120            5      5        5              5      5   \n",
              "35121            3      4        5              4      3   \n",
              "\n",
              "                                                 Content  average_score  \\\n",
              "0      excellent value drawbacks second trip rius pla...       3.428571   \n",
              "1      great location hotel could better okay planned...       3.000000   \n",
              "2      slightly better dingy booked via hotelscom rea...       2.857143   \n",
              "3      could worse also much better bad hotel ever st...       3.142857   \n",
              "4      faded glory nice try place embarrassment marri...       2.571429   \n",
              "...                                                  ...            ...   \n",
              "35117  say liked price cleaning service didnt pay muc...       3.571429   \n",
              "35118  affordable cleanm convenient touch atmosphere ...       4.142857   \n",
              "35119  great stay would gladly go back free copies ny...       5.000000   \n",
              "35120  resort hotel great value terrific place conven...       5.000000   \n",
              "35121  id stay id reserved room online arrived around...       4.000000   \n",
              "\n",
              "       sentiment  \n",
              "0              0  \n",
              "1              0  \n",
              "2              0  \n",
              "3              0  \n",
              "4              0  \n",
              "...          ...  \n",
              "35117          1  \n",
              "35118          1  \n",
              "35119          1  \n",
              "35120          1  \n",
              "35121          1  \n",
              "\n",
              "[35122 rows x 8 columns]"
            ]
          },
          "execution_count": 3,
          "metadata": {},
          "output_type": "execute_result"
        }
      ],
      "source": [
        "df_reviews = pd.read_csv('..\\\\data\\\\reviews_sample.csv')\n",
        "df_reviews.drop(columns=['Overall', 'Location'], inplace=True)\n",
        "df_reviews"
      ]
    },
    {
      "cell_type": "markdown",
      "metadata": {
        "id": "TT-JpxrbeDG9"
      },
      "source": [
        "Convert ratings to tags for Cleanliness, Rooms, Service, and Value. 1 if less than rating of 4 to indicate in need of attention."
      ]
    },
    {
      "cell_type": "code",
      "execution_count": 4,
      "metadata": {
        "colab": {
          "base_uri": "https://localhost:8080/",
          "height": 424
        },
        "id": "3kYHlSLObd1L",
        "outputId": "744befde-7df2-4736-e52e-5294b2a123b0"
      },
      "outputs": [
        {
          "data": {
            "text/html": [
              "<div>\n",
              "<style scoped>\n",
              "    .dataframe tbody tr th:only-of-type {\n",
              "        vertical-align: middle;\n",
              "    }\n",
              "\n",
              "    .dataframe tbody tr th {\n",
              "        vertical-align: top;\n",
              "    }\n",
              "\n",
              "    .dataframe thead th {\n",
              "        text-align: right;\n",
              "    }\n",
              "</style>\n",
              "<table border=\"1\" class=\"dataframe\">\n",
              "  <thead>\n",
              "    <tr style=\"text-align: right;\">\n",
              "      <th></th>\n",
              "      <th>Cleanliness</th>\n",
              "      <th>Rooms</th>\n",
              "      <th>Service</th>\n",
              "      <th>Sleep Quality</th>\n",
              "      <th>Value</th>\n",
              "      <th>Content</th>\n",
              "      <th>average_score</th>\n",
              "      <th>sentiment</th>\n",
              "    </tr>\n",
              "  </thead>\n",
              "  <tbody>\n",
              "    <tr>\n",
              "      <th>0</th>\n",
              "      <td>0</td>\n",
              "      <td>1</td>\n",
              "      <td>0</td>\n",
              "      <td>1</td>\n",
              "      <td>0</td>\n",
              "      <td>excellent value drawbacks second trip rius pla...</td>\n",
              "      <td>3.428571</td>\n",
              "      <td>0</td>\n",
              "    </tr>\n",
              "    <tr>\n",
              "      <th>1</th>\n",
              "      <td>1</td>\n",
              "      <td>1</td>\n",
              "      <td>1</td>\n",
              "      <td>1</td>\n",
              "      <td>1</td>\n",
              "      <td>great location hotel could better okay planned...</td>\n",
              "      <td>3.000000</td>\n",
              "      <td>0</td>\n",
              "    </tr>\n",
              "    <tr>\n",
              "      <th>2</th>\n",
              "      <td>1</td>\n",
              "      <td>1</td>\n",
              "      <td>1</td>\n",
              "      <td>1</td>\n",
              "      <td>1</td>\n",
              "      <td>slightly better dingy booked via hotelscom rea...</td>\n",
              "      <td>2.857143</td>\n",
              "      <td>0</td>\n",
              "    </tr>\n",
              "    <tr>\n",
              "      <th>3</th>\n",
              "      <td>0</td>\n",
              "      <td>1</td>\n",
              "      <td>1</td>\n",
              "      <td>0</td>\n",
              "      <td>1</td>\n",
              "      <td>could worse also much better bad hotel ever st...</td>\n",
              "      <td>3.142857</td>\n",
              "      <td>0</td>\n",
              "    </tr>\n",
              "    <tr>\n",
              "      <th>4</th>\n",
              "      <td>1</td>\n",
              "      <td>1</td>\n",
              "      <td>1</td>\n",
              "      <td>1</td>\n",
              "      <td>1</td>\n",
              "      <td>faded glory nice try place embarrassment marri...</td>\n",
              "      <td>2.571429</td>\n",
              "      <td>0</td>\n",
              "    </tr>\n",
              "    <tr>\n",
              "      <th>...</th>\n",
              "      <td>...</td>\n",
              "      <td>...</td>\n",
              "      <td>...</td>\n",
              "      <td>...</td>\n",
              "      <td>...</td>\n",
              "      <td>...</td>\n",
              "      <td>...</td>\n",
              "      <td>...</td>\n",
              "    </tr>\n",
              "    <tr>\n",
              "      <th>35117</th>\n",
              "      <td>0</td>\n",
              "      <td>1</td>\n",
              "      <td>1</td>\n",
              "      <td>0</td>\n",
              "      <td>0</td>\n",
              "      <td>say liked price cleaning service didnt pay muc...</td>\n",
              "      <td>3.571429</td>\n",
              "      <td>1</td>\n",
              "    </tr>\n",
              "    <tr>\n",
              "      <th>35118</th>\n",
              "      <td>0</td>\n",
              "      <td>0</td>\n",
              "      <td>0</td>\n",
              "      <td>0</td>\n",
              "      <td>0</td>\n",
              "      <td>affordable cleanm convenient touch atmosphere ...</td>\n",
              "      <td>4.142857</td>\n",
              "      <td>1</td>\n",
              "    </tr>\n",
              "    <tr>\n",
              "      <th>35119</th>\n",
              "      <td>0</td>\n",
              "      <td>0</td>\n",
              "      <td>0</td>\n",
              "      <td>0</td>\n",
              "      <td>0</td>\n",
              "      <td>great stay would gladly go back free copies ny...</td>\n",
              "      <td>5.000000</td>\n",
              "      <td>1</td>\n",
              "    </tr>\n",
              "    <tr>\n",
              "      <th>35120</th>\n",
              "      <td>0</td>\n",
              "      <td>0</td>\n",
              "      <td>0</td>\n",
              "      <td>0</td>\n",
              "      <td>0</td>\n",
              "      <td>resort hotel great value terrific place conven...</td>\n",
              "      <td>5.000000</td>\n",
              "      <td>1</td>\n",
              "    </tr>\n",
              "    <tr>\n",
              "      <th>35121</th>\n",
              "      <td>1</td>\n",
              "      <td>0</td>\n",
              "      <td>0</td>\n",
              "      <td>0</td>\n",
              "      <td>1</td>\n",
              "      <td>id stay id reserved room online arrived around...</td>\n",
              "      <td>4.000000</td>\n",
              "      <td>1</td>\n",
              "    </tr>\n",
              "  </tbody>\n",
              "</table>\n",
              "<p>35122 rows × 8 columns</p>\n",
              "</div>"
            ],
            "text/plain": [
              "       Cleanliness  Rooms  Service  Sleep Quality  Value  \\\n",
              "0                0      1        0              1      0   \n",
              "1                1      1        1              1      1   \n",
              "2                1      1        1              1      1   \n",
              "3                0      1        1              0      1   \n",
              "4                1      1        1              1      1   \n",
              "...            ...    ...      ...            ...    ...   \n",
              "35117            0      1        1              0      0   \n",
              "35118            0      0        0              0      0   \n",
              "35119            0      0        0              0      0   \n",
              "35120            0      0        0              0      0   \n",
              "35121            1      0        0              0      1   \n",
              "\n",
              "                                                 Content  average_score  \\\n",
              "0      excellent value drawbacks second trip rius pla...       3.428571   \n",
              "1      great location hotel could better okay planned...       3.000000   \n",
              "2      slightly better dingy booked via hotelscom rea...       2.857143   \n",
              "3      could worse also much better bad hotel ever st...       3.142857   \n",
              "4      faded glory nice try place embarrassment marri...       2.571429   \n",
              "...                                                  ...            ...   \n",
              "35117  say liked price cleaning service didnt pay muc...       3.571429   \n",
              "35118  affordable cleanm convenient touch atmosphere ...       4.142857   \n",
              "35119  great stay would gladly go back free copies ny...       5.000000   \n",
              "35120  resort hotel great value terrific place conven...       5.000000   \n",
              "35121  id stay id reserved room online arrived around...       4.000000   \n",
              "\n",
              "       sentiment  \n",
              "0              0  \n",
              "1              0  \n",
              "2              0  \n",
              "3              0  \n",
              "4              0  \n",
              "...          ...  \n",
              "35117          1  \n",
              "35118          1  \n",
              "35119          1  \n",
              "35120          1  \n",
              "35121          1  \n",
              "\n",
              "[35122 rows x 8 columns]"
            ]
          },
          "execution_count": 4,
          "metadata": {},
          "output_type": "execute_result"
        }
      ],
      "source": [
        "tags = ['Cleanliness', 'Rooms', 'Service', 'Sleep Quality', 'Value']\n",
        "df_reviews[tags].astype(int)\n",
        "\n",
        "for tag in tags:\n",
        "  df_reviews[tag] = df_reviews[tag].apply(lambda x: 1 if x < 4 else 0)\n",
        "\n",
        "df_reviews"
      ]
    },
    {
      "cell_type": "markdown",
      "metadata": {
        "id": "ZdsNmnKiikD5"
      },
      "source": [
        "Test with a small sample of the data set"
      ]
    },
    {
      "cell_type": "code",
      "execution_count": 5,
      "metadata": {
        "colab": {
          "base_uri": "https://localhost:8080/"
        },
        "id": "M4TU7qh8fF4C",
        "outputId": "ba600a0d-f3e9-4280-d8ab-452cfd2b8170"
      },
      "outputs": [
        {
          "data": {
            "text/plain": [
              "((24585,), (24585, 5))"
            ]
          },
          "execution_count": 5,
          "metadata": {},
          "output_type": "execute_result"
        }
      ],
      "source": [
        "y = np.asarray(df_reviews[tags])\n",
        "x_train, x_test, y_train, y_test = train_test_split(df_reviews['Content'], \n",
        "                                                    y, \n",
        "                                                    test_size=0.3, \n",
        "                                                    random_state=42)\n",
        "x_train.shape, y_train.shape"
      ]
    },
    {
      "cell_type": "markdown",
      "metadata": {
        "id": "qtWcUym48pxf"
      },
      "source": [
        "Construct a consistent pipeline. "
      ]
    },
    {
      "cell_type": "code",
      "execution_count": 6,
      "metadata": {
        "id": "rZYcEAJD-p5-"
      },
      "outputs": [],
      "source": [
        "class Model:\n",
        "  def __init__(self, input_shape):\n",
        "    self.model = Sequential([Dense(5, \n",
        "                             activation='sigmoid', \n",
        "                             input_shape=input_shape)])\n",
        "\n",
        "  def fit(self, x, y, epochs=100):\n",
        "    self.model.compile(optimizer='adam', loss='mse')\n",
        "    history=self.model.fit(x, y, epochs=epochs)\n",
        "    return history\n",
        "\n",
        "  def predict(self, x):\n",
        "    return self.model.predict(x)\n",
        "\n",
        "\n",
        "class CLF:\n",
        "  def __init__(self, max_features):\n",
        "    self.vectorize = TfidfVectorizer(max_features=max_features)\n",
        "    self.clf = Model((max_features,))\n",
        "\n",
        "  def fit(self, x, y, epochs=100):\n",
        "    self.vectorize.fit(x)\n",
        "    x = self.vectorize.transform(x).toarray()\n",
        "    self.clf.fit(x, y, epochs)\n",
        "    return self, x\n",
        "\n",
        "  def predict(self, x, threshold=0.5):\n",
        "    x = self.vectorize.transform(x).toarray()\n",
        "    logits =  self.clf.predict(x)\n",
        "    y = (logits > threshold).astype(int)\n",
        "    return y, logits\n"
      ]
    },
    {
      "cell_type": "code",
      "execution_count": 7,
      "metadata": {
        "colab": {
          "base_uri": "https://localhost:8080/"
        },
        "id": "wKKhXr5FgDnr",
        "outputId": "190732b9-4341-46b5-e210-9982aa2cca2d"
      },
      "outputs": [
        {
          "name": "stdout",
          "output_type": "stream",
          "text": [
            "Epoch 1/20\n",
            "769/769 [==============================] - 1s 1ms/step - loss: 0.2413\n",
            "Epoch 2/20\n",
            "769/769 [==============================] - 1s 1ms/step - loss: 0.2272\n",
            "Epoch 3/20\n",
            "769/769 [==============================] - 1s 995us/step - loss: 0.2225\n",
            "Epoch 4/20\n",
            "769/769 [==============================] - 1s 1ms/step - loss: 0.2205\n",
            "Epoch 5/20\n",
            "769/769 [==============================] - 1s 1ms/step - loss: 0.2196\n",
            "Epoch 6/20\n",
            "769/769 [==============================] - 1s 1ms/step - loss: 0.2193\n",
            "Epoch 7/20\n",
            "769/769 [==============================] - 1s 979us/step - loss: 0.2191\n",
            "Epoch 8/20\n",
            "769/769 [==============================] - 1s 1ms/step - loss: 0.2190\n",
            "Epoch 9/20\n",
            "769/769 [==============================] - 1s 1ms/step - loss: 0.2190\n",
            "Epoch 10/20\n",
            "769/769 [==============================] - 1s 976us/step - loss: 0.2190\n",
            "Epoch 11/20\n",
            "769/769 [==============================] - 1s 1ms/step - loss: 0.2189\n",
            "Epoch 12/20\n",
            "769/769 [==============================] - 1s 983us/step - loss: 0.2189\n",
            "Epoch 13/20\n",
            "769/769 [==============================] - 1s 988us/step - loss: 0.2189\n",
            "Epoch 14/20\n",
            "769/769 [==============================] - 1s 976us/step - loss: 0.2189\n",
            "Epoch 15/20\n",
            "769/769 [==============================] - 1s 1ms/step - loss: 0.2189\n",
            "Epoch 16/20\n",
            "769/769 [==============================] - 1s 963us/step - loss: 0.2189\n",
            "Epoch 17/20\n",
            "769/769 [==============================] - 1s 1ms/step - loss: 0.2189\n",
            "Epoch 18/20\n",
            "769/769 [==============================] - 1s 985us/step - loss: 0.2189\n",
            "Epoch 19/20\n",
            "769/769 [==============================] - 1s 1ms/step - loss: 0.2189\n",
            "Epoch 20/20\n",
            "769/769 [==============================] - 1s 1ms/step - loss: 0.2189\n"
          ]
        }
      ],
      "source": [
        "pipe = CLF(5)\n",
        "_, x = pipe.fit(x_train, y_train, epochs=20)"
      ]
    },
    {
      "cell_type": "code",
      "execution_count": 8,
      "metadata": {
        "id": "9fN5VfmZgile"
      },
      "outputs": [
        {
          "name": "stdout",
          "output_type": "stream",
          "text": [
            "330/330 [==============================] - 0s 918us/step\n",
            "[[0.59182394 0.75796014 0.70229465 0.7038908  0.7601458 ]\n",
            " [0.582668   0.74973935 0.69631606 0.6966466  0.75363874]\n",
            " [0.29927838 0.46171412 0.39443293 0.41572273 0.4350213 ]\n",
            " ...\n",
            " [0.57118523 0.76812106 0.6777133  0.6950463  0.73411375]\n",
            " [0.37988624 0.5227125  0.4915803  0.4746301  0.54098266]\n",
            " [0.26837507 0.40504482 0.35964358 0.36759296 0.4140962 ]] [[1 1 1 1 1]\n",
            " [1 1 1 1 1]\n",
            " [0 0 0 0 0]\n",
            " ...\n",
            " [1 1 1 1 1]\n",
            " [0 1 0 0 1]\n",
            " [0 0 0 0 0]]\n"
          ]
        }
      ],
      "source": [
        "y_hat, logits = pipe.predict(x_test)\n",
        "print(logits, y_hat)"
      ]
    },
    {
      "cell_type": "code",
      "execution_count": 9,
      "metadata": {
        "colab": {
          "base_uri": "https://localhost:8080/"
        },
        "id": "0X3uglqW7x63",
        "outputId": "43eadaa0-902f-4dfc-dad8-144608052290"
      },
      "outputs": [
        {
          "data": {
            "text/plain": [
              "array([[0, 1, 1, 1, 1],\n",
              "       [0, 0, 1, 0, 1],\n",
              "       [0, 0, 1, 1, 1],\n",
              "       [0, 1, 0, 0, 0],\n",
              "       [1, 1, 0, 0, 0]], dtype=int64)"
            ]
          },
          "execution_count": 9,
          "metadata": {},
          "output_type": "execute_result"
        }
      ],
      "source": [
        "y_test[:5]"
      ]
    },
    {
      "cell_type": "code",
      "execution_count": 10,
      "metadata": {
        "colab": {
          "base_uri": "https://localhost:8080/"
        },
        "id": "BqokvKnb8Hkb",
        "outputId": "66afe02b-ade4-440a-8ccf-1877ddfdfd0c"
      },
      "outputs": [
        {
          "data": {
            "text/plain": [
              "4520     one worst rooms ive stayed booked hotel basis ...\n",
              "13214    mixed feelings im frequent traveler business l...\n",
              "5706     would great stay except wrong charges bad serv...\n",
              "29850    good option staff friendly otherwise good leve...\n",
              "34791    good value clean comfortable hotel located rig...\n",
              "Name: Content, dtype: object"
            ]
          },
          "execution_count": 10,
          "metadata": {},
          "output_type": "execute_result"
        }
      ],
      "source": [
        "x_test[:5]"
      ]
    },
    {
      "cell_type": "code",
      "execution_count": 11,
      "metadata": {
        "colab": {
          "base_uri": "https://localhost:8080/"
        },
        "id": "BeVZJeZBg6RS",
        "outputId": "d5e98877-cc3d-48b2-b76b-68a00aa6a6c9"
      },
      "outputs": [
        {
          "name": "stdout",
          "output_type": "stream",
          "text": [
            "0.3128974091297333\n",
            "0.35380089209452403\n"
          ]
        }
      ],
      "source": [
        "print(accuracy_score(y_test, y_hat)) \n",
        "print(hamming_loss(y_test, y_hat))"
      ]
    },
    {
      "cell_type": "code",
      "execution_count": 12,
      "metadata": {
        "id": "cB5nmp1ck64k"
      },
      "outputs": [
        {
          "name": "stdout",
          "output_type": "stream",
          "text": [
            "1/1 [==============================] - 0s 19ms/step\n"
          ]
        },
        {
          "data": {
            "text/plain": [
              "(array([[1, 1, 1, 1, 1]]),\n",
              " array([[0.5464768 , 0.7154078 , 0.6687941 , 0.6648075 , 0.72473246]],\n",
              "       dtype=float32))"
            ]
          },
          "execution_count": 12,
          "metadata": {},
          "output_type": "execute_result"
        }
      ],
      "source": [
        "myreview = \"This is the niceset hotel I have stayed in. The staff was really helpful and kind. The room was spotless. I will recommend this to all my friends!\"\n",
        "result = pipe.predict([myreview])\n",
        "result"
      ]
    },
    {
      "cell_type": "code",
      "execution_count": 64,
      "metadata": {
        "colab": {
          "base_uri": "https://localhost:8080/"
        },
        "id": "QflWlDNDAJQ_",
        "outputId": "321836ef-8bb4-4729-a252-206bf17a9695"
      },
      "outputs": [
        {
          "data": {
            "text/plain": [
              "(array([[1, 1, 1, 1, 1]]),\n",
              " array([[0.6717682 , 0.7540729 , 0.7506741 , 0.9095476 , 0.91178936]],\n",
              "       dtype=float32))"
            ]
          },
          "execution_count": 64,
          "metadata": {},
          "output_type": "execute_result"
        }
      ],
      "source": [
        "badreview = \"I had no sleep at all. The room was filthy. The service really did not care at all.\"\n",
        "result = pipe.predict([badreview])\n",
        "result"
      ]
    },
    {
      "cell_type": "code",
      "execution_count": 65,
      "metadata": {
        "colab": {
          "base_uri": "https://localhost:8080/"
        },
        "id": "ldYPIejXCr45",
        "outputId": "cbcce8ef-2e93-41ca-8a20-a25c9d9ff1ea"
      },
      "outputs": [
        {
          "data": {
            "text/plain": [
              "['Cleanliness', 'Rooms', 'Service', 'Sleep Quality', 'Value']"
            ]
          },
          "execution_count": 65,
          "metadata": {},
          "output_type": "execute_result"
        }
      ],
      "source": [
        "tags"
      ]
    },
    {
      "cell_type": "code",
      "execution_count": 66,
      "metadata": {
        "colab": {
          "base_uri": "https://localhost:8080/"
        },
        "id": "w4PuJB0aA1WX",
        "outputId": "5ffa25b9-59bb-4acd-f259-357448b4a58e"
      },
      "outputs": [
        {
          "data": {
            "text/plain": [
              "(array([[1, 1, 1, 1, 1]]),\n",
              " array([[0.6717682 , 0.7540729 , 0.7506741 , 0.9095476 , 0.91178936]],\n",
              "       dtype=float32))"
            ]
          },
          "execution_count": 66,
          "metadata": {},
          "output_type": "execute_result"
        }
      ],
      "source": [
        "review = \"A very nice place except the service is poor.\"\n",
        "result = pipe.predict([badreview])\n",
        "result"
      ]
    }
  ],
  "metadata": {
    "colab": {
      "authorship_tag": "ABX9TyM1jsuP+psO+EAJYt26cIk1",
      "include_colab_link": true,
      "mount_file_id": "1LNCOyJ1kHoFZS7xga7TgYehy7aTkcp3V",
      "provenance": []
    },
    "kernelspec": {
      "display_name": "hr-env",
      "language": "python",
      "name": "python3"
    },
    "language_info": {
      "codemirror_mode": {
        "name": "ipython",
        "version": 3
      },
      "file_extension": ".py",
      "mimetype": "text/x-python",
      "name": "python",
      "nbconvert_exporter": "python",
      "pygments_lexer": "ipython3",
      "version": "3.8.8"
    },
    "vscode": {
      "interpreter": {
        "hash": "4a43043f80cc426eced863daffa614b207e555d9fd15275ec1864df4a22308ec"
      }
    }
  },
  "nbformat": 4,
  "nbformat_minor": 0
}
