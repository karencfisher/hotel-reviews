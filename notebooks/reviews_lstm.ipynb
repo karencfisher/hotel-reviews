{
  "cells": [
    {
      "cell_type": "markdown",
      "metadata": {
        "id": "view-in-github",
        "colab_type": "text"
      },
      "source": [
        "<a href=\"https://colab.research.google.com/github/karencfisher/hotel-reviews/blob/main/notebooks/reviews_lstm.ipynb\" target=\"_parent\"><img src=\"https://colab.research.google.com/assets/colab-badge.svg\" alt=\"Open In Colab\"/></a>"
      ]
    },
    {
      "cell_type": "code",
      "source": [
        "!wget https://raw.githubusercontent.com/karencfisher/hotel-reviews/main/data/reviews_sample.csv"
      ],
      "metadata": {
        "id": "lbbIqkCeUC5i",
        "outputId": "f774de89-a48a-4948-8cfc-a3ad2f1f4312",
        "colab": {
          "base_uri": "https://localhost:8080/"
        }
      },
      "execution_count": 1,
      "outputs": [
        {
          "output_type": "stream",
          "name": "stdout",
          "text": [
            "--2023-02-13 19:46:50--  https://raw.githubusercontent.com/karencfisher/hotel-reviews/main/data/reviews_sample.csv\n",
            "Resolving raw.githubusercontent.com (raw.githubusercontent.com)... 185.199.108.133, 185.199.111.133, 185.199.110.133, ...\n",
            "Connecting to raw.githubusercontent.com (raw.githubusercontent.com)|185.199.108.133|:443... connected.\n",
            "HTTP request sent, awaiting response... 200 OK\n",
            "Length: 23866047 (23M) [text/plain]\n",
            "Saving to: ‘reviews_sample.csv’\n",
            "\n",
            "reviews_sample.csv  100%[===================>]  22.76M  --.-KB/s    in 0.1s    \n",
            "\n",
            "2023-02-13 19:46:51 (165 MB/s) - ‘reviews_sample.csv’ saved [23866047/23866047]\n",
            "\n"
          ]
        }
      ]
    },
    {
      "cell_type": "code",
      "execution_count": 2,
      "metadata": {
        "id": "JcA1OKxauLkA"
      },
      "outputs": [],
      "source": [
        "from tensorflow.python.keras.utils.version_utils import TensorBoardVersionSelector\n",
        "import pandas as pd\n",
        "import numpy as np\n",
        "import matplotlib.pyplot as plt\n",
        "\n",
        "from tensorflow.keras.models import Sequential\n",
        "from tensorflow.keras.layers import Embedding, GlobalAveragePooling1D, Dense\n",
        "from tensorflow.keras.layers import Bidirectional, LSTM\n",
        "from tensorflow.keras.optimizers import Adam\n",
        "from tensorflow.keras.preprocessing.text import Tokenizer\n",
        "from tensorflow.keras.preprocessing.sequence import pad_sequences\n",
        "from tensorflow.keras.callbacks import EarlyStopping\n",
        "\n",
        "from sklearn.model_selection import train_test_split\n",
        "from sklearn.metrics import confusion_matrix, classification_report\n",
        "from sklearn.metrics import precision_score, recall_score, f1_score, roc_auc_score\n",
        "import seaborn as sns"
      ]
    },
    {
      "cell_type": "markdown",
      "source": [
        "The data set is one I have sampled from a much larger data set of over 1 million hotel reviews from around the world. I have cleaned the text here, removing stop words and converting to all lower case. \n",
        "\n",
        "The original data set included several ratings, 1 to 5 stars, including cleanliness, service, location, etc., as well as an overall rating. I averaged those for each review and binned the results into binary sentiment: 0 bad, 1 good. The model then classifies reviews in that regard."
      ],
      "metadata": {
        "id": "IGIVlGwTmWFy"
      }
    },
    {
      "cell_type": "code",
      "execution_count": 4,
      "metadata": {
        "id": "3o1ERR0fj-ku",
        "outputId": "dc88a83c-931f-42de-a7a5-f55a9a9928a2",
        "colab": {
          "base_uri": "https://localhost:8080/",
          "height": 363
        }
      },
      "outputs": [
        {
          "output_type": "execute_result",
          "data": {
            "text/plain": [
              "       Cleanliness  Location  Overall  Rooms  Service  Sleep Quality  Value  \\\n",
              "2117             1         5        1      1        3              1      3   \n",
              "11404            2         5        3      2        3              4      5   \n",
              "29917            5         5        5      5        5              5      5   \n",
              "11355            3         3        1      1        1              1      1   \n",
              "26539            4         4        5      4        4              4      4   \n",
              "9411             4         4        3      4        3              3      3   \n",
              "31350            2         4        3      3        3              5      5   \n",
              "282              4         4        3      2        4              1      3   \n",
              "31187            4         5        4      4        3              5      4   \n",
              "21246            4         5        5      4        5              5      5   \n",
              "\n",
              "                                                 Content  average_score  \\\n",
              "2117   disgusting one nastiest hotels ive ever slept ...       2.142857   \n",
              "11404  good value maui hawaii booked stay papakea dir...       3.428571   \n",
              "29917  special hotel stayed orlando 12 nights flying ...       5.000000   \n",
              "11355  humiliated robbed stayed accomodation 2 nights...       1.571429   \n",
              "26539  wished stayed longer spent last 6 days trip go...       4.142857   \n",
              "9411   good budget traveller another hotel required m...       3.428571   \n",
              "31350  great rate location booked priceline 7000 wedn...       3.571429   \n",
              "282    great decor terrible noise course hard rock ho...       3.000000   \n",
              "31187  great price great location second stay haciend...       4.142857   \n",
              "21246  great 2day stay radisson martinique family 5 t...       4.714286   \n",
              "\n",
              "       sentiment  \n",
              "2117           0  \n",
              "11404          0  \n",
              "29917          1  \n",
              "11355          0  \n",
              "26539          1  \n",
              "9411           0  \n",
              "31350          1  \n",
              "282            0  \n",
              "31187          1  \n",
              "21246          1  "
            ],
            "text/html": [
              "\n",
              "  <div id=\"df-fc45e268-63de-4a97-ac8a-713e399f484f\">\n",
              "    <div class=\"colab-df-container\">\n",
              "      <div>\n",
              "<style scoped>\n",
              "    .dataframe tbody tr th:only-of-type {\n",
              "        vertical-align: middle;\n",
              "    }\n",
              "\n",
              "    .dataframe tbody tr th {\n",
              "        vertical-align: top;\n",
              "    }\n",
              "\n",
              "    .dataframe thead th {\n",
              "        text-align: right;\n",
              "    }\n",
              "</style>\n",
              "<table border=\"1\" class=\"dataframe\">\n",
              "  <thead>\n",
              "    <tr style=\"text-align: right;\">\n",
              "      <th></th>\n",
              "      <th>Cleanliness</th>\n",
              "      <th>Location</th>\n",
              "      <th>Overall</th>\n",
              "      <th>Rooms</th>\n",
              "      <th>Service</th>\n",
              "      <th>Sleep Quality</th>\n",
              "      <th>Value</th>\n",
              "      <th>Content</th>\n",
              "      <th>average_score</th>\n",
              "      <th>sentiment</th>\n",
              "    </tr>\n",
              "  </thead>\n",
              "  <tbody>\n",
              "    <tr>\n",
              "      <th>2117</th>\n",
              "      <td>1</td>\n",
              "      <td>5</td>\n",
              "      <td>1</td>\n",
              "      <td>1</td>\n",
              "      <td>3</td>\n",
              "      <td>1</td>\n",
              "      <td>3</td>\n",
              "      <td>disgusting one nastiest hotels ive ever slept ...</td>\n",
              "      <td>2.142857</td>\n",
              "      <td>0</td>\n",
              "    </tr>\n",
              "    <tr>\n",
              "      <th>11404</th>\n",
              "      <td>2</td>\n",
              "      <td>5</td>\n",
              "      <td>3</td>\n",
              "      <td>2</td>\n",
              "      <td>3</td>\n",
              "      <td>4</td>\n",
              "      <td>5</td>\n",
              "      <td>good value maui hawaii booked stay papakea dir...</td>\n",
              "      <td>3.428571</td>\n",
              "      <td>0</td>\n",
              "    </tr>\n",
              "    <tr>\n",
              "      <th>29917</th>\n",
              "      <td>5</td>\n",
              "      <td>5</td>\n",
              "      <td>5</td>\n",
              "      <td>5</td>\n",
              "      <td>5</td>\n",
              "      <td>5</td>\n",
              "      <td>5</td>\n",
              "      <td>special hotel stayed orlando 12 nights flying ...</td>\n",
              "      <td>5.000000</td>\n",
              "      <td>1</td>\n",
              "    </tr>\n",
              "    <tr>\n",
              "      <th>11355</th>\n",
              "      <td>3</td>\n",
              "      <td>3</td>\n",
              "      <td>1</td>\n",
              "      <td>1</td>\n",
              "      <td>1</td>\n",
              "      <td>1</td>\n",
              "      <td>1</td>\n",
              "      <td>humiliated robbed stayed accomodation 2 nights...</td>\n",
              "      <td>1.571429</td>\n",
              "      <td>0</td>\n",
              "    </tr>\n",
              "    <tr>\n",
              "      <th>26539</th>\n",
              "      <td>4</td>\n",
              "      <td>4</td>\n",
              "      <td>5</td>\n",
              "      <td>4</td>\n",
              "      <td>4</td>\n",
              "      <td>4</td>\n",
              "      <td>4</td>\n",
              "      <td>wished stayed longer spent last 6 days trip go...</td>\n",
              "      <td>4.142857</td>\n",
              "      <td>1</td>\n",
              "    </tr>\n",
              "    <tr>\n",
              "      <th>9411</th>\n",
              "      <td>4</td>\n",
              "      <td>4</td>\n",
              "      <td>3</td>\n",
              "      <td>4</td>\n",
              "      <td>3</td>\n",
              "      <td>3</td>\n",
              "      <td>3</td>\n",
              "      <td>good budget traveller another hotel required m...</td>\n",
              "      <td>3.428571</td>\n",
              "      <td>0</td>\n",
              "    </tr>\n",
              "    <tr>\n",
              "      <th>31350</th>\n",
              "      <td>2</td>\n",
              "      <td>4</td>\n",
              "      <td>3</td>\n",
              "      <td>3</td>\n",
              "      <td>3</td>\n",
              "      <td>5</td>\n",
              "      <td>5</td>\n",
              "      <td>great rate location booked priceline 7000 wedn...</td>\n",
              "      <td>3.571429</td>\n",
              "      <td>1</td>\n",
              "    </tr>\n",
              "    <tr>\n",
              "      <th>282</th>\n",
              "      <td>4</td>\n",
              "      <td>4</td>\n",
              "      <td>3</td>\n",
              "      <td>2</td>\n",
              "      <td>4</td>\n",
              "      <td>1</td>\n",
              "      <td>3</td>\n",
              "      <td>great decor terrible noise course hard rock ho...</td>\n",
              "      <td>3.000000</td>\n",
              "      <td>0</td>\n",
              "    </tr>\n",
              "    <tr>\n",
              "      <th>31187</th>\n",
              "      <td>4</td>\n",
              "      <td>5</td>\n",
              "      <td>4</td>\n",
              "      <td>4</td>\n",
              "      <td>3</td>\n",
              "      <td>5</td>\n",
              "      <td>4</td>\n",
              "      <td>great price great location second stay haciend...</td>\n",
              "      <td>4.142857</td>\n",
              "      <td>1</td>\n",
              "    </tr>\n",
              "    <tr>\n",
              "      <th>21246</th>\n",
              "      <td>4</td>\n",
              "      <td>5</td>\n",
              "      <td>5</td>\n",
              "      <td>4</td>\n",
              "      <td>5</td>\n",
              "      <td>5</td>\n",
              "      <td>5</td>\n",
              "      <td>great 2day stay radisson martinique family 5 t...</td>\n",
              "      <td>4.714286</td>\n",
              "      <td>1</td>\n",
              "    </tr>\n",
              "  </tbody>\n",
              "</table>\n",
              "</div>\n",
              "      <button class=\"colab-df-convert\" onclick=\"convertToInteractive('df-fc45e268-63de-4a97-ac8a-713e399f484f')\"\n",
              "              title=\"Convert this dataframe to an interactive table.\"\n",
              "              style=\"display:none;\">\n",
              "        \n",
              "  <svg xmlns=\"http://www.w3.org/2000/svg\" height=\"24px\"viewBox=\"0 0 24 24\"\n",
              "       width=\"24px\">\n",
              "    <path d=\"M0 0h24v24H0V0z\" fill=\"none\"/>\n",
              "    <path d=\"M18.56 5.44l.94 2.06.94-2.06 2.06-.94-2.06-.94-.94-2.06-.94 2.06-2.06.94zm-11 1L8.5 8.5l.94-2.06 2.06-.94-2.06-.94L8.5 2.5l-.94 2.06-2.06.94zm10 10l.94 2.06.94-2.06 2.06-.94-2.06-.94-.94-2.06-.94 2.06-2.06.94z\"/><path d=\"M17.41 7.96l-1.37-1.37c-.4-.4-.92-.59-1.43-.59-.52 0-1.04.2-1.43.59L10.3 9.45l-7.72 7.72c-.78.78-.78 2.05 0 2.83L4 21.41c.39.39.9.59 1.41.59.51 0 1.02-.2 1.41-.59l7.78-7.78 2.81-2.81c.8-.78.8-2.07 0-2.86zM5.41 20L4 18.59l7.72-7.72 1.47 1.35L5.41 20z\"/>\n",
              "  </svg>\n",
              "      </button>\n",
              "      \n",
              "  <style>\n",
              "    .colab-df-container {\n",
              "      display:flex;\n",
              "      flex-wrap:wrap;\n",
              "      gap: 12px;\n",
              "    }\n",
              "\n",
              "    .colab-df-convert {\n",
              "      background-color: #E8F0FE;\n",
              "      border: none;\n",
              "      border-radius: 50%;\n",
              "      cursor: pointer;\n",
              "      display: none;\n",
              "      fill: #1967D2;\n",
              "      height: 32px;\n",
              "      padding: 0 0 0 0;\n",
              "      width: 32px;\n",
              "    }\n",
              "\n",
              "    .colab-df-convert:hover {\n",
              "      background-color: #E2EBFA;\n",
              "      box-shadow: 0px 1px 2px rgba(60, 64, 67, 0.3), 0px 1px 3px 1px rgba(60, 64, 67, 0.15);\n",
              "      fill: #174EA6;\n",
              "    }\n",
              "\n",
              "    [theme=dark] .colab-df-convert {\n",
              "      background-color: #3B4455;\n",
              "      fill: #D2E3FC;\n",
              "    }\n",
              "\n",
              "    [theme=dark] .colab-df-convert:hover {\n",
              "      background-color: #434B5C;\n",
              "      box-shadow: 0px 1px 3px 1px rgba(0, 0, 0, 0.15);\n",
              "      filter: drop-shadow(0px 1px 2px rgba(0, 0, 0, 0.3));\n",
              "      fill: #FFFFFF;\n",
              "    }\n",
              "  </style>\n",
              "\n",
              "      <script>\n",
              "        const buttonEl =\n",
              "          document.querySelector('#df-fc45e268-63de-4a97-ac8a-713e399f484f button.colab-df-convert');\n",
              "        buttonEl.style.display =\n",
              "          google.colab.kernel.accessAllowed ? 'block' : 'none';\n",
              "\n",
              "        async function convertToInteractive(key) {\n",
              "          const element = document.querySelector('#df-fc45e268-63de-4a97-ac8a-713e399f484f');\n",
              "          const dataTable =\n",
              "            await google.colab.kernel.invokeFunction('convertToInteractive',\n",
              "                                                     [key], {});\n",
              "          if (!dataTable) return;\n",
              "\n",
              "          const docLinkHtml = 'Like what you see? Visit the ' +\n",
              "            '<a target=\"_blank\" href=https://colab.research.google.com/notebooks/data_table.ipynb>data table notebook</a>'\n",
              "            + ' to learn more about interactive tables.';\n",
              "          element.innerHTML = '';\n",
              "          dataTable['output_type'] = 'display_data';\n",
              "          await google.colab.output.renderOutput(dataTable, element);\n",
              "          const docLink = document.createElement('div');\n",
              "          docLink.innerHTML = docLinkHtml;\n",
              "          element.appendChild(docLink);\n",
              "        }\n",
              "      </script>\n",
              "    </div>\n",
              "  </div>\n",
              "  "
            ]
          },
          "metadata": {},
          "execution_count": 4
        }
      ],
      "source": [
        "data_path = 'reviews_sample.csv'\n",
        "df_reviews = pd.read_csv(data_path)\n",
        "\n",
        "df_reviews.sample(10)"
      ]
    },
    {
      "cell_type": "markdown",
      "source": [
        "Train test split"
      ],
      "metadata": {
        "id": "cnk7xxWPnn9B"
      }
    },
    {
      "cell_type": "code",
      "execution_count": 5,
      "metadata": {
        "colab": {
          "base_uri": "https://localhost:8080/"
        },
        "id": "VnjT3Rv3zAsY",
        "outputId": "a9706576-b4b0-42fb-a3a6-fc5315f1e1bc"
      },
      "outputs": [
        {
          "output_type": "execute_result",
          "data": {
            "text/plain": [
              "((31609,), (3513,))"
            ]
          },
          "metadata": {},
          "execution_count": 5
        }
      ],
      "source": [
        "x_train, x_test, y_train, y_test = train_test_split(df_reviews['Content'],\n",
        "                                                    df_reviews['sentiment'],\n",
        "                                                    test_size=0.1)\n",
        "x_train.shape, y_test.shape"
      ]
    },
    {
      "cell_type": "markdown",
      "source": [
        "Tokenizing the reviews. The tokenizer is trained on the training dataset only; it is applied to both. If there is an unknown word in the test data, it will be replaced with a special token '<OOV>' -- meaning \"Out Of Vocabulary.\" We also limited the vocabularly to the top 10000 words. Other words will be renedered as '<OOV>'. They tend to be more rarely used words.\n",
        "\n",
        "The tokenizer also converts the individual tokens to integers, which are indexes of the words in the vocabularly. \n",
        "\n",
        "The next step then is to pad the reviews so as to be of all the same length. This is because the input dimension to the neural network is of fixed length. The individual reviews are padded at the end to be of the same length as the longest review.\n"
      ],
      "metadata": {
        "id": "JrOLgmtin3g_"
      }
    },
    {
      "cell_type": "code",
      "execution_count": 6,
      "metadata": {
        "id": "hm2wFjQe4nLz"
      },
      "outputs": [],
      "source": [
        "vocab_size = 10000\n",
        "embed_dim = 64\n",
        "oov_token = '<OOV>'\n",
        "\n",
        "tokenizer = Tokenizer(num_words=vocab_size, oov_token=oov_token)\n",
        "tokenizer.fit_on_texts(x_train)\n",
        "x_train_text = tokenizer.texts_to_sequences(x_train)\n",
        "x_train_text = pad_sequences(x_train_text, padding='post')\n",
        "\n",
        "x_test_text = tokenizer.texts_to_sequences(x_test)\n",
        "x_test_text = pad_sequences(x_test_text, padding='post')\n"
      ]
    },
    {
      "cell_type": "markdown",
      "source": [
        "Construct the Bidirectional LSTM network. The final classification is performed after the LSTM layer with a fully connected layer. It has the following layers:\n",
        "\n",
        "\n",
        "\n",
        "1.   Embedding layer. Translates the tokens into word vectors (64 values).\n",
        "2.   BiDirectional LSTM layer\n",
        "3.   Hidden dense layer with 64 neurons and Relu activation function.\n",
        "4    Output layer of single neuron with Sigmoid activation. It returns 0 to 1:\n",
        "     If > .5 is a positive review, otherwise negative.\n",
        "\n",
        "\n",
        "\n"
      ],
      "metadata": {
        "id": "YFZTOd7Drt89"
      }
    },
    {
      "cell_type": "code",
      "execution_count": 8,
      "metadata": {
        "id": "4vHNONCJG5d8",
        "outputId": "5ca520ba-0077-4813-9010-6fb31ab07dac",
        "colab": {
          "base_uri": "https://localhost:8080/"
        }
      },
      "outputs": [
        {
          "output_type": "stream",
          "name": "stdout",
          "text": [
            "Model: \"sequential_1\"\n",
            "_________________________________________________________________\n",
            " Layer (type)                Output Shape              Param #   \n",
            "=================================================================\n",
            " embedding_1 (Embedding)     (None, None, 64)          640000    \n",
            "                                                                 \n",
            " bidirectional_1 (Bidirectio  (None, 128)              66048     \n",
            " nal)                                                            \n",
            "                                                                 \n",
            " dense_2 (Dense)             (None, 1)                 129       \n",
            "                                                                 \n",
            "=================================================================\n",
            "Total params: 706,177\n",
            "Trainable params: 706,177\n",
            "Non-trainable params: 0\n",
            "_________________________________________________________________\n"
          ]
        }
      ],
      "source": [
        "model = Sequential([Embedding(vocab_size, embed_dim, mask_zero=True),\n",
        "                    Bidirectional(LSTM(embed_dim, dropout=0.20)),\n",
        "                    Dense(1, activation='sigmoid')])\n",
        "\n",
        "opt = Adam(learning_rate=1e-5)\n",
        "model.compile(optimizer=opt, loss='binary_crossentropy', metrics=['accuracy'])\n",
        "\n",
        "model.summary()"
      ]
    },
    {
      "cell_type": "markdown",
      "source": [
        "Train the model. "
      ],
      "metadata": {
        "id": "c7FEhje4sVVc"
      }
    },
    {
      "cell_type": "code",
      "execution_count": 9,
      "metadata": {
        "colab": {
          "base_uri": "https://localhost:8080/"
        },
        "id": "xIE4HXBHK92H",
        "outputId": "217ff5b8-f1a6-4dde-ac2e-b59055e35309"
      },
      "outputs": [
        {
          "output_type": "stream",
          "name": "stdout",
          "text": [
            "Epoch 1/30\n",
            "988/988 [==============================] - 136s 124ms/step - loss: 0.6915 - accuracy: 0.6017 - val_loss: 0.6894 - val_accuracy: 0.6732\n",
            "Epoch 2/30\n",
            "988/988 [==============================] - 58s 59ms/step - loss: 0.6570 - accuracy: 0.7442 - val_loss: 0.5583 - val_accuracy: 0.7896\n",
            "Epoch 3/30\n",
            "988/988 [==============================] - 47s 48ms/step - loss: 0.4750 - accuracy: 0.8175 - val_loss: 0.4603 - val_accuracy: 0.8175\n",
            "Epoch 4/30\n",
            "988/988 [==============================] - 44s 45ms/step - loss: 0.4399 - accuracy: 0.8259 - val_loss: 0.4433 - val_accuracy: 0.8386\n",
            "Epoch 5/30\n",
            "988/988 [==============================] - 42s 42ms/step - loss: 0.4208 - accuracy: 0.8398 - val_loss: 0.4308 - val_accuracy: 0.8326\n",
            "Epoch 6/30\n",
            "988/988 [==============================] - 40s 40ms/step - loss: 0.4121 - accuracy: 0.8352 - val_loss: 0.4255 - val_accuracy: 0.8377\n",
            "Epoch 7/30\n",
            "988/988 [==============================] - 41s 41ms/step - loss: 0.4012 - accuracy: 0.8423 - val_loss: 0.4147 - val_accuracy: 0.8417\n",
            "Epoch 8/30\n",
            "988/988 [==============================] - 40s 41ms/step - loss: 0.3906 - accuracy: 0.8522 - val_loss: 0.4098 - val_accuracy: 0.8488\n",
            "Epoch 9/30\n",
            "988/988 [==============================] - 41s 41ms/step - loss: 0.3799 - accuracy: 0.8541 - val_loss: 0.4015 - val_accuracy: 0.8506\n",
            "Epoch 10/30\n",
            "988/988 [==============================] - 39s 40ms/step - loss: 0.3727 - accuracy: 0.8542 - val_loss: 0.3958 - val_accuracy: 0.8540\n",
            "Epoch 11/30\n",
            "988/988 [==============================] - 39s 39ms/step - loss: 0.3665 - accuracy: 0.8601 - val_loss: 0.3904 - val_accuracy: 0.8571\n",
            "Epoch 12/30\n",
            "988/988 [==============================] - 38s 39ms/step - loss: 0.3569 - accuracy: 0.8627 - val_loss: 0.3877 - val_accuracy: 0.8585\n",
            "Epoch 13/30\n",
            "988/988 [==============================] - 38s 39ms/step - loss: 0.3532 - accuracy: 0.8633 - val_loss: 0.3842 - val_accuracy: 0.8582\n",
            "Epoch 14/30\n",
            "988/988 [==============================] - 39s 40ms/step - loss: 0.3450 - accuracy: 0.8666 - val_loss: 0.3802 - val_accuracy: 0.8582\n",
            "Epoch 15/30\n",
            "988/988 [==============================] - 39s 39ms/step - loss: 0.3399 - accuracy: 0.8704 - val_loss: 0.3784 - val_accuracy: 0.8614\n",
            "Epoch 16/30\n",
            "988/988 [==============================] - 39s 40ms/step - loss: 0.3336 - accuracy: 0.8703 - val_loss: 0.3721 - val_accuracy: 0.8631\n",
            "Epoch 17/30\n",
            "988/988 [==============================] - 37s 38ms/step - loss: 0.3284 - accuracy: 0.8737 - val_loss: 0.3675 - val_accuracy: 0.8645\n",
            "Epoch 18/30\n",
            "988/988 [==============================] - 39s 39ms/step - loss: 0.3222 - accuracy: 0.8751 - val_loss: 0.3654 - val_accuracy: 0.8654\n",
            "Epoch 19/30\n",
            "988/988 [==============================] - 38s 39ms/step - loss: 0.3198 - accuracy: 0.8756 - val_loss: 0.3671 - val_accuracy: 0.8645\n",
            "Epoch 20/30\n",
            "988/988 [==============================] - 37s 38ms/step - loss: 0.3160 - accuracy: 0.8771 - val_loss: 0.3669 - val_accuracy: 0.8645\n",
            "Epoch 21/30\n",
            "988/988 [==============================] - 38s 38ms/step - loss: 0.3102 - accuracy: 0.8789 - val_loss: 0.3608 - val_accuracy: 0.8679\n",
            "Epoch 22/30\n",
            "988/988 [==============================] - 38s 38ms/step - loss: 0.3062 - accuracy: 0.8808 - val_loss: 0.3585 - val_accuracy: 0.8702\n",
            "Epoch 23/30\n",
            "988/988 [==============================] - 38s 38ms/step - loss: 0.3011 - accuracy: 0.8824 - val_loss: 0.3551 - val_accuracy: 0.8702\n",
            "Epoch 24/30\n",
            "988/988 [==============================] - 38s 39ms/step - loss: 0.2974 - accuracy: 0.8842 - val_loss: 0.3540 - val_accuracy: 0.8671\n",
            "Epoch 25/30\n",
            "988/988 [==============================] - 37s 38ms/step - loss: 0.2920 - accuracy: 0.8880 - val_loss: 0.3529 - val_accuracy: 0.8728\n",
            "Epoch 26/30\n",
            "988/988 [==============================] - 38s 38ms/step - loss: 0.2882 - accuracy: 0.8917 - val_loss: 0.3526 - val_accuracy: 0.8733\n",
            "Epoch 27/30\n",
            "988/988 [==============================] - 38s 38ms/step - loss: 0.2859 - accuracy: 0.8938 - val_loss: 0.3513 - val_accuracy: 0.8736\n",
            "Epoch 28/30\n",
            "988/988 [==============================] - 37s 38ms/step - loss: 0.2792 - accuracy: 0.8966 - val_loss: 0.3508 - val_accuracy: 0.8782\n",
            "Epoch 29/30\n",
            "988/988 [==============================] - 37s 38ms/step - loss: 0.2776 - accuracy: 0.8978 - val_loss: 0.3478 - val_accuracy: 0.8770\n",
            "Epoch 30/30\n",
            "988/988 [==============================] - 38s 38ms/step - loss: 0.2713 - accuracy: 0.8976 - val_loss: 0.3452 - val_accuracy: 0.8767\n"
          ]
        }
      ],
      "source": [
        "stopping = EarlyStopping(monitor='val_accuracy', \n",
        "                         patience=3, \n",
        "                         restore_best_weights=True)\n",
        "\n",
        "history = model.fit(x_train_text, \n",
        "                    y_train, \n",
        "                    epochs=30, \n",
        "                    validation_data=(x_test_text, y_test),\n",
        "                    callbacks=[stopping])"
      ]
    },
    {
      "cell_type": "markdown",
      "source": [
        "Model evaluation. "
      ],
      "metadata": {
        "id": "3WPs8HMUsdBV"
      }
    },
    {
      "cell_type": "code",
      "execution_count": 10,
      "metadata": {
        "colab": {
          "base_uri": "https://localhost:8080/",
          "height": 545
        },
        "id": "ajFUdeGEL_AW",
        "outputId": "a64832ae-62d4-4c56-c2c0-90f226752b7c"
      },
      "outputs": [
        {
          "output_type": "display_data",
          "data": {
            "text/plain": [
              "<Figure size 432x288 with 1 Axes>"
            ],
            "image/png": "[encoded data removed]"
          },
          "metadata": {
            "needs_background": "light"
          }
        },
        {
          "output_type": "display_data",
          "data": {
            "text/plain": [
              "<Figure size 432x288 with 1 Axes>"
            ],
            "image/png": "[encoded data removed]"
          },
          "metadata": {
            "needs_background": "light"
          }
        }
      ],
      "source": [
        "plt.plot(history.history['accuracy'], label='training')\n",
        "plt.plot(history.history['val_accuracy'], label ='validation')\n",
        "plt.legend()\n",
        "plt.title('Accuracy')\n",
        "plt.show()\n",
        "\n",
        "plt.plot(history.history['loss'], label='training')\n",
        "plt.plot(history.history['val_loss'], label ='validation')\n",
        "plt.legend()\n",
        "plt.title('Loss')\n",
        "plt.show()\n"
      ]
    },
    {
      "cell_type": "code",
      "execution_count": 11,
      "metadata": {
        "colab": {
          "base_uri": "https://localhost:8080/"
        },
        "id": "nJ9MIMXsM4bp",
        "outputId": "e20c568d-bd1d-400a-82f2-cf910cf6919a"
      },
      "outputs": [
        {
          "output_type": "stream",
          "name": "stdout",
          "text": [
            "110/110 [==============================] - 4s 12ms/step\n"
          ]
        }
      ],
      "source": [
        "pred_y = model.predict(x_test_text, verbose=1)\n",
        "pred_y = pred_y > 0.5"
      ]
    },
    {
      "cell_type": "code",
      "execution_count": 12,
      "metadata": {
        "colab": {
          "base_uri": "https://localhost:8080/",
          "height": 268
        },
        "id": "NCnP9jeENoJ4",
        "outputId": "0e78938b-0de5-40fb-d955-b82f9d0e5dad"
      },
      "outputs": [
        {
          "output_type": "display_data",
          "data": {
            "text/plain": [
              "<Figure size 432x288 with 2 Axes>"
            ],
            "image/png": "[encoded data removed]"
          },
          "metadata": {
            "needs_background": "light"
          }
        }
      ],
      "source": [
        "cf = confusion_matrix(pred_y, y_test)\n",
        "sns.heatmap(cf, annot=True, fmt='d');"
      ]
    },
    {
      "cell_type": "code",
      "execution_count": 13,
      "metadata": {
        "colab": {
          "base_uri": "https://localhost:8080/"
        },
        "id": "sKOIgSEtOciH",
        "outputId": "aace09be-3933-4a30-9ad6-1be0f0d8ff38"
      },
      "outputs": [
        {
          "output_type": "stream",
          "name": "stdout",
          "text": [
            "              precision    recall  f1-score   support\n",
            "\n",
            "    Negative       0.89      0.87      0.88      1847\n",
            "    Positive       0.86      0.88      0.87      1666\n",
            "\n",
            "    accuracy                           0.88      3513\n",
            "   macro avg       0.88      0.88      0.88      3513\n",
            "weighted avg       0.88      0.88      0.88      3513\n",
            "\n"
          ]
        }
      ],
      "source": [
        "print(classification_report(pred_y, y_test, target_names=['Negative', 'Positive']))"
      ]
    },
    {
      "cell_type": "markdown",
      "metadata": {
        "id": "Ozq2ZACbdgWq"
      },
      "source": [
        "Compare with baseline: the probability of being accurate if one randomly guesses one or zero for each example, which is 66.89%."
      ]
    }
  ],
  "metadata": {
    "accelerator": "GPU",
    "colab": {
      "name": "reviews.ipynb",
      "provenance": [],
      "include_colab_link": true
    },
    "kernelspec": {
      "display_name": "Python 3.8.8 ('base')",
      "language": "python",
      "name": "python3"
    },
    "language_info": {
      "codemirror_mode": {
        "name": "ipython",
        "version": 3
      },
      "file_extension": ".py",
      "mimetype": "text/x-python",
      "name": "python",
      "nbconvert_exporter": "python",
      "pygments_lexer": "ipython3",
      "version": "3.8.8"
    },
    "vscode": {
      "interpreter": {
        "hash": "e94a37844a0b2c58d590d23a1d3c94eb0291991d9599c29c548c65f82166f260"
      }
    }
  },
  "nbformat": 4,
  "nbformat_minor": 0
}