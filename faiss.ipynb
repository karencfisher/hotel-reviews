{
 "cells": [
  {
   "cell_type": "code",
   "execution_count": 1,
   "metadata": {},
   "outputs": [
    {
     "name": "stderr",
     "output_type": "stream",
     "text": [
      "c:\\Users\\karen\\Anaconda3\\envs\\hotel-reviews\\lib\\site-packages\\deeplake\\util\\check_latest_version.py:32: UserWarning: A newer version of deeplake (3.8.9) is available. It's recommended that you update to the latest version using `pip install -U deeplake`.\n",
      "  warnings.warn(\n"
     ]
    }
   ],
   "source": [
    "from dotenv import load_dotenv\n",
    "import sys\n",
    "\n",
    "import faiss\n",
    "from langchain.embeddings.openai import OpenAIEmbeddings\n",
    "from langchain.vectorstores import DeepLake\n",
    "from langchain.text_splitter import RecursiveCharacterTextSplitter\n",
    "from langchain.llms import OpenAI\n",
    "from langchain.chains import RetrievalQA\n",
    "\n",
    "from langchain.agents import initialize_agent, Tool\n",
    "from langchain.agents import AgentType\n",
    "from langchain.vectorstores import FAISS\n",
    "\n",
    "sys.path.append('..')\n",
    "from backend.DB.db import Database"
   ]
  },
  {
   "cell_type": "code",
   "execution_count": 2,
   "metadata": {},
   "outputs": [],
   "source": [
    "load_dotenv()\n",
    "llm = OpenAI(model=\"text-davinci-003\", temperature=0)\n",
    "embeddings = OpenAIEmbeddings()\n",
    "text_splitter = RecursiveCharacterTextSplitter(chunk_size=500, chunk_overlap=0)\n"
   ]
  },
  {
   "cell_type": "code",
   "execution_count": 3,
   "metadata": {},
   "outputs": [],
   "source": [
    "db = Database()\n",
    "reviews = db.query_sql('SELECT title, review_text FROM raw_reviews')\n",
    "texts = [f'{title}. {text}' for title, text in list(reviews)]\n",
    "docs = text_splitter.create_documents(texts)\n",
    "db = FAISS.from_documents(documents=docs, embedding=embeddings)\n"
   ]
  },
  {
   "cell_type": "code",
   "execution_count": 4,
   "metadata": {},
   "outputs": [],
   "source": [
    "retrieval_qa = RetrievalQA.from_chain_type(\n",
    "    llm=llm,\n",
    "    chain_type='stuff',\n",
    "    retriever=db.as_retriever(search_type=\"similarity\", search_kwargs={\"k\":2})\n",
    ")\n",
    "\n",
    "tools = [\n",
    "    Tool(name='Retrival QA System',\n",
    "         func=retrieval_qa.run,\n",
    "         description=\"Answering questions\")\n",
    "]\n",
    "\n",
    "agent = initialize_agent(tools,\n",
    "                         llm,\n",
    "                         agent=AgentType.ZERO_SHOT_REACT_DESCRIPTION,\n",
    "                         verbose=True)"
   ]
  },
  {
   "cell_type": "code",
   "execution_count": 5,
   "metadata": {},
   "outputs": [
    {
     "name": "stdout",
     "output_type": "stream",
     "text": [
      "\n",
      "\n",
      "\u001b[1m> Entering new  chain...\u001b[0m\n",
      "\u001b[32;1m\u001b[1;3m I need to find reviews that mention bugs.\n",
      "Action: Retrival QA System\n",
      "Action Input: Reviews that mention bugs\u001b[0m\n",
      "Observation: \u001b[36;1m\u001b[1;3m Reviews that mention bugs may be referring to the unpleasant stay at Gonzo Inn, Moab, Utah, where the room had bugs and the front desk was not accommodating.\u001b[0m\n",
      "Thought:\u001b[32;1m\u001b[1;3m I now know the final answer.\n",
      "Final Answer: Reviews that mention bugs may be referring to the unpleasant stay at Gonzo Inn, Moab, Utah, where the room had bugs and the front desk was not accommodating.\u001b[0m\n",
      "\n",
      "\u001b[1m> Finished chain.\u001b[0m\n",
      "Reviews that mention bugs may be referring to the unpleasant stay at Gonzo Inn, Moab, Utah, where the room had bugs and the front desk was not accommodating.\n"
     ]
    }
   ],
   "source": [
    "response = agent.run(\"Tell me about reviews that talk about bugs?\")\n",
    "print(response)"
   ]
  },
  {
   "cell_type": "code",
   "execution_count": 6,
   "metadata": {},
   "outputs": [
    {
     "name": "stdout",
     "output_type": "stream",
     "text": [
      "\n",
      "\n",
      "\u001b[1m> Entering new  chain...\u001b[0m\n",
      "\u001b[32;1m\u001b[1;3m I should look for reviews about breakfast.\n",
      "Action: Retrival QA System\n",
      "Action Input: Reviews about breakfast\u001b[0m\n",
      "Observation: \u001b[36;1m\u001b[1;3m The reviews about breakfast were generally positive. The breakfast was limited but the food was good. The $14 voucher was nice but it didn't cover a meal and a coffee. It was still only a few bucks more which people couldn't complain about.\u001b[0m\n",
      "Thought:\u001b[32;1m\u001b[1;3m I now know the final answer.\n",
      "Final Answer: Reviews about breakfast were generally positive. The breakfast was limited but the food was good. The $14 voucher was nice but it didn't cover a meal and a coffee. It was still only a few bucks more which people couldn't complain about.\u001b[0m\n",
      "\n",
      "\u001b[1m> Finished chain.\u001b[0m\n",
      "Reviews about breakfast were generally positive. The breakfast was limited but the food was good. The $14 voucher was nice but it didn't cover a meal and a coffee. It was still only a few bucks more which people couldn't complain about.\n"
     ]
    }
   ],
   "source": [
    "response = agent.run(\"What do reviews say about breakfast?\")\n",
    "print(response)"
   ]
  },
  {
   "cell_type": "code",
   "execution_count": 7,
   "metadata": {},
   "outputs": [
    {
     "name": "stdout",
     "output_type": "stream",
     "text": [
      "\n",
      "\n",
      "\u001b[1m> Entering new  chain...\u001b[0m\n",
      "\u001b[32;1m\u001b[1;3m I need to find a way to summarize the reviews.\n",
      "Action: Retrival QA System\n",
      "Action Input: Summarize bad reviews\u001b[0m\n",
      "Observation: \u001b[36;1m\u001b[1;3m The reviews for this room were not good. People mentioned that the janitorial services were not up to par and that the window coverings were not adequate for blocking out the residents in the back of the room.\u001b[0m\n",
      "Thought:\u001b[32;1m\u001b[1;3m I need to find a way to condense this information.\n",
      "Action: Retrival QA System\n",
      "Action Input: Summarize bad reviews\u001b[0m\n",
      "Observation: \u001b[36;1m\u001b[1;3m The reviews for this room were not good. People mentioned that the janitorial services were not up to par and that the window coverings were not adequate for blocking out the residents in the back of the room.\u001b[0m\n",
      "Thought:\u001b[32;1m\u001b[1;3m I now know the final answer.\n",
      "Final Answer: The reviews for this room were not good, with people citing issues with janitorial services and window coverings not blocking out the residents in the back of the room.\u001b[0m\n",
      "\n",
      "\u001b[1m> Finished chain.\u001b[0m\n",
      "The reviews for this room were not good, with people citing issues with janitorial services and window coverings not blocking out the residents in the back of the room.\n"
     ]
    }
   ],
   "source": [
    "response = agent.run(\"Can you summarize bad reviews?\")\n",
    "print(response)"
   ]
  },
  {
   "cell_type": "code",
   "execution_count": 8,
   "metadata": {},
   "outputs": [
    {
     "name": "stdout",
     "output_type": "stream",
     "text": [
      "\n",
      "\n",
      "\u001b[1m> Entering new  chain...\u001b[0m\n",
      "\u001b[32;1m\u001b[1;3m I need to find out what people are saying about the cleanliness of rooms.\n",
      "Action: Retrival QA System\n",
      "Action Input: Reviews about the cleanliness of rooms\u001b[0m\n",
      "Observation: \u001b[36;1m\u001b[1;3m Reviews about the cleanliness of rooms have been positive, with people noting that the rooms were clean and comfortable.\u001b[0m\n",
      "Thought:\u001b[32;1m\u001b[1;3m I need to calculate the average sentiment of the reviews.\n",
      "Action: Retrival QA System\n",
      "Action Input: Average sentiment of reviews about the cleanliness of rooms\u001b[0m\n",
      "Observation: \u001b[36;1m\u001b[1;3m Positive\u001b[0m\n",
      "Thought:\u001b[32;1m\u001b[1;3m I now know the final answer.\n",
      "Final Answer: The average sentiment about the cleanliness of rooms is positive.\u001b[0m\n",
      "\n",
      "\u001b[1m> Finished chain.\u001b[0m\n",
      "The average sentiment about the cleanliness of rooms is positive.\n"
     ]
    }
   ],
   "source": [
    "response = agent.run(\"What is the average sentiment about the cleanliness of rooms?\")\n",
    "print(response)"
   ]
  },
  {
   "cell_type": "code",
   "execution_count": 9,
   "metadata": {},
   "outputs": [
    {
     "name": "stdout",
     "output_type": "stream",
     "text": [
      "\n",
      "\n",
      "\u001b[1m> Entering new  chain...\u001b[0m\n",
      "\u001b[32;1m\u001b[1;3m I should look for reviews or feedback from customers.\n",
      "Action: Retrival QA System\n",
      "Action Input: Reviews of the cleanliness of rooms\u001b[0m\n",
      "Observation: \u001b[36;1m\u001b[1;3m Reviews of the cleanliness of rooms have been positive, with guests noting that the rooms were clean and comfortable.\u001b[0m\n",
      "Thought:\u001b[32;1m\u001b[1;3m I now know the final answer\n",
      "Final Answer: Reviews of the cleanliness of rooms have been positive, with guests noting that the rooms were clean and comfortable.\u001b[0m\n",
      "\n",
      "\u001b[1m> Finished chain.\u001b[0m\n",
      "Reviews of the cleanliness of rooms have been positive, with guests noting that the rooms were clean and comfortable.\n"
     ]
    }
   ],
   "source": [
    "response = agent.run(\"Were there any complaints were there about the cleanliness of rooms?\")\n",
    "print(response)"
   ]
  },
  {
   "cell_type": "code",
   "execution_count": 10,
   "metadata": {},
   "outputs": [
    {
     "name": "stdout",
     "output_type": "stream",
     "text": [
      "\n",
      "\n",
      "\u001b[1m> Entering new  chain...\u001b[0m\n",
      "\u001b[32;1m\u001b[1;3m I need to find out what people have complained about in regards to stays.\n",
      "Action: Retrival QA System\n",
      "Action Input: What complaints have been made about stays?\u001b[0m\n",
      "Observation: \u001b[36;1m\u001b[1;3m Complaints have been made about the janitorial rating, the window coverings, the patio not being swept, and being placed next to an adjoining room with a pet and louder guests.\u001b[0m\n",
      "Thought:\u001b[32;1m\u001b[1;3m I now know the final answer\n",
      "Final Answer: People have complained about the janitorial rating, the window coverings, the patio not being swept, and being placed next to an adjoining room with a pet and louder guests.\u001b[0m\n",
      "\n",
      "\u001b[1m> Finished chain.\u001b[0m\n",
      "People have complained about the janitorial rating, the window coverings, the patio not being swept, and being placed next to an adjoining room with a pet and louder guests.\n"
     ]
    }
   ],
   "source": [
    "response = agent.run(\"What aspects of stays did receive complaints?\")\n",
    "print(response)"
   ]
  },
  {
   "cell_type": "code",
   "execution_count": 11,
   "metadata": {},
   "outputs": [
    {
     "name": "stdout",
     "output_type": "stream",
     "text": [
      "\n",
      "\n",
      "\u001b[1m> Entering new  chain...\u001b[0m\n",
      "\u001b[32;1m\u001b[1;3m I need to find a way to summarize the reviews.\n",
      "Action: Retrival QA System\n",
      "Action Input: Summarize reviews\u001b[0m\n",
      "Observation: \u001b[36;1m\u001b[1;3m Reviews of the experience were positive, and the reviewer would stay there again.\u001b[0m\n",
      "Thought:\u001b[32;1m\u001b[1;3m I now know the final answer\n",
      "Final Answer: The reviews of the experience were generally positive, and the reviewer would stay there again.\u001b[0m\n",
      "\n",
      "\u001b[1m> Finished chain.\u001b[0m\n",
      "The reviews of the experience were generally positive, and the reviewer would stay there again.\n"
     ]
    }
   ],
   "source": [
    "response = agent.run(\"Can you provide an overall summary of the reviews?\")\n",
    "print(response)"
   ]
  },
  {
   "cell_type": "code",
   "execution_count": null,
   "metadata": {},
   "outputs": [],
   "source": []
  }
 ],
 "metadata": {
  "kernelspec": {
   "display_name": "palm-chat",
   "language": "python",
   "name": "python3"
  },
  "language_info": {
   "codemirror_mode": {
    "name": "ipython",
    "version": 3
   },
   "file_extension": ".py",
   "mimetype": "text/x-python",
   "name": "python",
   "nbconvert_exporter": "python",
   "pygments_lexer": "ipython3",
   "version": "3.9.16"
  },
  "orig_nbformat": 4
 },
 "nbformat": 4,
 "nbformat_minor": 2
}
