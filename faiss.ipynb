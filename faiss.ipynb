{
 "cells": [
  {
   "cell_type": "code",
   "execution_count": 1,
   "metadata": {},
   "outputs": [],
   "source": [
    "from dotenv import load_dotenv\n",
    "import sys\n",
    "\n",
    "import faiss\n",
    "from langchain.embeddings.openai import OpenAIEmbeddings\n",
    "from langchain.vectorstores import DeepLake\n",
    "from langchain.text_splitter import RecursiveCharacterTextSplitter\n",
    "from langchain.llms import OpenAI\n",
    "from langchain.chains import RetrievalQA\n",
    "\n",
    "from langchain.agents import initialize_agent, Tool\n",
    "from langchain.agents import AgentType\n",
    "from langchain.vectorstores import FAISS\n",
    "\n",
    "sys.path.append('..')\n",
    "from backend.DB.db import Database"
   ]
  },
  {
   "cell_type": "code",
   "execution_count": 2,
   "metadata": {},
   "outputs": [],
   "source": [
    "load_dotenv()\n",
    "llm = OpenAI(model=\"text-davinci-003\", temperature=0)\n",
    "embeddings = OpenAIEmbeddings()\n",
    "text_splitter = RecursiveCharacterTextSplitter(chunk_size=500, chunk_overlap=0)\n"
   ]
  },
  {
   "cell_type": "code",
   "execution_count": 3,
   "metadata": {},
   "outputs": [],
   "source": [
    "db = Database()\n",
    "reviews = db.query_sql('SELECT title, review_text FROM raw_reviews')\n",
    "texts = [f'{title}. {text}' for title, text in list(reviews)]\n",
    "docs = text_splitter.create_documents(texts)\n",
    "db = FAISS.from_documents(documents=docs, embedding=embeddings)\n"
   ]
  },
  {
   "cell_type": "code",
   "execution_count": 4,
   "metadata": {},
   "outputs": [],
   "source": [
    "retrieval_qa = RetrievalQA.from_chain_type(\n",
    "    llm=llm,\n",
    "    chain_type='stuff',\n",
    "    retriever=db.as_retriever(search_type=\"similarity\", search_kwargs={\"k\":2})\n",
    ")\n",
    "\n",
    "tools = [\n",
    "    Tool(name='Retrival QA System',\n",
    "         func=retrieval_qa.run,\n",
    "         description=\"Answering questions\")\n",
    "]\n",
    "\n",
    "agent = initialize_agent(tools,\n",
    "                         llm,\n",
    "                         agent=AgentType.ZERO_SHOT_REACT_DESCRIPTION,\n",
    "                         verbose=True)"
   ]
  },
  {
   "cell_type": "code",
   "execution_count": 5,
   "metadata": {},
   "outputs": [
    {
     "name": "stdout",
     "output_type": "stream",
     "text": [
      "\n",
      "\n",
      "\u001b[1m> Entering new  chain...\u001b[0m\n",
      "\u001b[32;1m\u001b[1;3m I need to find reviews that talk about breakfast.\n",
      "Action: Retrival QA System\n",
      "Action Input: Reviews about breakfast\u001b[0m\n",
      "Observation: \u001b[36;1m\u001b[1;3m The reviews about breakfast were generally positive. The breakfast was limited but the food was good. The $14 voucher was nice but it didn't cover a meal and a coffee. It was still only a few bucks more which people couldn't complain about.\u001b[0m\n",
      "Thought:\u001b[32;1m\u001b[1;3m I now know the final answer\n",
      "Final Answer: Reviews about breakfast were generally positive, with the food being good and the $14 voucher being a nice bonus.\u001b[0m\n",
      "\n",
      "\u001b[1m> Finished chain.\u001b[0m\n",
      "Reviews about breakfast were generally positive, with the food being good and the $14 voucher being a nice bonus.\n"
     ]
    }
   ],
   "source": [
    "response = agent.run(\"Tell me about reviews that talk about breakfast?\")\n",
    "print(response)"
   ]
  },
  {
   "cell_type": "code",
   "execution_count": 6,
   "metadata": {},
   "outputs": [
    {
     "name": "stdout",
     "output_type": "stream",
     "text": [
      "\n",
      "\n",
      "\u001b[1m> Entering new  chain...\u001b[0m\n",
      "\u001b[32;1m\u001b[1;3m I should look for reviews about frontdesk service.\n",
      "Action: Retrival QA System\n",
      "Action Input: Reviews about frontdesk service\u001b[0m\n",
      "Observation: \u001b[36;1m\u001b[1;3m The reviews about the front desk service were positive. The customer service was described as fantastic and Breeanna was mentioned as being lovely and helpful. The front desk staff was also praised for providing a smooth refund process when the customer had to cancel a same day cash reservation.\u001b[0m\n",
      "Thought:\u001b[32;1m\u001b[1;3m I now know the final answer\n",
      "Final Answer: Reviews about frontdesk service are generally positive, with customers praising the customer service and Breeanna in particular. The front desk staff is also praised for providing a smooth refund process when necessary.\u001b[0m\n",
      "\n",
      "\u001b[1m> Finished chain.\u001b[0m\n",
      "Reviews about frontdesk service are generally positive, with customers praising the customer service and Breeanna in particular. The front desk staff is also praised for providing a smooth refund process when necessary.\n"
     ]
    }
   ],
   "source": [
    "response = agent.run(\"What do reviews say about frontdesk service?\")\n",
    "print(response)"
   ]
  },
  {
   "cell_type": "code",
   "execution_count": 7,
   "metadata": {},
   "outputs": [
    {
     "name": "stdout",
     "output_type": "stream",
     "text": [
      "\n",
      "\n",
      "\u001b[1m> Entering new  chain...\u001b[0m\n",
      "\u001b[32;1m\u001b[1;3m I need to find a way to summarize the reviews.\n",
      "Action: Retrival QA System\n",
      "Action Input: Summarize bad reviews\u001b[0m\n",
      "Observation: \u001b[36;1m\u001b[1;3m The reviews mentioned that the pool doesn't open until 9am, which is inconvenient for early risers, and the bathroom sink was clogged. Additionally, the market was on vacation and the janitorial rating was low, and the window coverings were not good. The place was a bit run-down for the price.\u001b[0m\n",
      "Thought:\u001b[32;1m\u001b[1;3m I now know the final answer\n",
      "Final Answer: The reviews mentioned that the pool doesn't open until 9am, which is inconvenient for early risers, the bathroom sink was clogged, the market was on vacation, the janitorial rating was low, and the window coverings were not good. The place was a bit run-down for the price.\u001b[0m\n",
      "\n",
      "\u001b[1m> Finished chain.\u001b[0m\n",
      "The reviews mentioned that the pool doesn't open until 9am, which is inconvenient for early risers, the bathroom sink was clogged, the market was on vacation, the janitorial rating was low, and the window coverings were not good. The place was a bit run-down for the price.\n"
     ]
    }
   ],
   "source": [
    "response = agent.run(\"Can you summarize bad reviews?\")\n",
    "print(response)"
   ]
  },
  {
   "cell_type": "code",
   "execution_count": null,
   "metadata": {},
   "outputs": [],
   "source": []
  }
 ],
 "metadata": {
  "kernelspec": {
   "display_name": "palm-chat",
   "language": "python",
   "name": "python3"
  },
  "language_info": {
   "codemirror_mode": {
    "name": "ipython",
    "version": 3
   },
   "file_extension": ".py",
   "mimetype": "text/x-python",
   "name": "python",
   "nbconvert_exporter": "python",
   "pygments_lexer": "ipython3",
   "version": "3.9.16"
  },
  "orig_nbformat": 4
 },
 "nbformat": 4,
 "nbformat_minor": 2
}
