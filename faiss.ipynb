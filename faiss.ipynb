{
 "cells": [
  {
   "cell_type": "code",
   "execution_count": 1,
   "metadata": {},
   "outputs": [
    {
     "name": "stderr",
     "output_type": "stream",
     "text": [
      "c:\\Users\\karen\\Anaconda3\\envs\\hotel-reviews\\lib\\site-packages\\deeplake\\util\\check_latest_version.py:32: UserWarning: A newer version of deeplake (3.6.11) is available. It's recommended that you update to the latest version using `pip install -U deeplake`.\n",
      "  warnings.warn(\n"
     ]
    }
   ],
   "source": [
    "from dotenv import load_dotenv\n",
    "import sys\n",
    "\n",
    "import faiss\n",
    "from langchain.embeddings.openai import OpenAIEmbeddings\n",
    "from langchain.vectorstores import DeepLake\n",
    "from langchain.text_splitter import RecursiveCharacterTextSplitter\n",
    "from langchain.llms import OpenAI\n",
    "from langchain.chains import RetrievalQA\n",
    "\n",
    "from langchain.agents import initialize_agent, Tool\n",
    "from langchain.agents import AgentType\n",
    "from langchain.vectorstores import FAISS\n",
    "\n",
    "sys.path.append('..')\n",
    "from backend.DB.db import Database"
   ]
  },
  {
   "cell_type": "code",
   "execution_count": 2,
   "metadata": {},
   "outputs": [],
   "source": [
    "load_dotenv()\n",
    "llm = OpenAI(model=\"text-davinci-003\", temperature=0)\n",
    "embeddings = OpenAIEmbeddings()\n",
    "text_splitter = RecursiveCharacterTextSplitter(chunk_size=500, chunk_overlap=0)\n"
   ]
  },
  {
   "cell_type": "code",
   "execution_count": 3,
   "metadata": {},
   "outputs": [],
   "source": [
    "db = Database()\n",
    "reviews = db.query_sql('SELECT title, review_text FROM raw_reviews')\n",
    "texts = [f'{title}. {text}' for title, text in list(reviews)]\n",
    "docs = text_splitter.create_documents(texts)\n",
    "db = FAISS.from_documents(documents=docs, embedding=embeddings)\n"
   ]
  },
  {
   "cell_type": "code",
   "execution_count": 4,
   "metadata": {},
   "outputs": [],
   "source": [
    "retrieval_qa = RetrievalQA.from_chain_type(\n",
    "    llm=llm,\n",
    "    chain_type='stuff',\n",
    "    retriever=db.as_retriever(search_type=\"similarity\", search_kwargs={\"k\":2})\n",
    ")\n",
    "\n",
    "tools = [\n",
    "    Tool(name='Retrival QA System',\n",
    "         func=retrieval_qa.run,\n",
    "         description=\"Answering questions\")\n",
    "]\n",
    "\n",
    "agent = initialize_agent(tools,\n",
    "                         llm,\n",
    "                         agent=AgentType.ZERO_SHOT_REACT_DESCRIPTION,\n",
    "                         verbose=True)"
   ]
  },
  {
   "cell_type": "code",
   "execution_count": 5,
   "metadata": {},
   "outputs": [
    {
     "name": "stdout",
     "output_type": "stream",
     "text": [
      "\n",
      "\n",
      "\u001b[1m> Entering new  chain...\u001b[0m\n",
      "\u001b[32;1m\u001b[1;3m I need to find reviews that mention bugs.\n",
      "Action: Retrival QA System\n",
      "Action Input: Reviews that mention bugs\u001b[0m\n",
      "Observation: \u001b[36;1m\u001b[1;3m It is possible that reviews online mentioned bugs in the hotel, but it is not certain.\u001b[0m\n",
      "Thought:\u001b[32;1m\u001b[1;3m I need to find more specific information.\n",
      "Action: Retrival QA System\n",
      "Action Input: Reviews that mention bugs in the hotel\u001b[0m\n",
      "Observation: \u001b[36;1m\u001b[1;3m It is possible that the reviews mentioned bugs in the hotel.\u001b[0m\n",
      "Thought:\u001b[32;1m\u001b[1;3m I now know the final answer.\n",
      "Final Answer: It is possible that reviews online mentioned bugs in the hotel.\u001b[0m\n",
      "\n",
      "\u001b[1m> Finished chain.\u001b[0m\n",
      "It is possible that reviews online mentioned bugs in the hotel.\n"
     ]
    }
   ],
   "source": [
    "response = agent.run(\"Tell me about reviews that talk about bugs?\")\n",
    "print(response)"
   ]
  },
  {
   "cell_type": "code",
   "execution_count": 6,
   "metadata": {},
   "outputs": [
    {
     "name": "stdout",
     "output_type": "stream",
     "text": [
      "\n",
      "\n",
      "\u001b[1m> Entering new  chain...\u001b[0m\n",
      "\u001b[32;1m\u001b[1;3m I should look for reviews about breakfast.\n",
      "Action: Retrival QA System\n",
      "Action Input: Reviews about breakfast\u001b[0m\n",
      "Observation: \u001b[36;1m\u001b[1;3m The reviews about breakfast were positive. The food was good, but the selection was limited. The $14 voucher was nice, but it didn't cover a meal and a coffee.\u001b[0m\n",
      "Thought:\u001b[32;1m\u001b[1;3m I now know the final answer.\n",
      "Final Answer: Reviews about breakfast were generally positive, but the selection was limited and the $14 voucher didn't cover a meal and a coffee.\u001b[0m\n",
      "\n",
      "\u001b[1m> Finished chain.\u001b[0m\n",
      "Reviews about breakfast were generally positive, but the selection was limited and the $14 voucher didn't cover a meal and a coffee.\n"
     ]
    }
   ],
   "source": [
    "response = agent.run(\"What do reviews say about breakfast?\")\n",
    "print(response)"
   ]
  },
  {
   "cell_type": "code",
   "execution_count": 7,
   "metadata": {},
   "outputs": [
    {
     "name": "stdout",
     "output_type": "stream",
     "text": [
      "\n",
      "\n",
      "\u001b[1m> Entering new  chain...\u001b[0m\n",
      "\u001b[32;1m\u001b[1;3m I need to find a way to summarize the reviews.\n",
      "Action: Retrival QA System\n",
      "Action Input: Summarize bad reviews\u001b[0m\n",
      "Observation: \u001b[36;1m\u001b[1;3m The reviews for this room were not good. People mentioned that the janitorial services were not up to par and that the window coverings were not sufficient to block out the residents in the back of the room. They recommended better window coverings and better cleaning sprays.\u001b[0m\n",
      "Thought:\u001b[32;1m\u001b[1;3m I now know the final answer\n",
      "Final Answer: The reviews for this room were not good, with people mentioning that the janitorial services were not up to par and that the window coverings were not sufficient to block out the residents in the back of the room. They recommended better window coverings and better cleaning sprays.\u001b[0m\n",
      "\n",
      "\u001b[1m> Finished chain.\u001b[0m\n",
      "The reviews for this room were not good, with people mentioning that the janitorial services were not up to par and that the window coverings were not sufficient to block out the residents in the back of the room. They recommended better window coverings and better cleaning sprays.\n"
     ]
    }
   ],
   "source": [
    "response = agent.run(\"Can you summarize bad reviews?\")\n",
    "print(response)"
   ]
  },
  {
   "cell_type": "code",
   "execution_count": 8,
   "metadata": {},
   "outputs": [
    {
     "name": "stdout",
     "output_type": "stream",
     "text": [
      "\n",
      "\n",
      "\u001b[1m> Entering new  chain...\u001b[0m\n",
      "\u001b[32;1m\u001b[1;3m I need to find out what people are saying about the cleanliness of rooms.\n",
      "Action: Retrival QA System\n",
      "Action Input: Reviews about the cleanliness of rooms\u001b[0m\n",
      "Observation: \u001b[36;1m\u001b[1;3m Reviews about the cleanliness of rooms were generally positive, with people noting that the rooms were clean and comfortable. However, some people noted that the window coverings were not sufficient to block out the residents in the back of the room, and that janitorial services could be improved.\u001b[0m\n",
      "Thought:\u001b[32;1m\u001b[1;3m I now need to calculate the average sentiment of the reviews.\n",
      "Action: Retrival QA System\n",
      "Action Input: Average sentiment of reviews about the cleanliness of rooms\u001b[0m\n",
      "Observation: \u001b[36;1m\u001b[1;3m Positive\u001b[0m\n",
      "Thought:\u001b[32;1m\u001b[1;3m I now know the final answer.\n",
      "Final Answer: The average sentiment about the cleanliness of rooms is positive.\u001b[0m\n",
      "\n",
      "\u001b[1m> Finished chain.\u001b[0m\n",
      "The average sentiment about the cleanliness of rooms is positive.\n"
     ]
    }
   ],
   "source": [
    "response = agent.run(\"What is the average sentiment about the cleanliness of rooms?\")\n",
    "print(response)"
   ]
  },
  {
   "cell_type": "code",
   "execution_count": 10,
   "metadata": {},
   "outputs": [
    {
     "name": "stdout",
     "output_type": "stream",
     "text": [
      "\n",
      "\n",
      "\u001b[1m> Entering new  chain...\u001b[0m\n",
      "\u001b[32;1m\u001b[1;3m I should look for reviews or feedback from customers.\n",
      "Action: Retrival QA System\n",
      "Action Input: Reviews of hotel rooms\u001b[0m\n",
      "Observation: \u001b[36;1m\u001b[1;3m Reviews of the hotel rooms were generally positive. People were pleased with the room size and cleanliness, and the hotel provided a white noise machine to address any road noise concerns. There was a mini fridge in the room, and the hotel had a good vibe and was family friendly.\u001b[0m\n",
      "Thought:\u001b[32;1m\u001b[1;3m I now know the final answer\n",
      "Final Answer: Most reviews of the hotel rooms were positive, with customers praising the room size and cleanliness.\u001b[0m\n",
      "\n",
      "\u001b[1m> Finished chain.\u001b[0m\n",
      "Most reviews of the hotel rooms were positive, with customers praising the room size and cleanliness.\n"
     ]
    }
   ],
   "source": [
    "response = agent.run(\"Were there any complaints were there about the cleanliness of rooms?\")\n",
    "print(response)"
   ]
  },
  {
   "cell_type": "code",
   "execution_count": 9,
   "metadata": {},
   "outputs": [
    {
     "name": "stdout",
     "output_type": "stream",
     "text": [
      "\n",
      "\n",
      "\u001b[1m> Entering new  chain...\u001b[0m\n",
      "\u001b[32;1m\u001b[1;3m I need to find out what people have complained about when it comes to stays.\n",
      "Action: Retrival QA System\n",
      "Action Input: What complaints have people had about stays?\u001b[0m\n",
      "Observation: \u001b[36;1m\u001b[1;3m People have complained about not having their patio swept, being placed next to an adjoining room with a pet and loud guests, not having enough consideration for guests without pets, and not having good window coverings.\u001b[0m\n",
      "Thought:\u001b[32;1m\u001b[1;3m I now know the final answer.\n",
      "Final Answer: People have complained about not having their patio swept, being placed next to an adjoining room with a pet and loud guests, not having enough consideration for guests without pets, and not having good window coverings.\u001b[0m\n",
      "\n",
      "\u001b[1m> Finished chain.\u001b[0m\n",
      "People have complained about not having their patio swept, being placed next to an adjoining room with a pet and loud guests, not having enough consideration for guests without pets, and not having good window coverings.\n"
     ]
    }
   ],
   "source": [
    "response = agent.run(\"What aspects of stays did receive complaints?\")\n",
    "print(response)"
   ]
  },
  {
   "cell_type": "code",
   "execution_count": 9,
   "metadata": {},
   "outputs": [
    {
     "name": "stdout",
     "output_type": "stream",
     "text": [
      "\n",
      "\n",
      "\u001b[1m> Entering new  chain...\u001b[0m\n",
      "\u001b[32;1m\u001b[1;3m I need to find a way to summarize the reviews.\n",
      "Action: Retrival QA System\n",
      "Action Input: Summarize reviews\u001b[0m\n",
      "Observation: \u001b[36;1m\u001b[1;3m Reviews for the room were generally negative, citing issues with janitorial services, and inadequate window coverings.\u001b[0m\n",
      "Thought:\u001b[32;1m\u001b[1;3m I now know the final answer\n",
      "Final Answer: The reviews for the room were generally negative, citing issues with janitorial services and inadequate window coverings.\u001b[0m\n",
      "\n",
      "\u001b[1m> Finished chain.\u001b[0m\n",
      "The reviews for the room were generally negative, citing issues with janitorial services and inadequate window coverings.\n"
     ]
    }
   ],
   "source": [
    "response = agent.run(\"Can you provide an overall summary of the reviews?\")\n",
    "print(response)"
   ]
  },
  {
   "cell_type": "code",
   "execution_count": null,
   "metadata": {},
   "outputs": [],
   "source": []
  }
 ],
 "metadata": {
  "kernelspec": {
   "display_name": "palm-chat",
   "language": "python",
   "name": "python3"
  },
  "language_info": {
   "codemirror_mode": {
    "name": "ipython",
    "version": 3
   },
   "file_extension": ".py",
   "mimetype": "text/x-python",
   "name": "python",
   "nbconvert_exporter": "python",
   "pygments_lexer": "ipython3",
   "version": "3.9.16"
  },
  "orig_nbformat": 4
 },
 "nbformat": 4,
 "nbformat_minor": 2
}
