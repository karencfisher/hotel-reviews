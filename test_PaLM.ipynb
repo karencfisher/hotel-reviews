{
 "cells": [
  {
   "cell_type": "code",
   "execution_count": 1,
   "metadata": {},
   "outputs": [],
   "source": [
    "import os\n",
    "import sys\n",
    "import re\n",
    "import json\n",
    "from pprint import pprint\n",
    "from dotenv import load_dotenv\n",
    "import google.generativeai as palm\n",
    "\n",
    "sys.path.append('..')\n",
    "from backend.DB.db import Database"
   ]
  },
  {
   "cell_type": "code",
   "execution_count": 2,
   "metadata": {},
   "outputs": [],
   "source": [
    "load_dotenv()\n",
    "api_key = os.getenv('PALM_API_KEY')\n",
    "palm.configure(api_key=api_key)"
   ]
  },
  {
   "cell_type": "code",
   "execution_count": 3,
   "metadata": {},
   "outputs": [
    {
     "name": "stdout",
     "output_type": "stream",
     "text": [
      "models/text-bison-001\n"
     ]
    }
   ],
   "source": [
    "models = [m for m in palm.list_models() if 'generateText' in m.supported_generation_methods]\n",
    "model = models[0].name\n",
    "print(model)"
   ]
  },
  {
   "cell_type": "code",
   "execution_count": 4,
   "metadata": {},
   "outputs": [
    {
     "name": "stdout",
     "output_type": "stream",
     "text": [
      "Your task is to analyze and summarize salient points under each topic from\n",
      "a review. These are your tasks:\n",
      "\n",
      "* Indicate if a topic is mentioned in the review: true or false\n",
      "\n",
      "* Evaluate if the guest was angry about that aspect of their stay:  true or false.\n",
      "\n",
      "* Evaluate the sentiment on a scale of 1 to 5. Scale is:\n",
      "\n",
      "0 - Not applicable\n",
      "1 - very negative\n",
      "2 - negative\n",
      "3 - neutral\n",
      "4 - positive\n",
      "5 - very positive\n",
      "\n",
      "* Summarize the guest's comments on the topic, in 2 - 3 sentences.\n",
      "\n",
      "Analyze the review below as instructed above, delimited by triple \n",
      "ticks. Format as JSON, exactly as follows. Include all topics and key/value pairs.\n",
      "\n",
      "{topic : {\"Relevant\": value, \"Angry\": value, \"Sentiment\": value, \"Summary\": summary}}\n",
      "\n",
      "Topics = ['amenities', 'frontdesk service', 'hotel condition', 'housekeeping', 'value']\n",
      "\n"
     ]
    }
   ],
   "source": [
    "db = Database()\n",
    "\n",
    "sql = '''\n",
    "SELECT topic_name FROM topics\n",
    "WHERE category = \"hotel\";\n",
    "'''\n",
    "\n",
    "topics = db.query_sql(sql)\n",
    "topics = [item[0] for item in topics]\n",
    "\n",
    "with open(os.path.join('backend', 'gpt-instructions.txt'), 'r') as FILE:\n",
    "    instructions = FILE.read()\n",
    "\n",
    "instructions = instructions.replace('%%topic_list%%', str(topics))\n",
    "print(instructions)"
   ]
  },
  {
   "cell_type": "code",
   "execution_count": 6,
   "metadata": {},
   "outputs": [
    {
     "data": {
      "text/plain": [
       "23"
      ]
     },
     "execution_count": 6,
     "metadata": {},
     "output_type": "execute_result"
    }
   ],
   "source": [
    "results = db.query('raw_reviews')\n",
    "len(results)"
   ]
  },
  {
   "cell_type": "code",
   "execution_count": 8,
   "metadata": {},
   "outputs": [
    {
     "name": "stdout",
     "output_type": "stream",
     "text": [
      "('Friendly and Clean Boutique Hotel. For a one-night stay when driving '\n",
      " 'through, this was OK. The staff was super friendly, and it was clean, though '\n",
      " 'small, and the property is off the main street, which was a plus. Moab is '\n",
      " 'generally very walkable, and the Gonzo Inn was a good stop after a day of '\n",
      " 'driving. The room was small, and we were given a room with a window next to '\n",
      " 'the headboard, which also overlooked the parking lot. There was the '\n",
      " 'potential for a noisy night, but it was okay. There were some loud talkers '\n",
      " 'outside, and after turning out the light and some groaning, it was quiet, '\n",
      " \"and we got a good night's sleep. Did not try the free breakfast, \"\n",
      " 'unfortunately. Overall, a bit pricey for one night, but it was clean, which '\n",
      " 'is why I chose it. ')\n",
      "========================\n",
      "\n",
      "\n",
      "{'amenities': {'Angry': False,\n",
      "               'Relevant': True,\n",
      "               'Sentiment': 3,\n",
      "               'Summary': 'The hotel has free breakfast, but the guest did not '\n",
      "                          'try it.'},\n",
      " 'frontdesk service': {'Angry': False,\n",
      "                       'Relevant': True,\n",
      "                       'Sentiment': 4,\n",
      "                       'Summary': 'The staff was super friendly.'},\n",
      " 'hotel condition': {'Angry': False,\n",
      "                     'Relevant': True,\n",
      "                     'Sentiment': 4,\n",
      "                     'Summary': 'The hotel is clean and small.'},\n",
      " 'housekeeping': {'Angry': False,\n",
      "                  'Relevant': True,\n",
      "                  'Sentiment': 4,\n",
      "                  'Summary': 'The room was clean.'},\n",
      " 'value': {'Angry': False,\n",
      "           'Relevant': True,\n",
      "           'Sentiment': 3,\n",
      "           'Summary': 'The hotel is a bit pricey, but it is clean.'}}\n"
     ]
    }
   ],
   "source": [
    "\n",
    "review = f\"{results[22]['title']}. {results[22]['review_text']}\"\n",
    "pprint(review)\n",
    "print('========================\\n\\n')\n",
    "prompt = f'{instructions}\\n\\n=====================\\n\\n{review}'\n",
    "\n",
    "\n",
    "completion = palm.generate_text(\n",
    "    model=model,\n",
    "    prompt=prompt,\n",
    "    temperature=0\n",
    ")\n",
    "\n",
    "read_review = completion.result\n",
    "read_review = read_review.replace('\\'', '\\\"')\n",
    "read_review = read_review.replace('\\n', '')\n",
    "read_review = read_review.replace('True', 'true')\n",
    "read_review = read_review.replace('False', 'false')\n",
    "\n",
    "pprint(json.loads(read_review))"
   ]
  }
 ],
 "metadata": {
  "kernelspec": {
   "display_name": "hotel-reviews",
   "language": "python",
   "name": "python3"
  },
  "language_info": {
   "codemirror_mode": {
    "name": "ipython",
    "version": 3
   },
   "file_extension": ".py",
   "mimetype": "text/x-python",
   "name": "python",
   "nbconvert_exporter": "python",
   "pygments_lexer": "ipython3",
   "version": "3.9.16"
  },
  "orig_nbformat": 4
 },
 "nbformat": 4,
 "nbformat_minor": 2
}
