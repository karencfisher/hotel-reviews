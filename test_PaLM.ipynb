{
 "cells": [
  {
   "cell_type": "code",
   "execution_count": 27,
   "metadata": {},
   "outputs": [],
   "source": [
    "import os\n",
    "import sys\n",
    "import json\n",
    "from dotenv import load_dotenv\n",
    "import google.generativeai as palm\n",
    "\n",
    "sys.path.append('..')\n",
    "from backend.DB.db import Database"
   ]
  },
  {
   "cell_type": "code",
   "execution_count": 15,
   "metadata": {},
   "outputs": [],
   "source": [
    "load_dotenv()\n",
    "api_key = os.getenv('PALM_API_KEY')\n",
    "palm.configure(api_key=api_key)"
   ]
  },
  {
   "cell_type": "code",
   "execution_count": 22,
   "metadata": {},
   "outputs": [
    {
     "name": "stdout",
     "output_type": "stream",
     "text": [
      "models/text-bison-001\n"
     ]
    }
   ],
   "source": [
    "models = [m for m in palm.list_models() if 'generateText' in m.supported_generation_methods]\n",
    "model = models[0].name\n",
    "print(model)"
   ]
  },
  {
   "cell_type": "code",
   "execution_count": 47,
   "metadata": {},
   "outputs": [
    {
     "name": "stdout",
     "output_type": "stream",
     "text": [
      "Your task is to analyze and summarize salient points under each topic from\n",
      "a review. These are your tasks:\n",
      "\n",
      "* Indicate if a topic is mentioned in the review: true or false\n",
      "\n",
      "* Evaluate if the guest was angry about that aspect of their stay:  true or false.\n",
      "\n",
      "* Evaluate the sentiment on a scale of 1 to 5. Scale is:\n",
      "\n",
      "0 - Not applicable\n",
      "1 - very negative\n",
      "2 - negative\n",
      "3 - neutral\n",
      "4 - positive\n",
      "5 - very positive\n",
      "\n",
      "* Summarize the guest's comments on the topic, in 1-2 sentences.\n",
      "\n",
      "Analyze the review below as instructed above, delimited by triple \n",
      "ticks. Format as JSON, exactly as follows. Include all key/value pairs.\n",
      "\n",
      "{topic : {\"Relevant\": value, \"Angry\": value, \"Sentiment\": value, \"Summary\": summary}}\n",
      "\n",
      "Topics = ['amenities', 'frontdesk service', 'hotel condition', 'housekeeping', 'value']\n",
      "\n"
     ]
    }
   ],
   "source": [
    "db = Database()\n",
    "\n",
    "sql = '''\n",
    "SELECT topic_name FROM topics\n",
    "WHERE category = \"hotel\";\n",
    "'''\n",
    "\n",
    "topics = db.query_sql(sql)\n",
    "topics = [item[0] for item in topics]\n",
    "\n",
    "with open(os.path.join('backend', 'gpt-instructions.txt'), 'r') as FILE:\n",
    "    instructions = FILE.read()\n",
    "\n",
    "instructions = instructions.replace('%%topic_list%%', str(topics))\n",
    "print(instructions)"
   ]
  },
  {
   "cell_type": "code",
   "execution_count": 81,
   "metadata": {},
   "outputs": [
    {
     "data": {
      "text/plain": [
       "{'amenities': {'Relevant': True,\n",
       "  'Angry': False,\n",
       "  'Sentiment': 4,\n",
       "  'Summary': 'Room has kettle tv and fridge. Black out curtains were a good amenity.'},\n",
       " 'frontdesk service': {'Relevant': False,\n",
       "  'Angry': False,\n",
       "  'Sentiment': 0,\n",
       "  'Summary': ''},\n",
       " 'hotel condition': {'Relevant': True,\n",
       "  'Angry': False,\n",
       "  'Sentiment': 4,\n",
       "  'Summary': 'Overall room was clean and everything worked.'},\n",
       " 'housekeeping': {'Relevant': True,\n",
       "  'Angry': False,\n",
       "  'Sentiment': 3,\n",
       "  'Summary': 'Housekeeping only operates on alternate days.'},\n",
       " 'value': {'Relevant': True,\n",
       "  'Angry': False,\n",
       "  'Sentiment': 3,\n",
       "  'Summary': 'satisfactory experience but it’s priced on the higher side. Almost identical experiences can be had at lower prices elsewhere in moab.'}}"
      ]
     },
     "execution_count": 81,
     "metadata": {},
     "output_type": "execute_result"
    }
   ],
   "source": [
    "results = db.query('raw_reviews')\n",
    "review = f\"{results[0]['title']}. {results[0]['review_text']}\"\n",
    "\n",
    "prompt = f'{instructions}\\n\\n======================\\n\\n ```{review}```'\n",
    "completion = palm.generate_text(\n",
    "    model=model,\n",
    "    prompt=prompt,\n",
    "    temperature=0\n",
    ")\n",
    "\n",
    "read_review = completion.result.replace('\\'', '\\\"')\n",
    "read_review = read_review.replace('\\n', '')\n",
    "\n",
    "json.loads(read_review)"
   ]
  },
  {
   "cell_type": "code",
   "execution_count": 79,
   "metadata": {},
   "outputs": [
    {
     "name": "stdout",
     "output_type": "stream",
     "text": [
      "Your task is to analyze and summarize salient points under each topic from\n",
      "a review. These are your tasks:\n",
      "\n",
      "* Indicate if a topic is mentioned in the review: true or false\n",
      "\n",
      "* Evaluate if the guest was angry about that aspect of their stay:  true or false.\n",
      "\n",
      "* Evaluate the sentiment on a scale of 1 to 5. Scale is:\n",
      "\n",
      "0 - Not applicable\n",
      "1 - very negative\n",
      "2 - negative\n",
      "3 - neutral\n",
      "4 - positive\n",
      "5 - very positive\n",
      "\n",
      "* Summarize the guest's comments on the topic, in 1-2 sentences.\n",
      "\n",
      "Analyze the review below as instructed above, delimited by triple \n",
      "ticks. Format as JSON, exactly as follows. Include all key/value pairs.\n",
      "\n",
      "{topic : {\"Relevant\": value, \"Angry\": value, \"Sentiment\": value, \"Summary\": summary}}\n",
      "\n",
      "Topics = ['amenities', 'frontdesk service', 'hotel condition', 'housekeeping', 'value']\n",
      "\n",
      "\n",
      "======================\n",
      "\n",
      " ``` Stay at this Hotel. We stayed for four nights at this wonderful hotel. The gave as the room 244, which is as the end of the corridor far from elevator and ice machines on the second floor. Zero noise, great beds, straight out to the pool and the free laundry room. The breakfast is good and the staff excellent. I like to mention specially Sadi, Fortune, Alma and Bree Ana for their help.```\n"
     ]
    }
   ],
   "source": [
    "print(prompt)"
   ]
  },
  {
   "cell_type": "code",
   "execution_count": 83,
   "metadata": {},
   "outputs": [
    {
     "data": {
      "text/plain": [
       "Completion(candidates=[{'output': \"{'amenities': {'Relevant': true, 'Angry': false, 'Sentiment': 4, 'Summary': 'Room has kettle tv and fridge. Black out curtains were a good amenity.'}, 'frontdesk service': {'Relevant': false, 'Angry': false, 'Sentiment': 0, 'Summary': ''}, 'hotel condition': {'Relevant': true, 'Angry': false, 'Sentiment': 4, 'Summary': 'Overall room was clean and everything worked.'}, 'housekeeping': {'Relevant': true, 'Angry': false, 'Sentiment': 3, 'Summary': 'Housekeeping only operates on alternate days.'}, 'value': {'Relevant': true, 'Angry': false, 'Sentiment': 3, 'Summary': 'satisfactory experience but it’s priced on the higher side. \\nAlmost identical experiences can be had at lower prices elsewhere in moab.'}}\", 'safety_ratings': [{'category': <HarmCategory.HARM_CATEGORY_DEROGATORY: 1>, 'probability': <HarmProbability.NEGLIGIBLE: 1>}, {'category': <HarmCategory.HARM_CATEGORY_TOXICITY: 2>, 'probability': <HarmProbability.NEGLIGIBLE: 1>}, {'category': <HarmCategory.HARM_CATEGORY_VIOLENCE: 3>, 'probability': <HarmProbability.NEGLIGIBLE: 1>}, {'category': <HarmCategory.HARM_CATEGORY_SEXUAL: 4>, 'probability': <HarmProbability.NEGLIGIBLE: 1>}, {'category': <HarmCategory.HARM_CATEGORY_MEDICAL: 5>, 'probability': <HarmProbability.NEGLIGIBLE: 1>}, {'category': <HarmCategory.HARM_CATEGORY_DANGEROUS: 6>, 'probability': <HarmProbability.NEGLIGIBLE: 1>}]}], result=\"{'amenities': {'Relevant': true, 'Angry': false, 'Sentiment': 4, 'Summary': 'Room has kettle tv and fridge. Black out curtains were a good amenity.'}, 'frontdesk service': {'Relevant': false, 'Angry': false, 'Sentiment': 0, 'Summary': ''}, 'hotel condition': {'Relevant': true, 'Angry': false, 'Sentiment': 4, 'Summary': 'Overall room was clean and everything worked.'}, 'housekeeping': {'Relevant': true, 'Angry': false, 'Sentiment': 3, 'Summary': 'Housekeeping only operates on alternate days.'}, 'value': {'Relevant': true, 'Angry': false, 'Sentiment': 3, 'Summary': 'satisfactory experience but it’s priced on the higher side. \\nAlmost identical experiences can be had at lower prices elsewhere in moab.'}}\", filters=[], safety_feedback=[])"
      ]
     },
     "execution_count": 83,
     "metadata": {},
     "output_type": "execute_result"
    }
   ],
   "source": [
    "completion"
   ]
  },
  {
   "cell_type": "code",
   "execution_count": null,
   "metadata": {},
   "outputs": [],
   "source": []
  }
 ],
 "metadata": {
  "kernelspec": {
   "display_name": "hotel-reviews",
   "language": "python",
   "name": "python3"
  },
  "language_info": {
   "codemirror_mode": {
    "name": "ipython",
    "version": 3
   },
   "file_extension": ".py",
   "mimetype": "text/x-python",
   "name": "python",
   "nbconvert_exporter": "python",
   "pygments_lexer": "ipython3",
   "version": "3.9.16"
  },
  "orig_nbformat": 4
 },
 "nbformat": 4,
 "nbformat_minor": 2
}
