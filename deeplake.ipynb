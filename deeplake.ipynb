{
 "cells": [
  {
   "cell_type": "code",
   "execution_count": 5,
   "metadata": {},
   "outputs": [],
   "source": [
    "from dotenv import load_dotenv\n",
    "import sys\n",
    "\n",
    "from langchain.embeddings.openai import OpenAIEmbeddings\n",
    "from langchain.vectorstores import DeepLake\n",
    "from langchain.text_splitter import RecursiveCharacterTextSplitter\n",
    "from langchain.llms import OpenAI\n",
    "from langchain.chains import RetrievalQA\n",
    "\n",
    "from langchain.agents import initialize_agent, Tool\n",
    "from langchain.agents import AgentType\n",
    "\n",
    "sys.path.append('..')\n",
    "from backend.DB.db import Database"
   ]
  },
  {
   "cell_type": "code",
   "execution_count": 6,
   "metadata": {},
   "outputs": [],
   "source": [
    "load_dotenv()\n",
    "llm = OpenAI(model=\"text-davinci-003\", temperature=0)\n",
    "embeddings = OpenAIEmbeddings()\n",
    "text_splitter = RecursiveCharacterTextSplitter(chunk_size=500, chunk_overlap=0)\n"
   ]
  },
  {
   "cell_type": "code",
   "execution_count": 7,
   "metadata": {},
   "outputs": [],
   "source": [
    "db = Database()\n",
    "reviews = db.query_sql('SELECT title, review_text FROM raw_reviews')\n",
    "texts = [f'{title}. {text}' for title, text in list(reviews)]\n",
    "docs = text_splitter.create_documents(texts)"
   ]
  },
  {
   "cell_type": "code",
   "execution_count": 8,
   "metadata": {},
   "outputs": [
    {
     "name": "stdout",
     "output_type": "stream",
     "text": [
      "Deep Lake Dataset in hub://karencfisher/hotel-reviews already exists, loading from the storage\n"
     ]
    },
    {
     "name": "stderr",
     "output_type": "stream",
     "text": [
      "-"
     ]
    },
    {
     "name": "stdout",
     "output_type": "stream",
     "text": [
      "Dataset(path='hub://karencfisher/hotel-reviews', tensors=['embedding', 'id', 'metadata', 'text'])\n",
      "\n",
      "  tensor      htype      shape      dtype  compression\n",
      "  -------    -------    -------    -------  ------- \n",
      " embedding  embedding  (86, 1536)  float32   None   \n",
      "    id        text      (86, 1)      str     None   \n",
      " metadata     json      (86, 1)      str     None   \n",
      "   text       text      (86, 1)      str     None   \n"
     ]
    },
    {
     "name": "stderr",
     "output_type": "stream",
     "text": [
      " \r"
     ]
    },
    {
     "data": {
      "text/plain": [
       "['5781adff-1453-11ee-8f9c-5065f31a3725',\n",
       " '5781ae00-1453-11ee-aebc-5065f31a3725',\n",
       " '5781ae01-1453-11ee-94d0-5065f31a3725',\n",
       " '5781ae02-1453-11ee-ad08-5065f31a3725',\n",
       " '5781ae03-1453-11ee-b7b5-5065f31a3725',\n",
       " '5781ae04-1453-11ee-8407-5065f31a3725',\n",
       " '5781ae05-1453-11ee-8c3a-5065f31a3725',\n",
       " '5781ae06-1453-11ee-bab0-5065f31a3725',\n",
       " '5781ae07-1453-11ee-a452-5065f31a3725',\n",
       " '5781ae08-1453-11ee-8e30-5065f31a3725',\n",
       " '5781ae09-1453-11ee-8f45-5065f31a3725',\n",
       " '5781ae0a-1453-11ee-b36a-5065f31a3725',\n",
       " '5781ae0b-1453-11ee-bdec-5065f31a3725',\n",
       " '5781ae0c-1453-11ee-891e-5065f31a3725',\n",
       " '5781ae0d-1453-11ee-b367-5065f31a3725',\n",
       " '5781ae0e-1453-11ee-a2c0-5065f31a3725',\n",
       " '5781ae0f-1453-11ee-9cab-5065f31a3725',\n",
       " '5781ae10-1453-11ee-85d6-5065f31a3725',\n",
       " '5781ae11-1453-11ee-8526-5065f31a3725',\n",
       " '5781ae12-1453-11ee-bf90-5065f31a3725',\n",
       " '5781ae13-1453-11ee-947b-5065f31a3725',\n",
       " '5781ae14-1453-11ee-b801-5065f31a3725',\n",
       " '5781ae15-1453-11ee-a082-5065f31a3725',\n",
       " '5781ae16-1453-11ee-bfde-5065f31a3725',\n",
       " '5781ae17-1453-11ee-bbb3-5065f31a3725',\n",
       " '5781ae18-1453-11ee-9f50-5065f31a3725',\n",
       " '5781d50b-1453-11ee-86fa-5065f31a3725',\n",
       " '5781d50c-1453-11ee-934a-5065f31a3725',\n",
       " '5781d50d-1453-11ee-a347-5065f31a3725',\n",
       " '5781d50e-1453-11ee-92a1-5065f31a3725',\n",
       " '5781d50f-1453-11ee-ad38-5065f31a3725',\n",
       " '5781d510-1453-11ee-87fc-5065f31a3725',\n",
       " '5781d511-1453-11ee-a309-5065f31a3725',\n",
       " '5781d512-1453-11ee-954b-5065f31a3725',\n",
       " '5781d513-1453-11ee-b420-5065f31a3725',\n",
       " '5781d514-1453-11ee-bb06-5065f31a3725',\n",
       " '5781d515-1453-11ee-a294-5065f31a3725',\n",
       " '5781d516-1453-11ee-8d01-5065f31a3725',\n",
       " '5781d517-1453-11ee-bdaf-5065f31a3725',\n",
       " '5781d518-1453-11ee-b329-5065f31a3725',\n",
       " '5781d519-1453-11ee-a69a-5065f31a3725',\n",
       " '5781d51a-1453-11ee-a305-5065f31a3725',\n",
       " '5781d51b-1453-11ee-a59b-5065f31a3725',\n",
       " '5781d51c-1453-11ee-9268-5065f31a3725',\n",
       " '5781d51d-1453-11ee-9c7a-5065f31a3725',\n",
       " '5781d51e-1453-11ee-85dd-5065f31a3725',\n",
       " '5781d51f-1453-11ee-a629-5065f31a3725',\n",
       " '5781d520-1453-11ee-b311-5065f31a3725',\n",
       " '5781d521-1453-11ee-98a2-5065f31a3725',\n",
       " '5781d522-1453-11ee-944a-5065f31a3725',\n",
       " '5781d523-1453-11ee-a4d7-5065f31a3725',\n",
       " '5781d524-1453-11ee-8f7e-5065f31a3725',\n",
       " '5781d525-1453-11ee-9294-5065f31a3725',\n",
       " '5781d526-1453-11ee-8bc4-5065f31a3725',\n",
       " '5781d527-1453-11ee-8c1e-5065f31a3725',\n",
       " '5781d528-1453-11ee-b492-5065f31a3725',\n",
       " '5781d529-1453-11ee-8bf3-5065f31a3725',\n",
       " '5781d52a-1453-11ee-821c-5065f31a3725',\n",
       " '5781d52b-1453-11ee-a737-5065f31a3725',\n",
       " '5781d52c-1453-11ee-becd-5065f31a3725',\n",
       " '5781d52d-1453-11ee-aa06-5065f31a3725',\n",
       " '5781d52e-1453-11ee-90a4-5065f31a3725',\n",
       " '5781d52f-1453-11ee-9e7f-5065f31a3725',\n",
       " '5781d530-1453-11ee-846b-5065f31a3725',\n",
       " '5781d531-1453-11ee-85bf-5065f31a3725',\n",
       " '5781d532-1453-11ee-ab70-5065f31a3725',\n",
       " '5781d533-1453-11ee-b07c-5065f31a3725',\n",
       " '5781d534-1453-11ee-8855-5065f31a3725',\n",
       " '5781d535-1453-11ee-b81d-5065f31a3725',\n",
       " '5781d536-1453-11ee-8992-5065f31a3725',\n",
       " '5781d537-1453-11ee-bb18-5065f31a3725',\n",
       " '5781d538-1453-11ee-8279-5065f31a3725',\n",
       " '5781d539-1453-11ee-b5ea-5065f31a3725',\n",
       " '5781d53a-1453-11ee-8522-5065f31a3725',\n",
       " '5781d53b-1453-11ee-b97b-5065f31a3725',\n",
       " '5781d53c-1453-11ee-acc1-5065f31a3725',\n",
       " '5781d53d-1453-11ee-bb13-5065f31a3725',\n",
       " '5781d53e-1453-11ee-b514-5065f31a3725',\n",
       " '5781d53f-1453-11ee-a299-5065f31a3725',\n",
       " '5781d540-1453-11ee-abbe-5065f31a3725',\n",
       " '5781d541-1453-11ee-990a-5065f31a3725',\n",
       " '5781d542-1453-11ee-b59f-5065f31a3725',\n",
       " '5781d543-1453-11ee-ad23-5065f31a3725',\n",
       " '5781d544-1453-11ee-a192-5065f31a3725',\n",
       " '5781d545-1453-11ee-91a3-5065f31a3725',\n",
       " '5781d546-1453-11ee-a165-5065f31a3725']"
      ]
     },
     "execution_count": 8,
     "metadata": {},
     "output_type": "execute_result"
    }
   ],
   "source": [
    "my_activeloop_org_id = \"karencfisher\" \n",
    "my_activeloop_dataset_name = \"hotel-reviews\"\n",
    "# my_activeloop_dataset_name = \"meditate_text\"\n",
    "dataset_path = f\"hub://{my_activeloop_org_id}/{my_activeloop_dataset_name}\"\n",
    "db = DeepLake(dataset_path=dataset_path, embedding_function=embeddings)\n",
    "\n",
    "# add documents to our Deep Lake dataset\n",
    "# db.add_documents(docs)"
   ]
  },
  {
   "cell_type": "code",
   "execution_count": 9,
   "metadata": {},
   "outputs": [],
   "source": [
    "retrieval_qa = RetrievalQA.from_chain_type(\n",
    "    llm=llm,\n",
    "    chain_type='stuff',\n",
    "    retriever=db.as_retriever()\n",
    ")\n",
    "\n",
    "tools = [\n",
    "    Tool(name='Retrival QA System',\n",
    "         func=retrieval_qa.run,\n",
    "         description=\"Answering questions\")\n",
    "]\n",
    "\n",
    "agent = initialize_agent(tools,\n",
    "                         llm,\n",
    "                         agent=AgentType.ZERO_SHOT_REACT_DESCRIPTION,\n",
    "                         verbose=True)"
   ]
  },
  {
   "cell_type": "code",
   "execution_count": 10,
   "metadata": {},
   "outputs": [
    {
     "name": "stdout",
     "output_type": "stream",
     "text": [
      "\n",
      "\n",
      "\u001b[1m> Entering new  chain...\u001b[0m\n",
      "\u001b[32;1m\u001b[1;3m I need to find reviews that talk about breakfast.\n",
      "Action: Retrival QA System\n",
      "Action Input: reviews that talk about breakfast\u001b[0m\n",
      "Observation: \u001b[36;1m\u001b[1;3m The reviews mention that the breakfast was a mix of hot and cold items with homemade green chili sauce, and that there were also packaged grab bags available. They also mention that the $14 voucher didn't cover a meal and a coffee, but it was still only a few bucks more.\u001b[0m\n",
      "Thought:\u001b[32;1m\u001b[1;3m I now know the final answer.\n",
      "Final Answer: Reviews mention that the breakfast was a mix of hot and cold items with homemade green chili sauce, and that there were also packaged grab bags available. They also mention that the $14 voucher didn't cover a meal and a coffee, but it was still only a few bucks more.\u001b[0m\n",
      "\n",
      "\u001b[1m> Finished chain.\u001b[0m\n",
      "Reviews mention that the breakfast was a mix of hot and cold items with homemade green chili sauce, and that there were also packaged grab bags available. They also mention that the $14 voucher didn't cover a meal and a coffee, but it was still only a few bucks more.\n"
     ]
    }
   ],
   "source": [
    "response = agent.run(\"Tell me about reviews that talk about breakfast?\")\n",
    "print(response)"
   ]
  },
  {
   "cell_type": "code",
   "execution_count": 11,
   "metadata": {},
   "outputs": [
    {
     "name": "stdout",
     "output_type": "stream",
     "text": [
      "\n",
      "\n",
      "\u001b[1m> Entering new  chain...\u001b[0m\n",
      "\u001b[32;1m\u001b[1;3m I should look for reviews about frontdesk service.\n",
      "Action: Retrival QA System\n",
      "Action Input: Reviews about frontdesk service\u001b[0m\n",
      "Observation: \u001b[36;1m\u001b[1;3m The reviews about the front desk service were positive. Customers commented that the staff was friendly and helpful, providing a smooth refund process and complimentary suite upgrade. They also mentioned that the staff was quick to address any issues, such as noise from the road.\u001b[0m\n",
      "Thought:\u001b[32;1m\u001b[1;3m I now know the final answer\n",
      "Final Answer: The reviews about the front desk service were positive, with customers commenting that the staff was friendly and helpful, providing a smooth refund process and complimentary suite upgrade. They also mentioned that the staff was quick to address any issues, such as noise from the road.\u001b[0m\n",
      "\n",
      "\u001b[1m> Finished chain.\u001b[0m\n",
      "The reviews about the front desk service were positive, with customers commenting that the staff was friendly and helpful, providing a smooth refund process and complimentary suite upgrade. They also mentioned that the staff was quick to address any issues, such as noise from the road.\n"
     ]
    }
   ],
   "source": [
    "response = agent.run(\"What do reviews say about frontdesk service?\")\n",
    "print(response)"
   ]
  }
 ],
 "metadata": {
  "kernelspec": {
   "display_name": "palm-chat",
   "language": "python",
   "name": "python3"
  },
  "language_info": {
   "codemirror_mode": {
    "name": "ipython",
    "version": 3
   },
   "file_extension": ".py",
   "mimetype": "text/x-python",
   "name": "python",
   "nbconvert_exporter": "python",
   "pygments_lexer": "ipython3",
   "version": "3.9.16"
  },
  "orig_nbformat": 4
 },
 "nbformat": 4,
 "nbformat_minor": 2
}
